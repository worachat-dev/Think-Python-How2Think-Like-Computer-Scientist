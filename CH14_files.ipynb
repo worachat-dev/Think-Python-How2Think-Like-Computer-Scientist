{
 "cells": [
  {
   "cell_type": "markdown",
   "metadata": {},
   "source": [
    "This work is licensed under the Creative Commons Attribution-NonCommercial 3.0 Unported License. To view a copy of this license, visit http://creativecommons.org/licenses/by-nc/3.0/ or send a letter to Creative Commons, PO Box 1866, Mountain View, CA 94042, USA."
   ]
  },
  {
   "cell_type": "markdown",
   "metadata": {},
   "source": [
    "# Files\n",
    "\n",
    "This chapter introduces the idea of “persistent” programs that keep data in permanent storage,\n",
    "and shows how to use different kinds of permanent storage, like files and databases.\n",
    "\n",
    "### 14.1 Persistence\n",
    "\n",
    "Most of the programs we have seen so far are transient in the sense that they run for a short\n",
    "time and produce some output, but when they end, their data disappears. If you run the\n",
    "program again, it starts with a clean slate.\n",
    "\n",
    "Other programs are **persistent**: they run for a long time (or all the time); they keep at least\n",
    "some of their data in permanent storage (a hard drive, for example); and if they shut down\n",
    "and restart, they pick up where they left off.\n",
    "\n",
    "Examples of persistent programs are operating systems, which run pretty much whenever\n",
    "a computer is on, and web servers, which run all the time, waiting for requests to come in\n",
    "on the network.\n",
    "\n",
    "One of the simplest ways for programs to maintain their data is by reading and writing\n",
    "text files. We have already seen programs that read text files; in this chapter we will see\n",
    "programs that write them.\n",
    "\n",
    "An alternative is to store the state of the program in a database. In this chapter I will present\n",
    "a simple database and a module, pickle, that makes it easy to store program data.\n",
    "\n",
    "\n",
    "### 14.2 Reading and writing\n",
    "\n",
    "A text file is a sequence of characters stored on a permanent medium like a hard drive,\n",
    "flash memory, or CD-ROM.We saw how to open and read a file in Section 9.1.\n",
    "\n",
    "To write a file, you have to open it with mode 'w' as a second parameter:"
   ]
  },
  {
   "cell_type": "code",
   "execution_count": null,
   "metadata": {},
   "outputs": [],
   "source": [
    "fout = open('output.txt', 'w')"
   ]
  },
  {
   "cell_type": "markdown",
   "metadata": {},
   "source": [
    "If the file already exists, opening it in write mode clears out the old data and starts fresh,\n",
    "so be careful! If the file doesn’t exist, a new one is created.\n",
    "\n",
    "open returns a file object that provides methods for working with the file. The write\n",
    "method puts data into the file."
   ]
  },
  {
   "cell_type": "code",
   "execution_count": null,
   "metadata": {},
   "outputs": [],
   "source": [
    "line1 = \"This here's the wattle,\\n\"\n",
    "fout.write(line1)"
   ]
  },
  {
   "cell_type": "markdown",
   "metadata": {},
   "source": [
    "The return value is the number of characters that were written. The file object keeps track\n",
    "of where it is, so if you call write again, it adds the new data to the end of the file."
   ]
  },
  {
   "cell_type": "code",
   "execution_count": null,
   "metadata": {},
   "outputs": [],
   "source": [
    "line2 = \"the emblem of our land.\\n\"\n",
    "fout.write(line2)"
   ]
  },
  {
   "cell_type": "markdown",
   "metadata": {},
   "source": [
    "When you are done writing, you should close the file."
   ]
  },
  {
   "cell_type": "code",
   "execution_count": null,
   "metadata": {},
   "outputs": [],
   "source": [
    "fout.close() "
   ]
  },
  {
   "cell_type": "markdown",
   "metadata": {},
   "source": [
    "If you don’t close the file, it gets closed for you when the program ends. In Jupyter Notebooks  the program doesn't end until until you exit and halt or you restart the kernel. Spyder IDE has a similar behavior. It's a good idea to get into the habit of closing your files in these environments.\n",
    "\n",
    "\n",
    "### 14.3 Format operator\n",
    "\n",
    "The argument of write has to be a string, so if we want to put other values in a file, we\n",
    "have to convert them to strings. The easiest way to do that is with str:"
   ]
  },
  {
   "cell_type": "code",
   "execution_count": null,
   "metadata": {},
   "outputs": [],
   "source": [
    "x = 52\n",
    "fout.write(str(x)) # rerun the first code cell if you closed the file"
   ]
  },
  {
   "cell_type": "markdown",
   "metadata": {},
   "source": [
    "An alternative is to use the **format operator**, %. When applied to integers, % is the modulus\n",
    "operator. But when the first operand is a string, % is the format operator.\n",
    "\n",
    "The first operand is the **format string**, which contains one or more **format sequences**,\n",
    "which specify how the second operand is formatted. The result is a string.\n",
    "\n",
    "For example, the format sequence '%d' means that the second operand should be formatted\n",
    "as a decimal integer:"
   ]
  },
  {
   "cell_type": "code",
   "execution_count": null,
   "metadata": {},
   "outputs": [],
   "source": [
    "camels = 42\n",
    "'%d' % camels"
   ]
  },
  {
   "cell_type": "markdown",
   "metadata": {},
   "source": [
    "The result is the string '42', which is not to be confused with the integer value 42.\n",
    "\n",
    "A format sequence can appear anywhere in the string, so you can embed a value in a\n",
    "sentence:"
   ]
  },
  {
   "cell_type": "code",
   "execution_count": null,
   "metadata": {},
   "outputs": [],
   "source": [
    "'I have spotted %d camels.' % camels"
   ]
  },
  {
   "cell_type": "markdown",
   "metadata": {},
   "source": [
    "If there is more than one format sequence in the string, the second argument has to be a\n",
    "tuple. Each format sequence is matched with an element of the tuple, in order.\n",
    "\n",
    "The following example uses '%d' to format an integer, '%g' to format a floating-point number,\n",
    "and '%s' to format a string:"
   ]
  },
  {
   "cell_type": "code",
   "execution_count": null,
   "metadata": {},
   "outputs": [],
   "source": [
    "'In %d years I have spotted %g %s.' % (3, 0.1, 'camels')\n"
   ]
  },
  {
   "cell_type": "markdown",
   "metadata": {},
   "source": [
    "The number of elements in the tuple has to match the number of format sequences in the\n",
    "string. Also, the types of the elements have to match the format sequences:"
   ]
  },
  {
   "cell_type": "code",
   "execution_count": null,
   "metadata": {},
   "outputs": [],
   "source": [
    "'%d %d %d' % (1, 2)"
   ]
  },
  {
   "cell_type": "code",
   "execution_count": null,
   "metadata": {},
   "outputs": [],
   "source": [
    "'%d' % 'dollars'"
   ]
  },
  {
   "cell_type": "markdown",
   "metadata": {},
   "source": [
    "In the first example, there aren’t enough elements; in the second, the element is the wrong\n",
    "type.\n",
    "\n",
    "For more information on the format operator, see https://docs.python.org/3/library/stdtypes.html#printf-style-string-formatting. A more powerful alternative is\n",
    "the string format method, which you can read about at https://docs.python.org/3/library/stdtypes.html#str.format.\n",
    "\n",
    "\n",
    "### 14.4 Filenames and paths\n",
    "\n",
    "Files are organized into **directories** (also called “folders”). Every running program has a\n",
    "“current directory”, which is the default directory for most operations. For example, when\n",
    "you open a file for reading, Python looks for it in the current directory.\n",
    "\n",
    "The os module provides functions for working with files and directories (“os” stands for\n",
    "“operating system”). os.getcwd returns the name of the current directory:\n"
   ]
  },
  {
   "cell_type": "code",
   "execution_count": null,
   "metadata": {},
   "outputs": [],
   "source": [
    "import os\n",
    "cwd = os.getcwd()\n",
    "cwd"
   ]
  },
  {
   "cell_type": "markdown",
   "metadata": {},
   "source": [
    "cwd stands for “current working directory”. The result in this example is /home/dinsdale,\n",
    "which is the home directory of a user named dinsdale.\n",
    "\n",
    "A string like '/home/dinsdale' that identifies a file or directory is called a **path**.\n",
    "\n",
    "A simple filename, like memo.txt is also considered a path, but it is a **relative path** because\n",
    "it relates to the current directory. If the current directory is /home/dinsdale, the filename\n",
    "memo.txt would refer to /home/dinsdale/memo.txt.\n",
    "\n",
    "A path that begins with / does not depend on the current directory; it is called an **absolute path**. To find the absolute path to a file, you can use os.path.abspath:"
   ]
  },
  {
   "cell_type": "code",
   "execution_count": null,
   "metadata": {},
   "outputs": [],
   "source": [
    "os.path.abspath('word.txt')"
   ]
  },
  {
   "cell_type": "markdown",
   "metadata": {},
   "source": [
    "os.path provides other functions for working with filenames and paths. For example,\n",
    "os.path.exists checks whether a file or directory exists:"
   ]
  },
  {
   "cell_type": "code",
   "execution_count": null,
   "metadata": {},
   "outputs": [],
   "source": [
    "os.path.exists('D:\\\\DataScience\\\\Python4ML\\\\dota2Train.csv') # type in a file on your system here"
   ]
  },
  {
   "cell_type": "markdown",
   "metadata": {},
   "source": [
    "If it exists, os.path.isdir checks whether it’s a directory:"
   ]
  },
  {
   "cell_type": "code",
   "execution_count": null,
   "metadata": {},
   "outputs": [],
   "source": [
    "os.path.isdir('word.txt')"
   ]
  },
  {
   "cell_type": "code",
   "execution_count": null,
   "metadata": {},
   "outputs": [],
   "source": [
    "os.path.isdir('D:\\\\DataScience\\\\Python4ML')"
   ]
  },
  {
   "cell_type": "markdown",
   "metadata": {},
   "source": [
    "Similarly, os.path.isfile checks whether it’s a file.\n",
    "\n",
    "os.listdir returns a list of the files (and other directories) in the given directory:"
   ]
  },
  {
   "cell_type": "code",
   "execution_count": null,
   "metadata": {},
   "outputs": [],
   "source": [
    "os.listdir(cwd)"
   ]
  },
  {
   "cell_type": "markdown",
   "metadata": {},
   "source": [
    "To demonstrate these functions, the following example “walks” through a directory, prints\n",
    "the names of all the files, and calls itself recursively on all the directories."
   ]
  },
  {
   "cell_type": "code",
   "execution_count": null,
   "metadata": {},
   "outputs": [],
   "source": [
    "def walk(dirname):\n",
    "    for name in os.listdir(dirname):\n",
    "        path = os.path.join(dirname, name)\n",
    "        if os.path.isfile(path):\n",
    "            print(path, end= \" \")\n",
    "        else:\n",
    "            walk(path)\n",
    "\n",
    "walk('.')"
   ]
  },
  {
   "cell_type": "markdown",
   "metadata": {},
   "source": [
    "os.path.join takes a directory and a file name and joins them into a complete path.\n",
    "\n",
    "The os module provides a function called walk that is similar to this one but more versatile.\n",
    "As an exercise, read the documentation and use it to print the names of the\n",
    "files in a given directory and its subdirectories. \n",
    "\n",
    "Solution http://thinkpython2.com/code/walk.py."
   ]
  },
  {
   "cell_type": "code",
   "execution_count": null,
   "metadata": {},
   "outputs": [],
   "source": []
  },
  {
   "cell_type": "markdown",
   "metadata": {},
   "source": [
    "### 14.5 Catching exceptions\n",
    "\n",
    "A lot of things can go wrong when you try to read and write files. If you try to open a file\n",
    "that doesn’t exist, you get an IOError:"
   ]
  },
  {
   "cell_type": "code",
   "execution_count": null,
   "metadata": {
    "scrolled": true
   },
   "outputs": [],
   "source": [
    "fin = open('bad_file')"
   ]
  },
  {
   "cell_type": "markdown",
   "metadata": {},
   "source": [
    "If you don’t have permission to access a file:"
   ]
  },
  {
   "cell_type": "code",
   "execution_count": null,
   "metadata": {},
   "outputs": [],
   "source": [
    "fout = open('regular-expressions-cheat-sheet-v2.pdf', 'w') # you'll have to create a read only file to see this error "
   ]
  },
  {
   "cell_type": "markdown",
   "metadata": {},
   "source": [
    "And if you try to open a directory for reading, you get:"
   ]
  },
  {
   "cell_type": "code",
   "execution_count": null,
   "metadata": {},
   "outputs": [],
   "source": [
    "fin = open('D:\\\\DataScience\\\\Python_Intro')"
   ]
  },
  {
   "cell_type": "markdown",
   "metadata": {},
   "source": [
    "IsADirectoryError: [Errno 21] Is a directory: '/home'\n",
    "\n",
    "To avoid these errors, you could use functions like os.path.exists and os.path.isfile,\n",
    "but it would take a lot of time and code to check all the possibilities (if “Errno 21” is any\n",
    "indication, there are at least 21 things that can go wrong).\n",
    "\n",
    "It is better to go ahead and try—and deal with problems if they happen—which is exactly\n",
    "what the try statement does. The syntax is similar to an if...else statement:"
   ]
  },
  {
   "cell_type": "code",
   "execution_count": null,
   "metadata": {},
   "outputs": [],
   "source": [
    "try:\n",
    "    fin = open('bad_file')\n",
    "except:\n",
    "    print('Something went wrong.')\n"
   ]
  },
  {
   "cell_type": "markdown",
   "metadata": {},
   "source": [
    "Python starts by executing the try clause. If all goes well, it skips the except clause and\n",
    "proceeds. If an exception occurs, it jumps out of the try clause and runs the except clause.\n",
    "\n",
    "Handling an exception with a try statement is called **catching** an exception. In this example,\n",
    "the except clause prints an error message that is not very helpful. In general, catching\n",
    "an exception gives you a chance to fix the problem, or try again, or at least end the program\n",
    "gracefully.\n",
    "\n",
    "\n",
    "### 14.6 Databases\n",
    "\n",
    "A **database** is a file that is organized for storing data. Many databases are organized like a\n",
    "dictionary in the sense that they map from keys to values. The biggest difference between\n",
    "a database and a dictionary is that the database is on disk (or other permanent storage), so\n",
    "it persists after the program ends.\n",
    "\n",
    "The module dbm provides an interface for creating and updating database files. As an\n",
    "example, I’ll create a database that contains captions for image files.\n",
    "\n",
    "Opening a database is similar to opening other files:"
   ]
  },
  {
   "cell_type": "code",
   "execution_count": null,
   "metadata": {},
   "outputs": [],
   "source": [
    "import dbm\n",
    "db = dbm.open('captions', 'c')"
   ]
  },
  {
   "cell_type": "markdown",
   "metadata": {},
   "source": [
    "The mode 'c' means that the database should be created if it doesn’t already exist. The\n",
    "result is a database object that can be used (for most operations) like a dictionary.\n",
    "\n",
    "When you create a new item, dbm updates the database file."
   ]
  },
  {
   "cell_type": "code",
   "execution_count": null,
   "metadata": {},
   "outputs": [],
   "source": [
    "db['cleese.png'] = 'Photo of John Cleese.'"
   ]
  },
  {
   "cell_type": "markdown",
   "metadata": {},
   "source": [
    "When you access one of the items, dbm reads the file:"
   ]
  },
  {
   "cell_type": "code",
   "execution_count": null,
   "metadata": {},
   "outputs": [],
   "source": [
    "db['cleese.png']"
   ]
  },
  {
   "cell_type": "markdown",
   "metadata": {},
   "source": [
    "The result is a **bytes object**, which is why it begins with b. A bytes object is similar to a\n",
    "string in many ways. When you get farther into Python, the difference becomes important,\n",
    "but for now we can ignore it.\n",
    "\n",
    "If you make another assignment to an existing key, dbm replaces the old value:"
   ]
  },
  {
   "cell_type": "code",
   "execution_count": null,
   "metadata": {},
   "outputs": [],
   "source": [
    "db['cleese.png'] = 'Photo of John Cleese doing a silly walk.'\n",
    "db['cleese.png']"
   ]
  },
  {
   "cell_type": "markdown",
   "metadata": {},
   "source": [
    "Some dictionary methods, like keys and items, don’t work with database objects. But\n",
    "iteration with a for loop works:"
   ]
  },
  {
   "cell_type": "code",
   "execution_count": null,
   "metadata": {},
   "outputs": [],
   "source": [
    "for key in db:\n",
    "    print(key, db[key])"
   ]
  },
  {
   "cell_type": "markdown",
   "metadata": {},
   "source": [
    "As with other files, you should close the database when you are done:"
   ]
  },
  {
   "cell_type": "code",
   "execution_count": null,
   "metadata": {},
   "outputs": [],
   "source": [
    "db.close()"
   ]
  },
  {
   "cell_type": "markdown",
   "metadata": {},
   "source": [
    "### 14.7 Pickling\n",
    "\n",
    "A limitation of dbm is that the keys and values have to be strings or bytes. If you try to use\n",
    "any other type, you get an error.\n",
    "\n",
    "The pickle module can help. It translates almost any type of object into a string suitable\n",
    "for storage in a database, and then translates strings back into objects.\n",
    "\n",
    "pickle.dumps takes an object as a parameter and returns a string representation (dumps is\n",
    "short for “dump string”):"
   ]
  },
  {
   "cell_type": "code",
   "execution_count": null,
   "metadata": {},
   "outputs": [],
   "source": [
    "import pickle\n",
    "t = [1, 2, 3]\n",
    "pickle.dumps(t)"
   ]
  },
  {
   "cell_type": "markdown",
   "metadata": {},
   "source": [
    "The format isn’t obvious to human readers; it is meant to be easy for pickle to interpret.\n",
    "pickle.loads (“load string”) reconstitutes the object:"
   ]
  },
  {
   "cell_type": "code",
   "execution_count": null,
   "metadata": {},
   "outputs": [],
   "source": [
    "t1 = [1, 2, 3]\n",
    "s = pickle.dumps(t1)\n",
    "t2 = pickle.loads(s)\n",
    "t2"
   ]
  },
  {
   "cell_type": "markdown",
   "metadata": {},
   "source": [
    "Although the new object has the same value as the old, it is not (in general) the same object:"
   ]
  },
  {
   "cell_type": "code",
   "execution_count": null,
   "metadata": {},
   "outputs": [],
   "source": [
    "t1 == t2"
   ]
  },
  {
   "cell_type": "code",
   "execution_count": null,
   "metadata": {},
   "outputs": [],
   "source": [
    "t1 is t2"
   ]
  },
  {
   "cell_type": "markdown",
   "metadata": {},
   "source": [
    "In other words, pickling and then unpickling has the same effect as copying the object.\n",
    "\n",
    "You can use pickle to store non-strings in a database. In fact, this combination is so common\n",
    "that it has been encapsulated in a module called shelve.\n",
    "\n",
    "\n",
    "### 14.8 Pipes\n",
    "\n",
    "Most operating systems provide a command-line interface, also known as a **shell**. Shells\n",
    "usually provide commands to navigate the file system and launch applications. For example,\n",
    "in Unix you can change directories with cd, display the contents of a directory with ls,\n",
    "and launch a web browser by typing (for example) firefox.\n",
    "\n",
    "Any program that you can launch from the shell can also be launched from Python using\n",
    "a **pipe object**, which represents a running program.\n",
    "\n",
    "For example, the Unix command ls -l normally displays the contents of the current directory\n",
    "in long format. You can launch ls with os.popen:"
   ]
  },
  {
   "cell_type": "code",
   "execution_count": null,
   "metadata": {},
   "outputs": [],
   "source": [
    "import subprocess\n",
    "cmd = 'dir' # windows\n",
    "# cmd = 'ls -l'  # unix/mac\n",
    "fp = os.popen(cmd)"
   ]
  },
  {
   "cell_type": "markdown",
   "metadata": {},
   "source": [
    "popen is deprecated now, which means we are supposed to stop using it and start using the subprocess\n",
    "module. But for simple cases, subprocess can be more complicated than necessary. \n",
    "\n",
    "The argument is a string that contains a shell command. The return value is an object that\n",
    "behaves like an open file. You can read the output from the ls process one line at a time\n",
    "with readline or get the whole thing at once with read:"
   ]
  },
  {
   "cell_type": "code",
   "execution_count": null,
   "metadata": {},
   "outputs": [],
   "source": [
    "res = fp.read()\n",
    "res"
   ]
  },
  {
   "cell_type": "markdown",
   "metadata": {},
   "source": [
    "When you are done, you close the pipe like a file:"
   ]
  },
  {
   "cell_type": "code",
   "execution_count": null,
   "metadata": {},
   "outputs": [],
   "source": [
    "stat = fp.close()\n",
    "print(stat)"
   ]
  },
  {
   "cell_type": "markdown",
   "metadata": {},
   "source": [
    "The return value is the final status of the ls process; None means that it ended normally\n",
    "(with no errors).\n",
    "\n",
    "For example, most Unix systems provide a command called md5sum that reads the contents\n",
    "of a file and computes a “checksum”. You can read about MD5 at http://en.wikipedia.\n",
    "org/wiki/Md5. This command provides an efficient way to check whether two files have\n",
    "the same contents. The probability that different contents yield the same checksum is very\n",
    "small (that is, unlikely to happen before the universe collapses).\n",
    "\n",
    "You can use a pipe to run md5sum from Python and get the result:"
   ]
  },
  {
   "cell_type": "code",
   "execution_count": null,
   "metadata": {},
   "outputs": [],
   "source": [
    "filename = 'words.txt'\n",
    "# cmd = 'md5sum ' + filename # unix/ mac?\n",
    "cmd = 'CertUtil -hashfile ' + filename + ' MD5'  # windows\n",
    "fp = os.popen(cmd)\n",
    "res = fp.read()\n",
    "stat = fp.close()\n",
    "print(res)\n",
    "print(stat)"
   ]
  },
  {
   "cell_type": "markdown",
   "metadata": {},
   "source": [
    "### 14.9 Writing modules\n",
    "\n",
    "Any file that contains Python code can be imported as a module. For example, suppose\n",
    "you have a file named wc.py with the following code:"
   ]
  },
  {
   "cell_type": "code",
   "execution_count": null,
   "metadata": {},
   "outputs": [],
   "source": [
    "# code to create file with the code\n",
    "\n",
    "create_file = []\n",
    "create_file.append(\"def linecount(filename):\\n\")\n",
    "create_file.append(\"    count = 0\\n\")\n",
    "create_file.append(\"    for line in open(filename):\\n\")\n",
    "create_file.append(\"        count += 1\\n\")\n",
    "create_file.append(\"    return count\\n\")\n",
    "create_file.append(\"\\n\")\n",
    "create_file.append(\"print(linecount('wc.py'))\")\n",
    "\n",
    "new_file = open('wc.py', 'w')\n",
    "for line in create_file:\n",
    "    new_file.write(line)\n",
    "new_file.close()\n",
    "\n",
    "# actual code\n",
    "\n",
    "def linecount(filename):\n",
    "    count = 0\n",
    "    for line in open(filename):\n",
    "        count += 1\n",
    "    return count\n",
    "\n",
    "print(linecount('wc.py'))"
   ]
  },
  {
   "cell_type": "markdown",
   "metadata": {},
   "source": [
    "If you run this program, it reads itself and prints the number of lines in the file, which is 7. You can also import it like this:"
   ]
  },
  {
   "cell_type": "code",
   "execution_count": null,
   "metadata": {},
   "outputs": [],
   "source": [
    "import wc"
   ]
  },
  {
   "cell_type": "markdown",
   "metadata": {},
   "source": [
    "Now you have a module object wc:"
   ]
  },
  {
   "cell_type": "code",
   "execution_count": null,
   "metadata": {},
   "outputs": [],
   "source": [
    "wc"
   ]
  },
  {
   "cell_type": "markdown",
   "metadata": {},
   "source": [
    "The module object provides linecount:"
   ]
  },
  {
   "cell_type": "code",
   "execution_count": null,
   "metadata": {},
   "outputs": [],
   "source": [
    "wc.linecount('wc.py')"
   ]
  },
  {
   "cell_type": "markdown",
   "metadata": {},
   "source": [
    "So that’s how you write modules in Python.\n",
    "\n",
    "The only problem with this example is that when you import the module it runs the test\n",
    "code at the bottom. Normally when you import a module, it defines new functions but it\n",
    "doesn’t run them.\n",
    "\n",
    "Programs that will be imported as modules often use the following idiom:\n",
    "```python\n",
    "if __name__ == '__main__':\n",
    "    print(linecount('wc.py'))```\n",
    "\\_\\_name\\_\\_ is a built-in variable that is set when the program starts. If the program is running\n",
    "as a script, \\_\\_name\\_\\_ has the value '\\_\\_main\\_\\_'; in that case, the test code runs. Otherwise,\n",
    "if the module is being imported, the test code is skipped.\n",
    "\n",
    "As an exercise, type this example into a file named wc.py and run it as a script. Then run\n",
    "the Python interpreter and import wc. What is the value of \\_\\_name\\_\\_ when the module is\n",
    "being imported?\n",
    "\n",
    "Warning: If you import a module that has already been imported, Python does nothing. It\n",
    "does not re-read the file, even if it has changed.\n",
    "\n",
    "If you want to reload a module, you can use the built-in function reload, but it can be\n",
    "tricky, so the safest thing to do is restart the interpreter and then import the module again.\n",
    "\n",
    "\n",
    "### 14.10 Debugging\n",
    "\n",
    "When you are reading and writing files, you might run into problems with whitespace.\n",
    "These errors can be hard to debug because spaces, tabs and newlines are normally invisible:"
   ]
  },
  {
   "cell_type": "code",
   "execution_count": null,
   "metadata": {},
   "outputs": [],
   "source": [
    "s = '1 2\\t 3\\n 4'\n",
    "print(s)"
   ]
  },
  {
   "cell_type": "markdown",
   "metadata": {},
   "source": [
    "The built-in function repr can help. It takes any object as an argument and returns a string\n",
    "representation of the object. For strings, it represents whitespace characters with backslash\n",
    "sequences:"
   ]
  },
  {
   "cell_type": "code",
   "execution_count": null,
   "metadata": {},
   "outputs": [],
   "source": [
    "print(repr(s))"
   ]
  },
  {
   "cell_type": "markdown",
   "metadata": {},
   "source": [
    "This can be helpful for debugging.\n",
    "\n",
    "One other problem you might run into is that different systems use different characters to\n",
    "indicate the end of a line. Some systems use a newline, represented \\n. Others use a return\n",
    "character, represented \\r. Some use both. If you move files between different systems,\n",
    "these inconsistencies can cause problems.\n",
    "\n",
    "For most systems, there are applications to convert from one format to another. You can\n",
    "find them (and read more about this issue) at http://en.wikipedia.org/wiki/Newline.\n",
    "Or, of course, you could write one yourself.\n",
    "\n",
    "\n",
    "### 14.11 Glossary\n",
    "\n",
    "**persistent:** Pertaining to a program that runs indefinitely and keeps at least some of its\n",
    "data in permanent storage.\n",
    "\n",
    "**format operator:** An operator, %, that takes a format string and a tuple and generates a\n",
    "string that includes the elements of the tuple formatted as specified by the format\n",
    "string.\n",
    "\n",
    "**format string:** A string, used with the format operator, that contains format sequences.\n",
    "\n",
    "**format sequence:** A sequence of characters in a format string, like %d, that specifies how a\n",
    "value should be formatted.\n",
    "\n",
    "**text file:** A sequence of characters stored in permanent storage like a hard drive.\n",
    "\n",
    "**directory:** A named collection of files, also called a folder.\n",
    "\n",
    "**path:** A string that identifies a file.\n",
    "\n",
    "**relative path:** A path that starts from the current directory.\n",
    "\n",
    "**absolute path:** A path that starts from the topmost directory in the file system.\n",
    "\n",
    "**catch:** To prevent an exception from terminating a program using the try and except statements.\n",
    "\n",
    "**database:** A file whose contents are organized like a dictionary with keys that correspond\n",
    "to values.\n",
    "\n",
    "**bytes object:** An object similar to a string.\n",
    "\n",
    "**shell:** A program that allows users to type commands and then executes them by starting\n",
    "other programs.\n",
    "\n",
    "**pipe object:** An object that represents a running program, allowing a Python program to\n",
    "run commands and read the results.\n",
    "\n",
    "\n",
    "### 14.12 Exercises\n",
    "\n",
    "#### Exercise 14.1. \n",
    "Write a function called sed that takes as arguments a pattern string, a replacement\n",
    "string, and two filenames; it should read the first file and write the contents into the second file\n",
    "(creating it if necessary). If the pattern string appears anywhere in the file, it should be replaced\n",
    "with the replacement string.\n",
    "\n",
    "If an error occurs while opening, reading, writing or closing files, your program should catch the\n",
    "exception, print an error message, and exit.\n",
    "\n",
    "Solution: http://thinkpython2.com/code/sed.py .\n"
   ]
  },
  {
   "cell_type": "code",
   "execution_count": null,
   "metadata": {},
   "outputs": [],
   "source": []
  },
  {
   "cell_type": "markdown",
   "metadata": {},
   "source": [
    "#### Exercise 14.2. \n",
    "If you download my solution to Exercise 12.2 from http: //thinkpython2.com/code/anagram_sets.py , you’ll see that it creates a dictionary that maps from a sorted string of\n",
    "letters to the list of words that can be spelled with those letters. For example, 'opst' maps to the\n",
    "list ['opts', 'post', 'pots', 'spot', 'stop', 'tops'].\n",
    "\n",
    "Write a module that imports anagram_sets and provides two new functions: store_anagrams\n",
    "should store the anagram dictionary in a “shelf”; read_anagrams should look up a word and return\n",
    "a list of its anagrams. \n",
    "\n",
    "Solution: http://thinkpython2.com/code/anagram_db.py ."
   ]
  },
  {
   "cell_type": "code",
   "execution_count": null,
   "metadata": {},
   "outputs": [],
   "source": []
  },
  {
   "cell_type": "markdown",
   "metadata": {},
   "source": [
    "#### Exercise 14.3. \n",
    "In a large collection of MP3 files, there may be more than one copy of the same song,\n",
    "stored in different directories or with different file names. The goal of this exercise is to search for\n",
    "duplicates.\n",
    "\n",
    "1. Write a program that searches a directory and all of its subdirectories, recursively, and returns\n",
    "a list of complete paths for all files with a given suffix (like .mp3). Hint: os.path provides\n",
    "several useful functions for manipulating file and path names.<br><br>\n",
    "2. To recognize duplicates, you can use md5sum to compute a “checksum” for each files. If two\n",
    "files have the same checksum, they probably have the same contents.<br><br>\n",
    "3. To double-check, you can use the Unix command diff.\n",
    "\n",
    "Solution: http://thinkpython2.com/code/find_duplicates.py ."
   ]
  },
  {
   "cell_type": "code",
   "execution_count": null,
   "metadata": {},
   "outputs": [],
   "source": []
  },
  {
   "cell_type": "markdown",
   "metadata": {},
   "source": [
    "Source material from:\n",
    "\n",
    "Think Python<br>\n",
    "How to Think Like a Computer Scientist<br>\n",
    "2nd Edition, Version 2.2.23<br>\n",
    "Allen Downey<br>\n",
    "Copyright © 2015 Allen Downey. <br>\n",
    "<br>\n",
    "Source material used under the Creative Commons Attribution-NonCommercial 3.0 Unported License. To view a copy of this license, visit http://creativecommons.org/licenses/by-nc/3.0/ or send a letter to Creative Commons, PO Box 1866, Mountain View, CA 94042, USA.\n",
    "\n",
    "\n",
    "Adapted to Jupyter Notebooks with additional material by Warren Watts, Copyright © 2018"
   ]
  }
 ],
 "metadata": {
  "kernelspec": {
   "display_name": "Python 3",
   "language": "python",
   "name": "python3"
  },
  "language_info": {
   "codemirror_mode": {
    "name": "ipython",
    "version": 3
   },
   "file_extension": ".py",
   "mimetype": "text/x-python",
   "name": "python",
   "nbconvert_exporter": "python",
   "pygments_lexer": "ipython3",
   "version": "3.7.0"
  }
 },
 "nbformat": 4,
 "nbformat_minor": 2
}
