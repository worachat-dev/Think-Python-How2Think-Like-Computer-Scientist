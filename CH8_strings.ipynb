{
 "cells": [
  {
   "cell_type": "markdown",
   "metadata": {},
   "source": [
    "This work is licensed under the Creative Commons Attribution-NonCommercial 3.0 Unported License. To view a copy of this license, visit http://creativecommons.org/licenses/by-nc/3.0/ or send a letter to Creative Commons, PO Box 1866, Mountain View, CA 94042, USA."
   ]
  },
  {
   "cell_type": "markdown",
   "metadata": {},
   "source": [
    "# Strings\n",
    "\n",
    "Strings are not like integers, floats, and booleans. A string is a sequence, which means it is\n",
    "an ordered collection of other values. In this chapter you’ll see how to access the characters\n",
    "that make up a string, and you’ll learn about some of the methods strings provide.\n",
    "\n",
    "\n",
    "### 8.1 A string is a sequence\n",
    "\n",
    "A string is a **sequence** of characters. You can access the characters one at a time with the\n",
    "bracket operator:"
   ]
  },
  {
   "cell_type": "code",
   "execution_count": null,
   "metadata": {},
   "outputs": [],
   "source": [
    "fruit = 'banana'\n",
    "letter = fruit[1]"
   ]
  },
  {
   "cell_type": "markdown",
   "metadata": {},
   "source": [
    "The second statement selects character number 1 from fruit and assigns it to letter.\n",
    "\n",
    "The expression in brackets is called an index. The index indicates which character in the\n",
    "sequence you want (hence the name).\n",
    "\n",
    "But you might not get what you expect:"
   ]
  },
  {
   "cell_type": "code",
   "execution_count": null,
   "metadata": {},
   "outputs": [],
   "source": [
    "letter"
   ]
  },
  {
   "cell_type": "code",
   "execution_count": null,
   "metadata": {},
   "outputs": [],
   "source": [
    "For most people, the first letter of 'banana' is b, not a. But for computer scientists, the\n",
    "index is an offset from the beginning of the string, and the offset of the first letter is zero."
   ]
  },
  {
   "cell_type": "code",
   "execution_count": null,
   "metadata": {},
   "outputs": [],
   "source": [
    "letter = fruit[0]\n",
    "letter"
   ]
  },
  {
   "cell_type": "markdown",
   "metadata": {},
   "source": [
    "So b is the 0th letter (“zero-eth”) of 'banana', a is the 1th letter (“one-eth”), and n is the 2th\n",
    "letter (“two-eth”).\n",
    "\n",
    "As an index you can use an expression that contains variables and operators:"
   ]
  },
  {
   "cell_type": "code",
   "execution_count": null,
   "metadata": {},
   "outputs": [],
   "source": [
    "i = 0 \n",
    "print(i, fruit[i]) # i \"indexes\" the first letter of fruit\n",
    "i = i + 1  # add one to i\n",
    "print(i, fruit[i]) # i \"indexes\" the second letter of fruit\n",
    "i += 1 # add one to i a different way\n",
    "print(i, fruit[i]) # i \"indexes\" the third letter of fruit"
   ]
  },
  {
   "cell_type": "markdown",
   "metadata": {},
   "source": [
    "But the value of the index has to be an integer. Otherwise you get:"
   ]
  },
  {
   "cell_type": "code",
   "execution_count": null,
   "metadata": {},
   "outputs": [],
   "source": [
    "letter = fruit[1.5]"
   ]
  },
  {
   "cell_type": "markdown",
   "metadata": {},
   "source": [
    "### 8.2 len\n",
    "\n",
    "len is a built-in function that returns the number of characters in a string:"
   ]
  },
  {
   "cell_type": "code",
   "execution_count": null,
   "metadata": {},
   "outputs": [],
   "source": [
    "fruit = 'banana'\n",
    "len(fruit)"
   ]
  },
  {
   "cell_type": "markdown",
   "metadata": {},
   "source": [
    "To get the last letter of a string, you might be tempted to try something like this:"
   ]
  },
  {
   "cell_type": "code",
   "execution_count": null,
   "metadata": {},
   "outputs": [],
   "source": [
    "length = len(fruit)\n",
    "last = fruit[length]"
   ]
  },
  {
   "cell_type": "markdown",
   "metadata": {},
   "source": [
    "The reason for the IndexError is that there is no letter in 'banana' with the index 6. Since\n",
    "we started counting at zero, the six letters are numbered 0 to 5. To get the last character,\n",
    "you have to subtract 1 from length:"
   ]
  },
  {
   "cell_type": "code",
   "execution_count": null,
   "metadata": {},
   "outputs": [],
   "source": [
    "last = fruit[length-1]\n",
    "last"
   ]
  },
  {
   "cell_type": "markdown",
   "metadata": {},
   "source": [
    "Or you can use negative indices, which count backward from the end of the string. The\n",
    "expression fruit[-1] yields the last letter, fruit[-2] yields the second to last, and so on."
   ]
  },
  {
   "cell_type": "code",
   "execution_count": null,
   "metadata": {},
   "outputs": [],
   "source": [
    "i = -1\n",
    "print(i, fruit[i]) # i \"indexes\" the last letter of fruit\n",
    "i = i - 1  # subtract one from i\n",
    "print(i, fruit[i]) # i \"indexes\" the second to last letter of fruit\n",
    "i -= 1 # subtract one from i a different way\n",
    "print(i, fruit[i]) # i \"indexes\" the third to last letter of fruit"
   ]
  },
  {
   "cell_type": "markdown",
   "metadata": {},
   "source": [
    "### 8.3 Traversal with a for loop\n",
    "\n",
    "A lot of computations involve processing a string one character at a time. Often they start\n",
    "at the beginning, select each character in turn, do something to it, and continue until the\n",
    "end. This pattern of processing is called a **traversal**. One way to write a traversal is with a\n",
    "while loop:"
   ]
  },
  {
   "cell_type": "code",
   "execution_count": null,
   "metadata": {},
   "outputs": [],
   "source": [
    "index = 0\n",
    "while index < len(fruit):\n",
    "    letter = fruit[index]\n",
    "    print(letter)\n",
    "    index = index + 1"
   ]
  },
  {
   "cell_type": "markdown",
   "metadata": {},
   "source": [
    "This loop traverses the string and displays each letter on a line by itself. The loop condition\n",
    "is index < len(fruit), so when index is equal to the length of the string, the condition is\n",
    "false, and the body of the loop doesn’t run. The last character accessed is the one with the\n",
    "index len(fruit)-1, which is the last character in the string.\n",
    "\n",
    "As an exercise, write a function that takes a string as an argument and displays the letters\n",
    "backward, one per line.\n",
    "\n",
    "Another way to write a traversal is with a for loop:"
   ]
  },
  {
   "cell_type": "code",
   "execution_count": null,
   "metadata": {},
   "outputs": [],
   "source": [
    "for letter in fruit:\n",
    "    print(letter)"
   ]
  },
  {
   "cell_type": "markdown",
   "metadata": {},
   "source": [
    "<table> \n",
    "    <tr> <td>neg. index</td> <td></td> <td>-6</td> <td>-5</td> <td>-4</td> <td>-3</td> <td>-2</td> <td>-1</td> <td></td> </tr>\n",
    "    <tr> <td>fruit -----></td> <td>'</td> <td>b</td> <td>a</td> <td>n</td> <td>a</td> <td>n</td> <td>a</td> <td>'</td> </tr>\n",
    "    <tr> <td>index</td> <td></td> <td>0</td> <td>1</td> <td>2</td> <td>3</td> <td>4</td> <td>5</td> <td>'</td></table>\n",
    "Figure 8.1: Slice indices.\n",
    "\n",
    "Each time through the loop, the next character in the string is assigned to the variable\n",
    "letter. The loop continues until no characters are left.\n",
    "\n",
    "The following example shows how to use concatenation (string addition) and a for loop\n",
    "to generate an abecedarian series (that is, in alphabetical order). In Robert McCloskey’s\n",
    "book MakeWay for Ducklings, the names of the ducklings are Jack, Kack, Lack, Mack, Nack,\n",
    "Ouack, Pack, and Quack. This loop outputs these names in order:\n",
    "\n"
   ]
  },
  {
   "cell_type": "code",
   "execution_count": null,
   "metadata": {},
   "outputs": [],
   "source": [
    "prefixes = 'JKLMNOPQ'\n",
    "suffix = 'ack'\n",
    "for letter in prefixes:\n",
    "    print(letter + suffix)"
   ]
  },
  {
   "cell_type": "markdown",
   "metadata": {},
   "source": [
    "Of course, that’s not quite right because “Ouack” and “Quack” are misspelled. As an\n",
    "exercise, modify the program to fix this error.\n",
    "\n",
    "\n",
    "### 8.4 String slices\n",
    "\n",
    "A segment of a string is called a **slice**. Selecting a slice is similar to selecting a character:"
   ]
  },
  {
   "cell_type": "code",
   "execution_count": null,
   "metadata": {},
   "outputs": [],
   "source": [
    "s = 'Monty Python'\n",
    "s[0:5]"
   ]
  },
  {
   "cell_type": "code",
   "execution_count": null,
   "metadata": {},
   "outputs": [],
   "source": [
    "s[6:12]"
   ]
  },
  {
   "cell_type": "markdown",
   "metadata": {},
   "source": [
    "The operator [n:m] returns the part of the string from the “n-eth” character to the “m-eth”\n",
    "character, including the first but excluding the last. This behavior is counterintuitive, but\n",
    "it might help to imagine the indices pointing between the characters.\n",
    "\n",
    "If you omit the first index (before the colon), the slice starts at the beginning of the string.\n",
    "If you omit the second index, the slice goes to the end of the string:"
   ]
  },
  {
   "cell_type": "code",
   "execution_count": null,
   "metadata": {},
   "outputs": [],
   "source": [
    "fruit = 'banana'\n",
    "print(repr(fruit[:3])) # repr() prints what the string represents, makes print look like out\n",
    "fruit[3:]"
   ]
  },
  {
   "cell_type": "markdown",
   "metadata": {},
   "source": [
    "If the first index is greater than or equal to the second the result is an **empty string**, represented\n",
    "by two quotation marks:"
   ]
  },
  {
   "cell_type": "code",
   "execution_count": null,
   "metadata": {},
   "outputs": [],
   "source": [
    "fruit = 'banana'\n",
    "fruit[3:3]"
   ]
  },
  {
   "cell_type": "markdown",
   "metadata": {},
   "source": [
    "An empty string contains no characters and has length 0, but other than that, it is the same\n",
    "as any other string.\n",
    "\n",
    "Continuing this example, what do you think fruit[:] means? Try it in the cell below and see."
   ]
  },
  {
   "cell_type": "markdown",
   "metadata": {},
   "source": [
    "### 8.5 Strings are immutable\n",
    "\n",
    "It is tempting to use the [] operator on the left side of an assignment, with the intention of\n",
    "changing a character in a string. For example:"
   ]
  },
  {
   "cell_type": "code",
   "execution_count": null,
   "metadata": {},
   "outputs": [],
   "source": [
    "greeting = 'Hello, world!'\n",
    "greeting[0] = 'J'"
   ]
  },
  {
   "cell_type": "markdown",
   "metadata": {},
   "source": [
    "The “object” in this case is the string and the “item” is the character you tried to assign.\n",
    "For now, an object is the same thing as a value, but we will refine that definition later\n",
    "(Section 10.10).\n",
    "\n",
    "The reason for the error is that strings are **immutable**, which means you can’t change an\n",
    "existing string. The best you can do is create a new string that is a variation on the original:"
   ]
  },
  {
   "cell_type": "code",
   "execution_count": null,
   "metadata": {},
   "outputs": [],
   "source": [
    "greeting = 'Hello, world!'\n",
    "new_greeting = 'J' + greeting[1:]\n",
    "new_greeting"
   ]
  },
  {
   "cell_type": "markdown",
   "metadata": {},
   "source": [
    "This example concatenates a new first letter onto a slice of greeting. It has no effect on the\n",
    "original string.\n",
    "\n",
    "\n",
    "### 8.6 Searching\n",
    "\n",
    "What does the following function do? Guess and then write some code to test your guess."
   ]
  },
  {
   "cell_type": "code",
   "execution_count": null,
   "metadata": {},
   "outputs": [],
   "source": [
    "def find(word, letter):\n",
    "    index = 0\n",
    "    while index < len(word):\n",
    "        if word[index] == letter:\n",
    "            return index\n",
    "        index = index + 1\n",
    "    return -1"
   ]
  },
  {
   "cell_type": "markdown",
   "metadata": {},
   "source": [
    "In a sense, find is the inverse of the [] operator. Instead of taking an index and extracting\n",
    "the corresponding character, it takes a character and finds the index where that character\n",
    "appears. If the character is not found, the function returns -1.\n",
    "\n",
    "This is the first example we have seen of a return statement inside a loop. If word[index]\n",
    "== letter, the function breaks out of the loop and returns immediately.\n",
    "\n",
    "If the character doesn’t appear in the string, the program exits the loop normally and returns\n",
    "-1.\n",
    "\n",
    "This pattern of computation—traversing a sequence and returning when we find what we\n",
    "are looking for—is called a **search**.\n",
    "\n",
    "As an exercise, modify find so that it has a third parameter, the index in word where it\n",
    "should start looking.\n",
    "\n",
    "\n",
    "### 8.7 Looping and counting\n",
    "\n",
    "The following program counts the number of times the letter a appears in a string:"
   ]
  },
  {
   "cell_type": "code",
   "execution_count": null,
   "metadata": {},
   "outputs": [],
   "source": [
    "word = 'banana'\n",
    "count = 0\n",
    "for letter in word:\n",
    "    if letter == 'a':\n",
    "        count = count + 1\n",
    "print(count)"
   ]
  },
  {
   "cell_type": "markdown",
   "metadata": {},
   "source": [
    "This program demonstrates another pattern of computation called a **counter**. The variable\n",
    "count is initialized to 0 and then incremented each time an a is found. When the loop exits,\n",
    "count contains the result—the total number of a’s.\n",
    "\n",
    "As an exercise, encapsulate this code in a function named count, and generalize it so that\n",
    "it accepts the string and the letter as arguments.\n",
    "\n",
    "Then rewrite the function so that instead of traversing the string, it uses the threeparameter\n",
    "version of find from the previous section.\n",
    "\n",
    "\n",
    "### 8.8 String methods\n",
    "\n",
    "Strings provide methods that perform a variety of useful operations. A method is similar\n",
    "to a function—it takes arguments and returns a value—but the syntax is different. For\n",
    "example, the method upper takes a string and returns a new string with all uppercase\n",
    "letters.\n",
    "\n",
    "Instead of the function syntax upper(word), it uses the method syntax word.upper()."
   ]
  },
  {
   "cell_type": "code",
   "execution_count": null,
   "metadata": {},
   "outputs": [],
   "source": [
    "word = 'banana'\n",
    "new_word = word.upper()\n",
    "new_word"
   ]
  },
  {
   "cell_type": "markdown",
   "metadata": {},
   "source": [
    "This form of dot notation specifies the name of the method, upper, and the name of the\n",
    "string to apply the method to, word. The empty parentheses indicate that this method\n",
    "takes no arguments.\n",
    "\n",
    "A method call is called an **invocation**; in this case, we would say that we are invoking\n",
    "upper on word.\n",
    "\n",
    "As it turns out, there is a string method named find that is remarkably similar to the\n",
    "function we wrote:"
   ]
  },
  {
   "cell_type": "code",
   "execution_count": null,
   "metadata": {},
   "outputs": [],
   "source": [
    "word = 'banana'\n",
    "index = word.find('a')\n",
    "index"
   ]
  },
  {
   "cell_type": "markdown",
   "metadata": {},
   "source": [
    "In this example, we invoke find on word and pass the letter we are looking for as a parameter.\n",
    "\n",
    "Actually, the find method is more general than our function; it can find substrings, not just\n",
    "characters:"
   ]
  },
  {
   "cell_type": "code",
   "execution_count": null,
   "metadata": {},
   "outputs": [],
   "source": [
    "word.find('na')"
   ]
  },
  {
   "cell_type": "markdown",
   "metadata": {},
   "source": [
    "By default, find starts at the beginning of the string, but it can take a second argument, the\n",
    "index where it should start:"
   ]
  },
  {
   "cell_type": "code",
   "execution_count": null,
   "metadata": {},
   "outputs": [],
   "source": [
    "word.find('na', 3)"
   ]
  },
  {
   "cell_type": "markdown",
   "metadata": {},
   "source": [
    "This is an example of an **optional argument**; find can also take a third argument, the index\n",
    "where it should stop:"
   ]
  },
  {
   "cell_type": "code",
   "execution_count": null,
   "metadata": {},
   "outputs": [],
   "source": [
    "name = 'bob'\n",
    "name.find('b', 1, 2)"
   ]
  },
  {
   "cell_type": "markdown",
   "metadata": {},
   "source": [
    "This search fails because b does not appear in the index range from 1 to 2, not including 2.\n",
    "Searching up to, but not including, the second index makes find consistent with the slice\n",
    "operator.\n",
    "\n",
    "\n",
    "### 8.9 The in operator\n",
    "\n",
    "The word in is a boolean operator that takes two strings and returns True if the first appears\n",
    "as a substring in the second:"
   ]
  },
  {
   "cell_type": "code",
   "execution_count": null,
   "metadata": {},
   "outputs": [],
   "source": [
    "'a' in 'banana'"
   ]
  },
  {
   "cell_type": "code",
   "execution_count": null,
   "metadata": {},
   "outputs": [],
   "source": [
    "'seed' in 'banana'"
   ]
  },
  {
   "cell_type": "markdown",
   "metadata": {},
   "source": [
    "For example, the following function prints all the letters from word1 that also appear in\n",
    "word2:"
   ]
  },
  {
   "cell_type": "code",
   "execution_count": null,
   "metadata": {},
   "outputs": [],
   "source": [
    "def in_both(word1, word2):\n",
    "    for letter in word1:\n",
    "        if letter in word2:\n",
    "            print(letter)"
   ]
  },
  {
   "cell_type": "markdown",
   "metadata": {},
   "source": [
    "With well-chosen variable names, Python sometimes reads like English. You could read\n",
    "this loop, “for (each) letter in (the first) word, if (the) letter (appears) in (the second) word,\n",
    "print (the) letter.”\n",
    "\n",
    "Here’s what you get if you compare apples and oranges:"
   ]
  },
  {
   "cell_type": "code",
   "execution_count": null,
   "metadata": {},
   "outputs": [],
   "source": [
    "in_both('apples', 'oranges')"
   ]
  },
  {
   "cell_type": "markdown",
   "metadata": {},
   "source": [
    "### 8.10 String comparison\n",
    "\n",
    "The relational operators work on strings. To see if two strings are equal:"
   ]
  },
  {
   "cell_type": "code",
   "execution_count": null,
   "metadata": {},
   "outputs": [],
   "source": [
    "word = \"banana\" # change word to see the results\n",
    "if word == 'banana':\n",
    "    print('All right, bananas.')\n",
    "    "
   ]
  },
  {
   "cell_type": "markdown",
   "metadata": {},
   "source": [
    "Other relational operations are useful for putting words in alphabetical order:"
   ]
  },
  {
   "cell_type": "code",
   "execution_count": null,
   "metadata": {},
   "outputs": [],
   "source": [
    "word = \"apple\" # change word to see the results\n",
    "if word < 'banana':\n",
    "    print('Your word, ' + word + ', comes before banana.')\n",
    "elif word > 'banana':\n",
    "    print('Your word, ' + word + ', comes after banana.')\n",
    "else:\n",
    "    print('All right, bananas.')"
   ]
  },
  {
   "cell_type": "markdown",
   "metadata": {},
   "source": [
    "Python does not handle uppercase and lowercase letters the same way people do. All the\n",
    "uppercase letters come before all the lowercase letters, so:"
   ]
  },
  {
   "cell_type": "code",
   "execution_count": null,
   "metadata": {},
   "outputs": [],
   "source": [
    "word = \"Pineapple\" \n",
    "if word < 'banana':\n",
    "    print('Your word, ' + word + ', comes before banana.')\n",
    "elif word > 'banana':\n",
    "    print('Your word, ' + word + ', comes after banana.')\n",
    "else:\n",
    "    print('All right, bananas.')"
   ]
  },
  {
   "cell_type": "markdown",
   "metadata": {},
   "source": [
    "A common way to address this problem is to convert strings to a standard format, such as\n",
    "all lowercase, before performing the comparison. Keep that in mind in case you have to\n",
    "defend yourself against a man armed with a Pineapple.\n",
    "\n",
    "\n",
    "### 8.11 Debugging\n",
    "\n",
    "When you use indices to traverse the values in a sequence, it is tricky to get the beginning\n",
    "and end of the traversal right. Here is a function that is supposed to compare two words\n",
    "and return True if one of the words is the reverse of the other, but it contains two errors:"
   ]
  },
  {
   "cell_type": "code",
   "execution_count": null,
   "metadata": {},
   "outputs": [],
   "source": [
    "def is_reverse(word1, word2):\n",
    "    if len(word1) != len(word2):\n",
    "        return False\n",
    "    i = 0\n",
    "    j = len(word2)\n",
    "    while j > 0:\n",
    "        if word1[i] != word2[j]:\n",
    "            return False\n",
    "        i = i+1\n",
    "        j = j-1\n",
    "    return True"
   ]
  },
  {
   "cell_type": "markdown",
   "metadata": {},
   "source": [
    "The first if statement checks whether the words are the same length. If not, we can return\n",
    "False immediately. Otherwise, for the rest of the function, we can assume that the words\n",
    "are the same length. This is an example of the guardian pattern in Section 6.8.\n",
    "\n",
    "i and j are indices: i traverses word1 forward while j traverses word2 backward. If we\n",
    "find two letters that don’t match, we can return False immediately. If we get through the\n",
    "whole loop and all the letters match, we return True.\n",
    "\n",
    "If we test this function with the words “pots” and “stop”, we expect the return value True,\n",
    "but we get an IndexError:"
   ]
  },
  {
   "cell_type": "code",
   "execution_count": null,
   "metadata": {},
   "outputs": [],
   "source": [
    "is_reverse('pots', 'stop')"
   ]
  },
  {
   "cell_type": "markdown",
   "metadata": {},
   "source": [
    "For debugging this kind of error, my first move is to print the values of the indices immediately\n",
    "before the line where the error appears."
   ]
  },
  {
   "cell_type": "code",
   "execution_count": null,
   "metadata": {},
   "outputs": [],
   "source": [
    "def is_reverse(word1, word2):\n",
    "    if len(word1) != len(word2):\n",
    "        return False\n",
    "    i = 0\n",
    "    j = len(word2)\n",
    "    while j > 0:\n",
    "        print(i, j) # print here\n",
    "        if word1[i] != word2[j]:\n",
    "            return False\n",
    "        i = i+1\n",
    "        j = j-1\n",
    "    return True\n",
    "\n",
    "is_reverse('pots', 'stop')"
   ]
  },
  {
   "cell_type": "markdown",
   "metadata": {},
   "source": [
    "The first time through the loop, the value of j is 4, which is out of range for the\n",
    "string 'pots'. The index of the last character is 3, so the initial value for j should be\n",
    "len(word2)-1. Fix the error and run the program again.\n",
    "\n",
    "This time we get the right answer, but it looks like the loop only ran three times, which is\n",
    "suspicious. To get a better idea of what is happening, it is useful to draw a state diagram.\n",
    "During the first iteration, the frame for is_reverse is shown in Figure 8.2.\n",
    "\n",
    "I took some license by arranging the variables in the frame and adding dotted lines to show\n",
    "that the values of i and j indicate characters in word1 and word2.\n",
    "\n",
    "Starting with this diagram, run the program on paper, changing the values of i and j\n",
    "during each iteration. Find and fix the second error in this function.<br> <br>\n",
    "\n",
    "\n",
    "<table> \n",
    "    <tr> <td>word1 -----></td> <td>'</td> <td>p</td> <td>o</td> <td>t</td> <td>s</td> <td>'</td> </tr>\n",
    "    <tr> <td>i ---------></td> <td></td> <td>0</td> <td></td> <td></td> <td></td> <td></td>  </tr>\n",
    "    <tr> <td>word2 -----></td> <td>'</td> <td>s</td> <td>t</td> <td>o</td> <td>p</td> <td>'</td> </tr>\n",
    "    <tr> <td>j ---------></td> <td></td> <td></td> <td></td> <td></td> <td>3</td> <td></td>  </tr> </table>\n",
    "Figure 8.2: State diagram.\n",
    "\n",
    "\n",
    "### 8.12 Glossary\n",
    "**object:** Something a variable can refer to. For now, you can use “object” and “value”\n",
    "interchangeably.\n",
    "**sequence:** An ordered collection of values where each value is identified by an integer\n",
    "index.\n",
    "**item:** One of the values in a sequence.\n",
    "**index:** An integer value used to select an item in a sequence, such as a character in a string.\n",
    "In Python indices start from 0.\n",
    "**slice: A part of a string specified by a range of indices.\n",
    "**empty string:** A string with no characters and length 0, represented by two quotation\n",
    "marks.\n",
    "**immutable:** The property of a sequence whose items cannot be changed.\n",
    "**traverse:** To iterate through the items in a sequence, performing a similar operation on\n",
    "each.\n",
    "**search:** A pattern of traversal that stops when it finds what it is looking for.\n",
    "**counter:** A variable used to count something, usually initialized to zero and then incremented.\n",
    "**invocation:** A statement that calls a method.\n",
    "**optional argument:** A function or method argument that is not required.\n",
    "\n",
    "\n",
    "### 8.13 Exercises\n",
    "#### Exercise 8.1. \n",
    "Read the documentation of the string methods at http://docs.python.org/3/library/stdtypes.html#string-methods . You might want to experiment with some of them in the next cell\n",
    "to make sure you understand how they work. strip and replace are particularly useful.\n",
    "\n",
    "The documentation uses a syntax that might be confusing. For example, in\n",
    "find(sub[, start[, end]]), the brackets indicate optional arguments. So sub is required, but\n",
    "start is optional, and if you include start, then end is optional."
   ]
  },
  {
   "cell_type": "code",
   "execution_count": null,
   "metadata": {},
   "outputs": [],
   "source": []
  },
  {
   "cell_type": "markdown",
   "metadata": {},
   "source": [
    "#### Exercise 8.2. \n",
    "There is a string method called count that is similar to the function in Section 8.7.\n",
    "Read the documentation of this method and write an invocation that counts the number of a’s in\n",
    "'banana'.\n",
    "\n"
   ]
  },
  {
   "cell_type": "code",
   "execution_count": null,
   "metadata": {},
   "outputs": [],
   "source": []
  },
  {
   "cell_type": "markdown",
   "metadata": {},
   "source": [
    "#### Exercise 8.3. \n",
    "A string slice can take a third index that specifies the “step size”; that is, the number\n",
    "of spaces between successive characters. A step size of 2 means every other character; 3 means every\n",
    "third, etc.\n",
    "\n",
    ">>> fruit = 'banana'\n",
    ">>> fruit[0:5:2]\n",
    "'bnn'\n",
    "A step size of -1 goes through the word backwards, so the slice [::-1] generates a reversed string.\n",
    "Use this idiom to write a one-line version of is_palindrome from Exercise 6.3.\n"
   ]
  },
  {
   "cell_type": "code",
   "execution_count": null,
   "metadata": {},
   "outputs": [],
   "source": [
    "fruit = 'banana'\n",
    "fruit[0:5:2]"
   ]
  },
  {
   "cell_type": "markdown",
   "metadata": {},
   "source": [
    "A step size of -1 goes through the word backwards, so the slice [::-1] generates a reversed string.\n",
    "\n",
    "Use this idiom to write a one-line version of is_palindrome from Exercise 6.3."
   ]
  },
  {
   "cell_type": "code",
   "execution_count": null,
   "metadata": {},
   "outputs": [],
   "source": []
  },
  {
   "cell_type": "markdown",
   "metadata": {},
   "source": [
    "#### Exercise 8.4. \n",
    "The following functions are all intended to check whether a string contains any\n",
    "lowercase letters, but at least some of them are wrong. For each function, describe what the function\n",
    "actually does (assuming that the parameter is a string)."
   ]
  },
  {
   "cell_type": "code",
   "execution_count": null,
   "metadata": {},
   "outputs": [],
   "source": [
    "def any_lowercase1(s):\n",
    "    for c in s:\n",
    "        if c.islower():\n",
    "            return True\n",
    "        else:\n",
    "            return False\n",
    "\n",
    "def any_lowercase2(s):\n",
    "    for c in s:\n",
    "        if 'c'.islower():\n",
    "            return 'True'\n",
    "        else:\n",
    "            return 'False'\n",
    "\n",
    "def any_lowercase3(s):\n",
    "    for c in s:\n",
    "        flag = c.islower()\n",
    "    return flag\n",
    "\n",
    "def any_lowercase4(s):\n",
    "    flag = False\n",
    "    for c in s:\n",
    "        flag = flag or c.islower()\n",
    "    return flag\n",
    "\n",
    "def any_lowercase5(s):\n",
    "    for c in s:\n",
    "        if not c.islower():\n",
    "            return False\n",
    "    return True"
   ]
  },
  {
   "cell_type": "markdown",
   "metadata": {},
   "source": [
    "#### Exercise 8.5. \n",
    "A Caesar cypher is a weak form of encryption that involves “rotating” each letter by\n",
    "a fixed number of places. To rotate a letter means to shift it through the alphabet, wrapping around\n",
    "to the beginning if necessary, so ’A’ rotated by 3 is ’D’ and ’Z’ rotated by 1 is ’A’.\n",
    "\n",
    "To rotate a word, rotate each letter by the same amount. For example, “cheer” rotated by 7 is “jolly”\n",
    "and “melon” rotated by -10 is “cubed”. In the movie 2001: A Space Odyssey, the ship computer\n",
    "is called HAL, which is IBM rotated by -1.\n",
    "\n",
    "Write a function called rotate_word that takes a string and an integer as parameters, and returns\n",
    "a new string that contains the letters from the original string rotated by the given amount.\n",
    "\n",
    "You might want to use the built-in function ord, which converts a character to a numeric code, and\n",
    "chr, which converts numeric codes to characters. Letters of the alphabet are encoded in alphabetical\n",
    "order, so for example:"
   ]
  },
  {
   "cell_type": "code",
   "execution_count": null,
   "metadata": {},
   "outputs": [],
   "source": [
    "ord('c') - ord('a')"
   ]
  },
  {
   "cell_type": "markdown",
   "metadata": {},
   "source": [
    "Because 'c' is the two-eth letter of the alphabet. But beware: the numeric codes for upper case\n",
    "letters are different.\n",
    "\n",
    "Potentially offensive jokes on the Internet are sometimes encoded in ROT13, which is a Caesar\n",
    "cypher with rotation 13. If you are not easily offended, find and decode some of them. \n",
    "\n",
    "Solution: http://thinkpython2.com/code/rotate.py ."
   ]
  },
  {
   "cell_type": "code",
   "execution_count": null,
   "metadata": {},
   "outputs": [],
   "source": []
  },
  {
   "cell_type": "markdown",
   "metadata": {},
   "source": [
    "Source material from:\n",
    "\n",
    "Think Python<br>\n",
    "How to Think Like a Computer Scientist<br>\n",
    "2nd Edition, Version 2.2.23<br>\n",
    "Allen Downey<br>\n",
    "Copyright © 2015 Allen Downey. <br>\n",
    "<br>\n",
    "Source material used under the Creative Commons Attribution-NonCommercial 3.0 Unported License. To view a copy of this license, visit http://creativecommons.org/licenses/by-nc/3.0/ or send a letter to Creative Commons, PO Box 1866, Mountain View, CA 94042, USA.\n",
    "\n",
    "\n",
    "Adapted to Jupyter Notebooks with additional material by Warren Watts, Copyright © 2018"
   ]
  }
 ],
 "metadata": {
  "kernelspec": {
   "display_name": "Python 3",
   "language": "python",
   "name": "python3"
  },
  "language_info": {
   "codemirror_mode": {
    "name": "ipython",
    "version": 3
   },
   "file_extension": ".py",
   "mimetype": "text/x-python",
   "name": "python",
   "nbconvert_exporter": "python",
   "pygments_lexer": "ipython3",
   "version": "3.7.0"
  }
 },
 "nbformat": 4,
 "nbformat_minor": 2
}
