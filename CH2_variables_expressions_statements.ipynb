{
 "cells": [
  {
   "cell_type": "markdown",
   "metadata": {},
   "source": [
    "This work is licensed under the Creative Commons Attribution-NonCommercial 3.0 Unported License. To view a copy of this license, visit http://creativecommons.org/licenses/by-nc/3.0/ or send a letter to Creative Commons, PO Box 1866, Mountain View, CA 94042, USA."
   ]
  },
  {
   "cell_type": "markdown",
   "metadata": {},
   "source": [
    "# Variables, expressions and statements\n",
    "\n",
    "One of the most powerful features of a programming language is the ability to manipulate variables. A variable is a name that refers to a value.\n",
    "\n",
    "\n",
    "### 2.1 Assignment statements\n",
    "\n",
    "An assignment statement creates a new variable and gives it a value:\n"
   ]
  },
  {
   "cell_type": "code",
   "execution_count": null,
   "metadata": {},
   "outputs": [],
   "source": [
    "message = 'And now for something completely different'\n",
    "n = 17\n",
    "pi = 3.141592653589793\n",
    "pi"
   ]
  },
  {
   "cell_type": "markdown",
   "metadata": {},
   "source": [
    "This example makes three assignments. The first assigns a string to a new variable named <i>message</i>; the second gives the integer 17 to <i>n</i>; the third assigns the (approximate) value of pi to <i>pi</i>.\n",
    "\n",
    "A common way to represent variables on paper is to write the name with an arrow pointing to its value. This kind of figure is called a <b>state diagram</b> because it shows what state each of the variables is in (think of it as the variable’s state of mind). Figure 2.1 shows the result of the previous example.\n",
    "\n",
    "\n",
    "### 2.2 Variable names\n",
    "\n",
    "Programmers generally choose names for their variables that are meaningful—they document what the variable is used for.\n",
    "\n",
    "<br><p>\n",
    "<table style=\"width:55%; border-style:solid;\"> \n",
    "   <tr><td>message</td> <td>--------------------></td> <td colspan=\"2\">’And now for something completely different’</td>  </tr>\n",
    "   <tr><td>n</td> <td>--------------------></td> <td colspan=\"2\">17</td>  </tr>\n",
    "   <tr><td>pi</td> <td>--------------------></td> <td colspan=\"2\">3.1415926535897932</td>  </tr> </table> </p>\n",
    "Figure 2.1: State diagram.\n",
    "\n",
    "\n",
    "Variable names can be as long as you like. They can contain both letters and numbers, but they can’t begin with a number. It is legal to use uppercase letters, but it is conventional to use only lower case for variables names.\n",
    "\n",
    "The underscore character, \\_, can appear in a name. It is often used in names with multiple words, such as <i>your_name</i> or <i>airspeed_of_unladen_swallow</i>.\n",
    "\n",
    "If you give a variable an illegal name, you get a syntax error:\n"
   ]
  },
  {
   "cell_type": "code",
   "execution_count": null,
   "metadata": {},
   "outputs": [],
   "source": [
    "76trombones = 'big parade'"
   ]
  },
  {
   "cell_type": "code",
   "execution_count": null,
   "metadata": {},
   "outputs": [],
   "source": [
    "more@ = 1000000"
   ]
  },
  {
   "cell_type": "markdown",
   "metadata": {},
   "source": [
    "76trombones is illegal because it begins with a number. more@ is illegal because it contains an illegal character, @. But what’s wrong with class?\n",
    "\n",
    "It turns out that class is one of Python’s keywords. The interpreter uses keywords to recognize the structure of the program, and they cannot be used as variable names.\n",
    "\n",
    "Python 3 has these keywords:\n",
    "<table style=\"width:80%\"> \n",
    "   <tr> <td>False</td> <td>class</td> <td>finally</td> <td>is</td> <td>return</td> </tr> \n",
    "   <tr> <td>None</td> <td>continue</td> <td>for</td> <td>lambda</td> <td>try</td> </tr>\n",
    "   <tr><td>True</td> <td>def</td> <td>from</td> <td>nonlocal</td> <td>while</td></tr>  \n",
    "   <tr><td>and</td> <td>del</td> <td>global</td> <td>not</td> <td>with</td></tr>\n",
    "   <tr><td>as <td>elif <td>if <td>or <td>yield</tr>\n",
    "   <tr><td>assert</td> <td>else</td> <td>import</td> <td>pass</td></tr>\n",
    "   <tr><td>break</td> <td>except</td> <td>in</td> <td>raise</td></tr>\n",
    "</table>\n",
    "<br>\n",
    "You don’t have to memorize this list. In most development environments, keywords are displayed in a different color; if you try to use one as a variable name, you’ll know.\n",
    "\n",
    "\n",
    "### 2.3 Expressions and statements\n",
    "\n",
    "An <b>expression</b> is a combination of values, variables, and operators. A value all by itself is considered an expression, and so is a variable, so the following are all legal expressions:"
   ]
  },
  {
   "cell_type": "code",
   "execution_count": null,
   "metadata": {},
   "outputs": [],
   "source": [
    "class = 'Advanced Theoretical Zymurgy'"
   ]
  },
  {
   "cell_type": "code",
   "execution_count": null,
   "metadata": {},
   "outputs": [],
   "source": [
    "42"
   ]
  },
  {
   "cell_type": "code",
   "execution_count": null,
   "metadata": {},
   "outputs": [],
   "source": [
    "n"
   ]
  },
  {
   "cell_type": "code",
   "execution_count": null,
   "metadata": {},
   "outputs": [],
   "source": [
    "n + 25"
   ]
  },
  {
   "cell_type": "markdown",
   "metadata": {},
   "source": [
    "When you type an expression at the prompt, the interpreter evaluates it, which means that it finds the value of the expression. In this example, <i>n</i> has the value 17 and <i>n</i> + 25 has the value 42.\n",
    "\n",
    "A statement is a unit of code that has an effect, like creating a variable or displaying a value."
   ]
  },
  {
   "cell_type": "code",
   "execution_count": null,
   "metadata": {},
   "outputs": [],
   "source": [
    "n = 17\n",
    "print(n)"
   ]
  },
  {
   "cell_type": "markdown",
   "metadata": {},
   "source": [
    "The first line is an assignment statement that gives a value to n. The second line is a print statement that displays the value of n.\n",
    "\n",
    "When you type a statement, the interpreter executes it, which means that it does whatever the statement says. In general, statements don’t have values.\n",
    "\n",
    "\n",
    "### 2.4 Python in Script mode, Interactive Mode, Spyder IDE and Jupyter Notebooks\n",
    "\n",
    "The simplest way to run Python is in interactive mode with a Python window, which means that you interact directly with the interpreter. Interactive mode is Python in it's most basic form where you type in a line at a time, but if you are working with more than a few lines of code, it can be clumsy.\n",
    "\n",
    "An alternative is to save code in a file called a script and then run the interpreter in script mode to execute the script. By convention, Python scripts have names that end with .py.\n",
    "\n",
    "Jupyter Notebooks are another way to write and run Python code. Jupyter notebooks run in a web browser. Notebooks allow you to put your code in cells and run each cell one at a time. You can also change a cell into a markdown cell to enter text, this cell is a markdown cell. Notebooks function as a hybrid between scripts and interactive Python. If you place a single line of code in a cell it works like a command line, if you put multiple lines of code it functions like a script, with the advantage that you don't lose all the actions you have performed when it ends, so that you can string together multiple cells to create a program.\n",
    "\n",
    "In Jupyter notebooks, your code is automatically saved to a file or you can save manually to be safe. The top of the notebook will tell whether you have unsaved changes. Saving also creates a checkpoint that you can go back to. \n",
    "\n",
    "Another way to program in Python is an Integrated Development Environment or IDE. IDE's allow you to view a script and a command line interface in separate windows. They also allow you to view the contents of your variables and set break points in your code. IDEs are better at debugging code than notebooks, but they are don't offer the display capabilities of a notebook. We will be taking a look at the Spyder IDE later in class, but will mostly work in notebooks. Both Jupyter Notebooks and the Spyder IDE are part of the Anaconda Python package."
   ]
  },
  {
   "cell_type": "code",
   "execution_count": null,
   "metadata": {},
   "outputs": [],
   "source": [
    "miles = 26.2"
   ]
  },
  {
   "cell_type": "code",
   "execution_count": null,
   "metadata": {},
   "outputs": [],
   "source": [
    "miles * 1.61"
   ]
  },
  {
   "cell_type": "markdown",
   "metadata": {},
   "source": [
    "The first line assigns a value to miles, but it has no visible effect. The second line is an expression, so the interpreter evaluates it and displays the result. It turns out that a marathon is about 42 kilometers. This is an example of a notebook behaving like interactive Python, because a cell will give an output of the last line of code in the cell."
   ]
  },
  {
   "cell_type": "code",
   "execution_count": null,
   "metadata": {},
   "outputs": [],
   "source": [
    "miles = 26.2\n",
    "miles * 1.61\n",
    "miles = 5"
   ]
  },
  {
   "cell_type": "markdown",
   "metadata": {},
   "source": [
    "This is an example of a cell behaving like a script. If you run a script Python doesn't output anything unless you tell it to. A cell only outputs the last line and assignment statements don't have any output."
   ]
  },
  {
   "cell_type": "code",
   "execution_count": null,
   "metadata": {},
   "outputs": [],
   "source": [
    "miles = 26.2\n",
    "print(miles * 1.61)\n",
    "miles = 5"
   ]
  },
  {
   "cell_type": "markdown",
   "metadata": {},
   "source": [
    "If you want to get output in the middle of the cell you need to use a print statement, much like a script. This behavior can be confusing at first. To check your understanding, type the following statements in the following cell and see what they do:\n",
    "```python\n",
    "5\n",
    "x = 5\n",
    "x + 1```"
   ]
  },
  {
   "cell_type": "code",
   "execution_count": null,
   "metadata": {},
   "outputs": [],
   "source": []
  },
  {
   "cell_type": "markdown",
   "metadata": {},
   "source": [
    "Modify the cell by transforming each expression into a print statement and then run it again.\n",
    "\n",
    "\n",
    "### 2.5 Variables as references to objects\n",
    "\n",
    "In Python variables don't have a type as they do in some other computer languages. Instead variables provide a reference to an something called an <b>object</b>. Objects contain data and ways to use the data. Operators like + an * can do different things depending what type of object the variable references, because how + and * use the data in the object is different for different objects. You can find the type of object that a variable references with type(). Try following code to see how a variable can reference different types of objects."
   ]
  },
  {
   "cell_type": "code",
   "execution_count": null,
   "metadata": {},
   "outputs": [],
   "source": [
    "x = None\n",
    "type(x)"
   ]
  },
  {
   "cell_type": "code",
   "execution_count": null,
   "metadata": {},
   "outputs": [],
   "source": [
    "x = 10   # no decimal point generates integer\n",
    "type(x)"
   ]
  },
  {
   "cell_type": "code",
   "execution_count": null,
   "metadata": {},
   "outputs": [],
   "source": [
    "x = 10.0   # decimal point generates floating point number\n",
    "print(type(10.))\n",
    "type(x)"
   ]
  },
  {
   "cell_type": "code",
   "execution_count": null,
   "metadata": {},
   "outputs": [],
   "source": [
    "x = 10 + 0j   # complex number, specialized applications\n",
    "type(x)"
   ]
  },
  {
   "cell_type": "code",
   "execution_count": null,
   "metadata": {},
   "outputs": [],
   "source": [
    "x = '10'  # string with single quotes ''\n",
    "type(x)"
   ]
  },
  {
   "cell_type": "code",
   "execution_count": null,
   "metadata": {},
   "outputs": [],
   "source": [
    "x = \"10\"  # string with double quotes \"\"\n",
    "type(x)"
   ]
  },
  {
   "cell_type": "code",
   "execution_count": null,
   "metadata": {},
   "outputs": [],
   "source": [
    "x = True  # boolean - True or False, has value of True = 1 and False = 0 when translated to int\n",
    "print(type(x))\n",
    "print(x)\n",
    "print(int(x))    # conversion to int nested inside a print"
   ]
  },
  {
   "cell_type": "code",
   "execution_count": null,
   "metadata": {},
   "outputs": [],
   "source": [
    "x = [10]   #  [] generates a list\n",
    "type(x)"
   ]
  },
  {
   "cell_type": "code",
   "execution_count": null,
   "metadata": {},
   "outputs": [],
   "source": [
    "x = {10:\"10\"}   #  {} generates a dictionary\n",
    "type(x) "
   ]
  },
  {
   "cell_type": "code",
   "execution_count": null,
   "metadata": {},
   "outputs": [],
   "source": [
    "x = (10, 11)   # () generates a tuple with more than one number, int with only one number\n",
    "type(x)"
   ]
  },
  {
   "cell_type": "markdown",
   "metadata": {},
   "source": [
    "If conversion is possible, you can convert one type of variable into another by using the name of the type that you want to convert into and parentheses. An example of conversion is shown in the code above when the bool type is converted to int.\n",
    "\n",
    "<b>type()</b>, <b>print()</b> and conversion like <b>int()</b> or <b>float()</b> are all functions. Functions can be nested as in some of the code above. Later chapters will have more information on functions and how to create your own functions.\n",
    "\n",
    "Strings (type = str), lists, dictionaries (type dict) and tuples will be discussed in later chapters. For now just remember that a string is a variable to store text.\n",
    "\n",
    "\n",
    "### 2.6 Arithmatic operators\n",
    "\n",
    "Numeric types such as int, float, complex and bool can all use arithmatic operators, although using bool in arithmatic operations is a bit unusual as it doesn't display as a number which can be confusing. \n",
    "Below is a list of the arithmatic operators:\n",
    "<table style=\"width:50%\"> <tr> <td>x + y</td>\t<td>sum of x and y</td></tr>\n",
    "<tr><td>x - y</td>\t<td>difference of x and y</td></tr>\n",
    "<tr><td>x * y</td>\t<td>product of x and y</td></tr>\n",
    "<tr><td>x / y</td>\t<td>quotient of x and y</td></tr>\n",
    "<tr><td>x // y</td>\t<td>floored quotient of x and y</td></tr>\n",
    "<tr><td>x % y</td>\t<td>remainder of x / y</td></tr>\n",
    "<tr><td>-x</td>\t<td>x negated</td></tr>\t \t \n",
    "<tr><td>+x\t<td>x unchanged</td></tr>\n",
    "<tr><td>x ** y</td>\t<td>x to the power y</td></tr></table>\n",
    "\n",
    "Some examples using operators on numeric types:"
   ]
  },
  {
   "cell_type": "code",
   "execution_count": null,
   "metadata": {},
   "outputs": [],
   "source": [
    "print(100 + 100)\n",
    "print(100.0 + 100)\n",
    "print(100 - 50)\n",
    "print(100 - 50.0)\n",
    "print(5 * 10)\n",
    "print(11/5)\n",
    "print(11//5)\n",
    "print(11%5)\n",
    "print(2**4)\n",
    "print(2**4.0)"
   ]
  },
  {
   "cell_type": "markdown",
   "metadata": {},
   "source": [
    "Notice that using a type float always returns a type float. In addition the <b>/</b> operator always returns a float.\n",
    "\n",
    "\n",
    "### 2.7 Order of operations\n",
    "\n",
    "When an expression contains more than one operator, the order of evaluation depends on the <b>order of operations</b>. For mathematical operators, Python follows mathematical convention. The acronym <b>PEMDAS</b> is a useful way to remember the rules:\n",
    "\n",
    "• <b>P</b>arentheses have the highest precedence and can be used to force an expression to evaluate in the order you want. Since expressions in parentheses are evaluated first, 2 * (3-1) is 4, and (1+1) $**$ (5-2) is 8. You can also use parentheses to make an\n",
    "expression easier to read, as in (minute * 100) / 60, even if it doesn’t change the result.\n",
    "\n",
    "• <b>E</b>xponentiation has the next highest precedence, so 1 + 2$**$3 is 9, not 27, and 2 * 3**2 is 18, not 36.\n",
    "\n",
    "• <b>M</b>ultiplication and <b>D</b>ivision have higher precedence than <b>A</b>ddition and <b>S</b>ubtraction. So 2*3-1 is 5, not 4, and 6+4/2 is 8, not 5.\n",
    "\n",
    "• Operators with the same precedence are evaluated from left to right (except exponentiation). So in the expression degrees / 2 * pi, the division happens first and the result is multiplied by pi. To divide by 2p, you can use parentheses or write degrees\n",
    "/ 2 / pi.\n",
    "\n",
    "Don’t work too hard to remember the precedence of operators. If you can’t tell by looking at the expression, use parentheses to make it obvious.\n",
    "\n",
    "\n",
    "### 2.8 String operations\n",
    "\n",
    "In general, you can’t perform mathematical operations on strings, even if the strings look like numbers, so the following are illegal:\n",
    "\n",
    "'2' - '1' <br>'eggs' / 'easy'<br> 'third' * 'a charm'\n",
    "\n",
    "But there are two exceptions, + and *.\n",
    "\n",
    "The + operator performs <b>string concatenation</b>, which means it joins the strings by linking\n",
    "them end-to-end. For example:\n"
   ]
  },
  {
   "cell_type": "code",
   "execution_count": null,
   "metadata": {},
   "outputs": [],
   "source": [
    "first = 'throat'\n",
    "second = 'warbler'\n",
    "first + second"
   ]
  },
  {
   "cell_type": "markdown",
   "metadata": {},
   "source": [
    "The * operator also works on strings; it performs repetition. For example: "
   ]
  },
  {
   "cell_type": "code",
   "execution_count": null,
   "metadata": {},
   "outputs": [],
   "source": [
    " 'Spam'*3"
   ]
  },
  {
   "cell_type": "markdown",
   "metadata": {},
   "source": [
    "If one of the values is a string, the other has to be an integer.\n",
    "\n",
    "This use of + and * makes sense by analogy with addition and multiplication. Just as 4*3 is equivalent to 4+4+4, we expect 'Spam'*3 to be the same as 'Spam'+'Spam'+'Spam', and it is. On the other hand, there is a significant way in which string concatenation and repetition are different from integer addition and multiplication. Can you think of a property that addition has that string concatenation does not?\n",
    "\n",
    "\n",
    "### 2.9 Comments\n",
    "\n",
    "As programs get bigger and more complicated, they get more difficult to read. Formal languages are dense, and it is often difficult to look at a piece of code and figure out what it is doing, or why.\n",
    "\n",
    "For this reason, it is a good idea to add notes to your programs to explain in natural language what the program is doing. These notes are called comments, and they start with the # symbol:"
   ]
  },
  {
   "cell_type": "code",
   "execution_count": null,
   "metadata": {},
   "outputs": [],
   "source": [
    "# compute the percentage of the hour that has elapsed\n",
    "minute = 20\n",
    "percentage = (minute * 100) / 60"
   ]
  },
  {
   "cell_type": "markdown",
   "metadata": {},
   "source": [
    "In this case, the comment appears on a line by itself. You can also put comments at the end of a line:"
   ]
  },
  {
   "cell_type": "code",
   "execution_count": null,
   "metadata": {},
   "outputs": [],
   "source": [
    "percentage = (minute * 100) / 60 # percentage of an hour"
   ]
  },
  {
   "cell_type": "markdown",
   "metadata": {},
   "source": [
    "Everything from the # to the end of the line is ignored—it has no effect on the execution of the program.\n",
    "\n",
    "Comments are most useful when they document non-obvious features of the code. It is reasonable to assume that the reader can figure out what the code does; it is more useful to explain why.\n",
    "\n",
    "This comment is redundant with the code and useless:"
   ]
  },
  {
   "cell_type": "code",
   "execution_count": null,
   "metadata": {},
   "outputs": [],
   "source": [
    "v = 5 # assign 5 to v"
   ]
  },
  {
   "cell_type": "markdown",
   "metadata": {},
   "source": [
    "This comment contains useful information that is not in the code:"
   ]
  },
  {
   "cell_type": "code",
   "execution_count": null,
   "metadata": {},
   "outputs": [],
   "source": [
    "v = 5 # velocity in meters/second."
   ]
  },
  {
   "cell_type": "markdown",
   "metadata": {},
   "source": [
    "Good variable names can reduce the need for comments, but long names can make complex expressions hard to read, so there is a tradeoff.\n",
    "\n",
    "\n",
    "### 2.12 Getting variables interactively.\n",
    "\n",
    "You can get a variable from the user using the **input()** command and assigning it to a variable. Input will only output a string so you have to convert it if you want another type. Examples:\n"
   ]
  },
  {
   "cell_type": "code",
   "execution_count": null,
   "metadata": {},
   "outputs": [],
   "source": [
    "name = input(\"What is your name? \")\n",
    "name"
   ]
  },
  {
   "cell_type": "code",
   "execution_count": null,
   "metadata": {},
   "outputs": [],
   "source": [
    "number_str = input(\"What is your favorite integer? \")\n",
    "print(type(number_str))\n",
    "print(repr(number_str))  # repr() allows you to print a string with its quotes and other formatting characters\n",
    "number = int(number_str)\n",
    "print(type(number))\n",
    "print(repr(number))"
   ]
  },
  {
   "cell_type": "markdown",
   "metadata": {},
   "source": [
    "### 2.11 Debugging\n",
    "\n",
    "Three kinds of errors can occur in a program: syntax errors, runtime errors, and semantic errors. It is useful to distinguish between them in order to track them down more quickly.\n",
    "\n",
    "<b>Syntax error:</b> “Syntax” refers to the structure of a program and the rules about that structure. For example, parentheses have to come in matching pairs, so (1 + 2) is legal, but 8) is a <b>syntax error</b>.\n",
    "\n",
    "If there is a syntax error anywhere in your program, Python displays an error message and quits, and you will not be able to run the program. During the first few weeks of your programming career, you might spend a lot of time tracking down syntax errors. As you gain experience, you will make fewer errors and find them faster.\n",
    "\n",
    "<b>Runtime error:</b> The second type of error is a runtime error, so called because the error does not appear until after the program has started running. These errors are also called exceptions because they usually indicate that something exceptional (and bad) has happened.\n",
    "\n",
    "Runtime errors are rare in the simple programs you will see in the first few chapters, so it might be a while before you encounter one.\n",
    "\n",
    "<b>Semantic error:</b> The third type of error is “semantic”, which means related to meaning. If there is a semantic error in your program, it will run without generating error messages, but it will not do the right thing. It will do something else. Specifically, it will do what you told it to do.\n",
    "\n",
    "Identifying semantic errors can be tricky because it requires you to work backward by looking at the output of the program and trying to figure out what it is doing.\n",
    "\n",
    "\n",
    "### 2.12 Glossary\n",
    "\n",
    "<b>variable:</b> A name that refers to a value.\n",
    "\n",
    "<b>assignment:</b> A statement that assigns a value to a variable.\n",
    "\n",
    "<b>state diagram:</b> A graphical representation of a set of variables and the values they refer to.\n",
    "\n",
    "<b>keyword:</b> A reserved word that is used to parse a program; you cannot use keywords like if, def, and while as variable names.\n",
    "\n",
    "<b>operand:</b> One of the values on which an operator operates.\n",
    "\n",
    "<b>expression:</b> A combination of variables, operators, and values that represents a single result.\n",
    "\n",
    "<b>evaluate:</b> To simplify an expression by performing the operations in order to yield a single\n",
    "value.\n",
    "<b>statement:</b> A section of code that represents a command or action. So far, the statements we have seen are assignments and print statements.\n",
    "\n",
    "<b>execute:</b> To run a statement and do what it says.\n",
    "\n",
    "<b>interactive mode:</b> A way of using the Python interpreter by typing code at the prompt.\n",
    "\n",
    "<b>script mode:</b> A way of using the Python interpreter to read code from a script and run it.\n",
    "\n",
    "<b>script:</b> A program stored in a file.\n",
    "\n",
    "<b>order of operations:</b> Rules governing the order in which expressions involving multiple operators and operands are evaluated.\n",
    "\n",
    "<b>concatenate:</b> To join two operands end-to-end.\n",
    "\n",
    "comment: Information in a program that is meant for other programmers (or anyone reading\n",
    "the source code) and has no effect on the execution of the program.\n",
    "syntax error: An error in a program that makes it impossible to parse (and therefore impossible\n",
    "to interpret).\n",
    "exception: An error that is detected while the program is running.\n",
    "semantics: The meaning of a program.\n",
    "semantic error: An error in a program that makes it do something other than what the\n",
    "programmer intended.\n",
    "\n",
    "\n",
    "### 2.13 Exercises\n",
    "#### Exercise 2.1. Making More Mistakes\n",
    "\n",
    "Repeating the advice from the previous chapter, whenever you learn a new feature, you should try it out and make errors on purpose to see what goes wrong.\n",
    "\n",
    "1. We’ve seen that n = 42 is legal. What about 42 = n?\n",
    "2. How about x = y = 1?\n",
    "3. In some languages every statement ends with a semi-colon, ;. What happens if you put a semi-colon at the end of a Python statement?\n",
    "4. What if you put a period at the end of a statement?\n",
    "5. In math notation you can multiply x and y like this: xy. What happens if you try that in Python?"
   ]
  },
  {
   "cell_type": "code",
   "execution_count": null,
   "metadata": {},
   "outputs": [],
   "source": []
  },
  {
   "cell_type": "code",
   "execution_count": null,
   "metadata": {},
   "outputs": [],
   "source": []
  },
  {
   "cell_type": "code",
   "execution_count": null,
   "metadata": {},
   "outputs": [],
   "source": []
  },
  {
   "cell_type": "code",
   "execution_count": null,
   "metadata": {},
   "outputs": [],
   "source": []
  },
  {
   "cell_type": "code",
   "execution_count": null,
   "metadata": {},
   "outputs": [],
   "source": []
  },
  {
   "cell_type": "markdown",
   "metadata": {},
   "source": [
    "#### Exercise 2.2. Practice using the Python interpreter as a calculator:\n",
    "1. The volume of a sphere with radius r is $\\frac{4}{3}\\pi r^3$. What is the volume of a sphere with radius 5?\n",
    "2. Suppose the cover price of a book is $\\$$24.95, but bookstores get a 40 percent discount. Shipping costs $\\$$3 for the first copy and 75 cents for each additional copy. What is the total wholesale cost for 60 copies?\n",
    "3. If I leave my house at 6:52 am and run 1 mile at an easy pace (8:15 per mile), then 3 miles at tempo (7:12 per mile) and 1 mile at easy pace again, what time do I get home for breakfast?"
   ]
  },
  {
   "cell_type": "code",
   "execution_count": null,
   "metadata": {},
   "outputs": [],
   "source": []
  },
  {
   "cell_type": "code",
   "execution_count": null,
   "metadata": {},
   "outputs": [],
   "source": []
  },
  {
   "cell_type": "code",
   "execution_count": null,
   "metadata": {},
   "outputs": [],
   "source": []
  },
  {
   "cell_type": "markdown",
   "metadata": {},
   "source": [
    "#### Exercise 2.3. Getting User Input and dealing with types of data.\n",
    "\n",
    "Write code to ask the user for their name and age and then print their name and how old they were 10 years ago."
   ]
  },
  {
   "cell_type": "code",
   "execution_count": null,
   "metadata": {},
   "outputs": [],
   "source": []
  },
  {
   "cell_type": "markdown",
   "metadata": {},
   "source": [
    "Source material from:\n",
    "\n",
    "Think Python<br>\n",
    "How to Think Like a Computer Scientist<br>\n",
    "2nd Edition, Version 2.2.23<br>\n",
    "Allen Downey<br>\n",
    "Copyright © 2015 Allen Downey. <br>\n",
    "<br>\n",
    "Source material used under the Creative Commons Attribution-NonCommercial 3.0 Unported License. To view a copy of this license, visit http://creativecommons.org/licenses/by-nc/3.0/ or send a letter to Creative Commons, PO Box 1866, Mountain View, CA 94042, USA.\n",
    "\n",
    "\n",
    "Adapted to Jupyter Notebooks with additional material by Warren Watts, Copyright © 2018, 2019"
   ]
  }
 ],
 "metadata": {
  "kernelspec": {
   "display_name": "Python 3",
   "language": "python",
   "name": "python3"
  },
  "language_info": {
   "codemirror_mode": {
    "name": "ipython",
    "version": 3
   },
   "file_extension": ".py",
   "mimetype": "text/x-python",
   "name": "python",
   "nbconvert_exporter": "python",
   "pygments_lexer": "ipython3",
   "version": "3.7.0"
  }
 },
 "nbformat": 4,
 "nbformat_minor": 2
}
