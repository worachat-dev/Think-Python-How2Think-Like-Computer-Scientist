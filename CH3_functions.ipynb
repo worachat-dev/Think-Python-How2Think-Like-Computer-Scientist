{
 "cells": [
  {
   "cell_type": "markdown",
   "metadata": {},
   "source": [
    "This work is licensed under the Creative Commons Attribution-NonCommercial 3.0 Unported License. To view a copy of this license, visit http://creativecommons.org/licenses/by-nc/3.0/ or send a letter to Creative Commons, PO Box 1866, Mountain View, CA 94042, USA."
   ]
  },
  {
   "cell_type": "markdown",
   "metadata": {},
   "source": [
    "# Functions\n",
    "\n",
    "In the context of programming, a function is a named sequence of statements that performs a computation. When you define a function, you specify the name and the sequence of statements. Later, you can “call” the function by name.\n",
    "\n",
    "\n",
    "### 3.1 Function calls\n",
    "\n",
    "We have already seen one example of a function call:"
   ]
  },
  {
   "cell_type": "code",
   "execution_count": null,
   "metadata": {},
   "outputs": [],
   "source": [
    "type(42)"
   ]
  },
  {
   "cell_type": "markdown",
   "metadata": {},
   "source": [
    "The name of the function is _type_. The expression in parentheses is called the argument of the function. The result, for this function, is the type of the argument.\n",
    "\n",
    "It is common to say that a function “takes” an argument and “returns” a result. The result is also called the **return value**.\n",
    "\n",
    "Python provides functions that convert values from one type to another. The _int_ function takes any value and converts it to an integer, if it can, or complains otherwise:"
   ]
  },
  {
   "cell_type": "code",
   "execution_count": null,
   "metadata": {},
   "outputs": [],
   "source": [
    "int('32')"
   ]
  },
  {
   "cell_type": "code",
   "execution_count": null,
   "metadata": {},
   "outputs": [],
   "source": [
    "int('Hello')"
   ]
  },
  {
   "cell_type": "markdown",
   "metadata": {},
   "source": [
    "_int_ can convert floating-point values to integers, but it doesn’t round off; it chops off the fraction part:"
   ]
  },
  {
   "cell_type": "code",
   "execution_count": null,
   "metadata": {},
   "outputs": [],
   "source": [
    "int(3.99999)"
   ]
  },
  {
   "cell_type": "code",
   "execution_count": null,
   "metadata": {},
   "outputs": [],
   "source": [
    "int(-2.3)"
   ]
  },
  {
   "cell_type": "markdown",
   "metadata": {},
   "source": [
    "_float_ converts integers and strings to floating-point numbers:"
   ]
  },
  {
   "cell_type": "code",
   "execution_count": null,
   "metadata": {},
   "outputs": [],
   "source": [
    "float(32)"
   ]
  },
  {
   "cell_type": "code",
   "execution_count": null,
   "metadata": {},
   "outputs": [],
   "source": [
    "float('3.14159')"
   ]
  },
  {
   "cell_type": "markdown",
   "metadata": {},
   "source": [
    "Finally, _str_ converts its argument to a string:"
   ]
  },
  {
   "cell_type": "code",
   "execution_count": null,
   "metadata": {},
   "outputs": [],
   "source": [
    "str(32)"
   ]
  },
  {
   "cell_type": "code",
   "execution_count": null,
   "metadata": {},
   "outputs": [],
   "source": [
    "str(3.14159)"
   ]
  },
  {
   "cell_type": "markdown",
   "metadata": {},
   "source": [
    "### 3.2 Math functions\n",
    "\n",
    "Python has a math module that provides most of the familiar mathematical functions. A __module__ is a file that contains a collection of related functions. \n",
    "\n",
    "Before we can use the functions in a module, we have to import it with an __import statement:__"
   ]
  },
  {
   "cell_type": "code",
   "execution_count": null,
   "metadata": {},
   "outputs": [],
   "source": [
    "import math"
   ]
  },
  {
   "cell_type": "markdown",
   "metadata": {},
   "source": [
    "This statement creates a __module object__ named math. If you display the module object, you get some information about it:"
   ]
  },
  {
   "cell_type": "code",
   "execution_count": null,
   "metadata": {},
   "outputs": [],
   "source": [
    "math"
   ]
  },
  {
   "cell_type": "markdown",
   "metadata": {},
   "source": [
    "The module object contains the functions and variables defined in the module. To access one of the functions, you have to specify the name of the module and the name of the function, separated by a dot (also known as a period). This format is called __dot notation__."
   ]
  },
  {
   "cell_type": "code",
   "execution_count": null,
   "metadata": {},
   "outputs": [],
   "source": [
    "signal_power = 500000\n",
    "noise_power = 10\n",
    "ratio = signal_power / noise_power\n",
    "decibels = 10 * math.log10(ratio)\n",
    "decibels"
   ]
  },
  {
   "cell_type": "code",
   "execution_count": null,
   "metadata": {},
   "outputs": [],
   "source": [
    "radians = 0.7\n",
    "height = math.sin(radians)\n",
    "height"
   ]
  },
  {
   "cell_type": "markdown",
   "metadata": {},
   "source": [
    "The first example uses _math.log10()_ to compute a signal-to-noise ratio in decibels. The math module also provides _log_,\n",
    "which computes logarithms base e.\n",
    "\n",
    "The second example finds the sine of _radians_. The name of the variable is a hint that _sin_ and the other trigonometric functions (_cos_, _tan_, etc.) take arguments in radians. To convert from degrees to radians, divide by 180 and multiply by $\\pi$:"
   ]
  },
  {
   "cell_type": "code",
   "execution_count": null,
   "metadata": {},
   "outputs": [],
   "source": [
    "degrees = 45\n",
    "radians = degrees / 180.0 * math.pi\n",
    "math.sin(radians)"
   ]
  },
  {
   "cell_type": "markdown",
   "metadata": {},
   "source": [
    "The expression _math.pi_ gets the variable _pi_ from the math module. Its value is a floating-point approximation of $\\pi$, accurate to about 15 digits.\n",
    "\n",
    "If you know trigonometry, you can check the previous result by comparing it to the square root of two divided by two:"
   ]
  },
  {
   "cell_type": "code",
   "execution_count": null,
   "metadata": {},
   "outputs": [],
   "source": [
    "math.sqrt(2) / 2.0"
   ]
  },
  {
   "cell_type": "markdown",
   "metadata": {},
   "source": [
    "### 3.3 Composition\n",
    "\n",
    "So far, we have looked at the elements of a program—-variables, expressions, and statements—-in isolation, without talking about how to combine them.\n",
    "\n",
    "One of the most useful features of programming languages is their ability to take small building blocks and compose them. For example, the argument of a function can be any kind of expression, including arithmetic operators:\n",
    "\n",
    "_x = math.sin(degrees / 360.0 * 2 * math.pi)_\n",
    "\n",
    "And even function calls:\n",
    "\n",
    "_x = math.exp(math.log(x+1))_\n",
    "\n",
    "Almost anywhere you can put a value, you can put an arbitrary expression, with one exception: the left side of an assignment statement has to be a variable name. Any other expression on the left side is a syntax error (we will see exceptions to this rule later)."
   ]
  },
  {
   "cell_type": "code",
   "execution_count": null,
   "metadata": {
    "scrolled": true
   },
   "outputs": [],
   "source": [
    "hours = 2\n",
    "minutes = hours * 60 # right"
   ]
  },
  {
   "cell_type": "code",
   "execution_count": null,
   "metadata": {},
   "outputs": [],
   "source": [
    "hours * 60 = minutes # wrong!"
   ]
  },
  {
   "cell_type": "markdown",
   "metadata": {},
   "source": [
    "### 3.4 Adding new functions\n",
    "\n",
    "So far, we have only been using the functions that come with Python, but it is also possible to add new functions. A __function definition__ specifies the name of a new function and the sequence of statements that run when the function is called.\n",
    "\n",
    "Here is an example:\n",
    "\n",
    "```python\n",
    "def print_lyrics():\n",
    "    print(\"I'm a lumberjack, and I'm okay.\")\n",
    "    print(\"I sleep all night and I work all day.\")```\n",
    "\n",
    "_def_ is a keyword that indicates that this is a function definition. The name of the function is _print_lyrics_. The rules for function names are the same as for variable names: letters, numbers and underscore are legal, but the first character can’t be a number. You can’t use a keyword as the name of a function, and you should avoid having a variable and a function with the same name.\n",
    "\n",
    "The empty parentheses after the name indicate that this function doesn’t take any arguments.\n",
    "\n",
    "The first line of the function definition is called the __header__; the rest is called the __body__. The header has to end with a colon and the body has to be indented. By convention, indentation is always four spaces. The body can contain any number of statements.\n",
    "\n",
    "The strings in the print statements are enclosed in double quotes. Single quotes and double quotes do the same thing; most people use single quotes except in cases like this where a single quote (which is also an apostrophe) appears in the string.\n",
    "All quotation marks (single and double) must be “straight quotes”, usually located next to Enter on the keyboard. “Curly quotes”, like the ones in this sentence, are not legal in Python.\n",
    "\n",
    "To define the print_lyrics() function run the next cell."
   ]
  },
  {
   "cell_type": "code",
   "execution_count": null,
   "metadata": {},
   "outputs": [],
   "source": [
    "def print_lyrics():\n",
    "    print(\"I'm a lumberjack, and I'm okay.\")\n",
    "    print(\"I sleep all night and I work all day.\")\n"
   ]
  },
  {
   "cell_type": "markdown",
   "metadata": {},
   "source": [
    "Defining a function creates a function object, which has type function:"
   ]
  },
  {
   "cell_type": "code",
   "execution_count": null,
   "metadata": {},
   "outputs": [],
   "source": [
    "print(print_lyrics)\n",
    "print(type(print_lyrics))"
   ]
  },
  {
   "cell_type": "markdown",
   "metadata": {},
   "source": [
    "The syntax for calling the new function is the same as for built-in functions:"
   ]
  },
  {
   "cell_type": "code",
   "execution_count": null,
   "metadata": {},
   "outputs": [],
   "source": [
    "print_lyrics()"
   ]
  },
  {
   "cell_type": "markdown",
   "metadata": {},
   "source": [
    "Once you have defined a function, you can use it inside another function. For example, to repeat the previous refrain, we could write a function called repeat_lyrics:"
   ]
  },
  {
   "cell_type": "code",
   "execution_count": null,
   "metadata": {},
   "outputs": [],
   "source": [
    "def repeat_lyrics():\n",
    "    print_lyrics()\n",
    "    print_lyrics()"
   ]
  },
  {
   "cell_type": "markdown",
   "metadata": {},
   "source": [
    "And then call repeat_lyrics:"
   ]
  },
  {
   "cell_type": "code",
   "execution_count": null,
   "metadata": {},
   "outputs": [],
   "source": [
    "repeat_lyrics()"
   ]
  },
  {
   "cell_type": "markdown",
   "metadata": {},
   "source": [
    "But that’s not really how the song goes.\n",
    "\n",
    "\n",
    "### 3.5 Definitions and uses\n",
    "\n",
    "Pulling together the code fragments from the previous cells, the whole program looks like this:\n",
    "\n",
    "```python\n",
    "def print_lyrics():\n",
    "    print(\"I'm a lumberjack, and I'm okay.\")\n",
    "    print(\"I sleep all night and I work all day.\")\n",
    "\n",
    "def repeat_lyrics():\n",
    "    print_lyrics()\n",
    "    print_lyrics()\n",
    "    \n",
    "repeat_lyrics()```\n",
    "\n",
    "This program contains two function definitions: print_lyrics and repeat_lyrics. Function definitions get executed just like other statements, but the effect is to create function objects. The statements inside the function do not run until the function is called, and the function definition generates no output.\n",
    "\n",
    "As you might expect, you have to create a function before you can run it. In other words,the function definition has to run before the function gets called.\n",
    "\n",
    "As an exercise, restart the kernel and clear outputs and run the cells in reverse order and see what error messages you get.\n",
    "\n",
    "\n",
    "### 3.6 Flow of execution\n",
    "\n",
    "To ensure that a function is defined before its first use, you have to know the order statements run in, which is called the __flow of execution__.\n",
    "\n",
    "Execution always begins at the first statement of the program. Usually statements are run one at atime, in order from top to bottom. With notebooks, however we can run cells in any order, although a well written notebook will have cells that can be run top to bottom.\n",
    "\n",
    "Function definitions do not alter the flow of execution of the program, but remember that statements inside the function don’t run until the function is called.\n",
    "\n",
    "A function call is like a detour in the flow of execution. Instead of going to the next statement, the flow jumps to the body of the function, runs the statements there, and then comes back to pick up where it left off.\n",
    "\n",
    "That sounds simple enough, until you remember that one function can call another. While in the middle of one function, the program might have to run the statements in another function. Then, while running that new function, the program might have to run yet another function!\n",
    "\n",
    "Fortunately, Python is good at keeping track of where it is, so each time a function completes, the program picks up where it left off in the function that called it. When it gets to the end of the program, it terminates.\n",
    "\n",
    "In summary, when you read a program, you don’t always want to read from top to bottom. Sometimes it makes more sense if you follow the flow of execution.\n",
    "\n",
    "\n",
    "### 3.7 Parameters and arguments\n",
    "\n",
    "Some of the functions we have seen require arguments. For example, when you call _math.sin_ you pass a number as an argument. Some functions take more than one argument: _math.pow_ takes two, the base and the exponent.\n",
    "\n",
    "Inside the function, the arguments are assigned to variables called __parameters__. Here is a\n",
    "definition for a function that takes an argument:"
   ]
  },
  {
   "cell_type": "code",
   "execution_count": null,
   "metadata": {},
   "outputs": [],
   "source": [
    "def print_twice(bruce):\n",
    "    print(bruce)\n",
    "    print(bruce)"
   ]
  },
  {
   "cell_type": "markdown",
   "metadata": {},
   "source": [
    "This function assigns the argument to a parameter named _bruce_. When the function is called, it prints the value of the parameter (whatever it is) twice.\n",
    "\n",
    "This function works with any value that can be printed."
   ]
  },
  {
   "cell_type": "code",
   "execution_count": null,
   "metadata": {},
   "outputs": [],
   "source": [
    "print_twice('Spam')\n",
    "print_twice(42)\n",
    "print_twice(math.pi)  # make sure to rerun the cell that imports the math module or this line will give an error"
   ]
  },
  {
   "cell_type": "markdown",
   "metadata": {},
   "source": [
    "The same rules of composition that apply to built-in functions also apply to programmer defined-functions, so we can use any kind of expression as an argument for print_twice:"
   ]
  },
  {
   "cell_type": "code",
   "execution_count": null,
   "metadata": {},
   "outputs": [],
   "source": [
    "print_twice('Spam '*4)\n",
    "print_twice(math.cos(math.pi))"
   ]
  },
  {
   "cell_type": "markdown",
   "metadata": {},
   "source": [
    "The argument is evaluated before the function is called, so in the examples the expressions 'Spam '*4 and math.cos(math.pi) are only evaluated once.\n",
    "\n",
    "You can also use a variable as an argument:"
   ]
  },
  {
   "cell_type": "code",
   "execution_count": null,
   "metadata": {
    "scrolled": true
   },
   "outputs": [],
   "source": [
    "michael = 'Eric, the half a bee.'\n",
    "print_twice(michael)"
   ]
  },
  {
   "cell_type": "markdown",
   "metadata": {},
   "source": [
    "The name of the variable we pass as an argument (michael) has nothing to do with the name of the parameter (bruce). It doesn’t matter what the value was called back home (in the caller); here in print_twice, we call everybody bruce.\n",
    "\n",
    "\n",
    "### 3.8 Variables and parameters are local\n",
    "\n",
    "When you create a variable inside a function, it is local, which means that it only existsinside the function. For example:"
   ]
  },
  {
   "cell_type": "code",
   "execution_count": null,
   "metadata": {},
   "outputs": [],
   "source": [
    "def cat_twice(part1, part2):\n",
    "    cat = part1 + part2\n",
    "    print_twice(cat)"
   ]
  },
  {
   "cell_type": "markdown",
   "metadata": {},
   "source": [
    "This function takes two arguments, concatenates them, and prints the result twice. Here is an example that uses it:"
   ]
  },
  {
   "cell_type": "code",
   "execution_count": null,
   "metadata": {},
   "outputs": [],
   "source": [
    "line1 = 'Bing tiddle '\n",
    "line2 = 'tiddle bang.'\n",
    "cat_twice(line1, line2)"
   ]
  },
  {
   "cell_type": "markdown",
   "metadata": {},
   "source": [
    "When cat_twice terminates, the variable cat is destroyed. If we try to print it, we get an exception:"
   ]
  },
  {
   "cell_type": "code",
   "execution_count": null,
   "metadata": {},
   "outputs": [],
   "source": [
    "print(cat)"
   ]
  },
  {
   "cell_type": "markdown",
   "metadata": {},
   "source": [
    "Parameters are also local. For example, outside *print_twice*, there is no such thing as *bruce*.\n",
    "\n",
    "\n",
    "### 3.9 Stack diagrams\n",
    "\n",
    "To keep track of which variables can be used where, it is sometimes useful to draw a **stack diagram**. Like state diagrams, stack diagrams show the value of each variable, but they also show the function each variable belongs to.\n",
    "\n",
    "Each function is represented by a **frame**. A frame is a box with the name of a function beside it and the parameters and variables of the function inside it. The stack diagram for the previous example is shown in Figure 3.1.\n",
    "\n",
    "><p>__main__\n",
    "><table style=\"width:55%; border-style:solid;\"> \n",
    "    <tr><td>line1</td> <td>-------------------></td> <td colspan=\"2\">’Bing tiddle ’</td>  </tr>\n",
    "    <tr><td>line2</td> <td>-------------------></td> <td colspan=\"2\">’tiddle bang.’   </td>  </tr> </table> </p>\n",
    "\n",
    ">><p>cat_twice\n",
    ">><table style=\"width:45%; border-style:solid;\"> \n",
    "    <tr><td>part1</td> <td>----------------></td> <td colspan=\"2\">’Bing tiddle ’</td>  </tr>\n",
    "    <tr><td>part2</td> <td>----------------></td> <td colspan=\"2\">’tiddle bang.’   </td>  </tr> \n",
    "    <tr><td>cat</td> <td>----------------></td> <td colspan=\"2\">’Bing tiddle tiddle bang.’</td>  </tr></table></p>\n",
    "\n",
    "\n",
    ">>>print_twice\n",
    ">>><table style=\"width:50%; border-style:solid;\"> \n",
    "    <tr><td>bruce</td> <td>-------------></td> <td colspan=\"2\">’Bing tiddle tiddle bang.’</td>  </tr></table>\n",
    "\n",
    "Figure 3.1: Stack diagram.\n",
    "\n",
    "The frames are arranged in a stack that indicates which function called which, and so\n",
    "on. In this example, *print_twice* was called by *cat_twice*, and *cat_twice* was called\n",
    "by *\\_\\_main\\_\\_*, which is a special name for the topmost frame. When you create a variable\n",
    "outside of any function, it belongs to *\\_\\_main\\_\\_*.\n",
    "\n",
    "Each parameter refers to the same value as its corresponding argument. So, part1 has the same value as line1, part2 has the same value as line2, and bruce has the same value as cat.\n",
    "\n",
    "If an error occurs during a function call, Python prints the name of the function, the name of the function that called it, and the name of the function that called that, all the way back to *\\_\\_main\\_\\_*.\n",
    "\n",
    "For example, if you try to access cat from within print_twice, you get a NameError:"
   ]
  },
  {
   "cell_type": "code",
   "execution_count": null,
   "metadata": {},
   "outputs": [],
   "source": [
    "def print_twice(bruce):\n",
    "    print(bruce)\n",
    "    print(bruce)\n",
    "    print(line1)\n",
    "    print(cat)\n",
    "    \n",
    "line1 = 'Bing tiddle '\n",
    "line2 = 'tiddle bang.'\n",
    "cat_twice(line1, line2)"
   ]
  },
  {
   "cell_type": "code",
   "execution_count": null,
   "metadata": {},
   "outputs": [],
   "source": [
    "# run this cell to fix the function\n",
    "def print_twice(bruce):\n",
    "    print(bruce)\n",
    "    print(bruce)"
   ]
  },
  {
   "cell_type": "markdown",
   "metadata": {},
   "source": [
    "This list of functions is called a **traceback**. It tells you what program file the error occurred in, and what line, and what functions were executing at the time. It also shows the line of code that caused the error.\n",
    "\n",
    "The order of the functions in the traceback is the same as the order of the frames in the stack diagram. The function that is currently running is at the bottom.\n",
    "\n",
    "\n",
    "### 3.10 Fruitful functions and void functions\n",
    "\n",
    "Some of the functions we have used, such as the math functions, return results; for lack of a better name, we call them **fruitful functions**. Other functions, like *print_twice*, perform an action but don’t return a value. They are called **void functions**.\n",
    "\n",
    "When you call a fruitful function, you almost always want to do something with the result; for example, you might assign it to a variable or use it as part of an expression:\n",
    "\n",
    "*x = math.cos(radians)<br>\n",
    "golden = (math.sqrt(5) + 1) / 2*\n",
    "\n",
    "When you call a function in interactive mode or at the end of a cell, Python displays the result:"
   ]
  },
  {
   "cell_type": "code",
   "execution_count": null,
   "metadata": {},
   "outputs": [],
   "source": [
    "math.sqrt(5)"
   ]
  },
  {
   "cell_type": "markdown",
   "metadata": {},
   "source": [
    "But in a script or before the end of a cell, if you call a fruitful function all by itself, the return value is lost forever!"
   ]
  },
  {
   "cell_type": "code",
   "execution_count": null,
   "metadata": {},
   "outputs": [],
   "source": [
    "math.sqrt(5)\n",
    "pass  # pass is a command that does nothing"
   ]
  },
  {
   "cell_type": "markdown",
   "metadata": {},
   "source": [
    "This cell computes the square root of 5, but since it doesn’t store or display the result, it is not very useful.\n",
    "\n",
    "Void functions might display something on the screen or have some other effect, but they don’t have a return value. If you assign the result to a variable, you get a special value called None."
   ]
  },
  {
   "cell_type": "code",
   "execution_count": null,
   "metadata": {},
   "outputs": [],
   "source": [
    "result = print_twice('Bing')\n",
    "print(result)\n",
    "type(result)"
   ]
  },
  {
   "cell_type": "markdown",
   "metadata": {},
   "source": [
    "The value *None* is not the same as the string *'None'*. It is a special value that has its own type.\n",
    "\n",
    "The functions we have written so far are all void. We will start writing fruitful functions in a few chapters.\n",
    "\n",
    "\n",
    "### 3.11 Why functions?\n",
    "\n",
    "It may not be clear why it is worth the trouble to divide a program into functions. There\n",
    "are several reasons:\n",
    "\n",
    "• Creating a new function gives you an opportunity to name a group of statements, which makes your program easier to read and debug.\n",
    "\n",
    "• Functions can make a program smaller by eliminating repetitive code. Later, if you make a change, you only have to make it in one place.\n",
    "\n",
    "• Dividing a long program into functions allows you to debug the parts one at a time and then assemble them into a working whole.\n",
    "\n",
    "• Well-designed functions are often useful for many programs. Once you write and debug one, you can reuse it. \n",
    "\n",
    "\n",
    "### 3.12 Debugging\n",
    "\n",
    "One of the most important skills you will acquire is debugging. Although it can be frustrating, debugging is one of the most intellectually rich, challenging, and interesting parts of programming.\n",
    "\n",
    "In some ways debugging is like detective work. You are confronted with clues and you have to infer the processes and events that led to the results you see.\n",
    "\n",
    "Debugging is also like an experimental science. Once you have an idea about what is going wrong, you modify your program and try again. If your hypothesis was correct, you can predict the result of the modification, and you take a step closer to a working program. If your hypothesis was wrong, you have to come up with a new one. As Sherlock Holmes pointed out, “When you have eliminated the impossible, whatever remains, however improbable, must be the truth.” (A. Conan Doyle, *The Sign of Four*)\n",
    "\n",
    "For some people, programming and debugging are the same thing. That is, programming is the process of gradually debugging a program until it does what you want. The idea is that you should start with a working program and make small modifications, debugging them as you go.\n",
    "\n",
    "For example, Linux is an operating system that contains millions of lines of code, but it started out as a simple program Linus Torvalds used to explore the Intel 80386 chip. According to Larry Greenfield, “One of Linus’s earlier projects was a program that would switch between printing AAAA and BBBB. This later evolved to Linux.” (*The Linux Users’ Guide* Beta Version 1).\n",
    "\n",
    "\n",
    "### 3.13 Glossary\n",
    "\n",
    "**function:** A named sequence of statements that performs some useful operation. Functions may or may not take arguments and may or may not produce a result.\n",
    "\n",
    "**function definition:** A statement that creates a new function, specifying its name, parameters, and the statements it contains.\n",
    "\n",
    "**function object:** A value created by a function definition. The name of the function is a variable that refers to a function object.\n",
    "\n",
    "**header:** The first line of a function definition.\n",
    "\n",
    "**body:** The sequence of statements inside a function definition.\n",
    "\n",
    "**parameter:** A name used inside a function to refer to the value passed as an argument.\n",
    "\n",
    "**function call:** A statement that runs a function. It consists of the function name followed by an argument list in parentheses.\n",
    "\n",
    "**argument:** A value provided to a function when the function is called. This value is assigned to the corresponding parameter in the function.\n",
    "\n",
    "**local variable:** A variable defined inside a function. A local variable can only be used inside its function.\n",
    "\n",
    "**return value:** The result of a function. If a function call is used as an expression, the return value is the value of the expression.\n",
    "\n",
    "**fruitful function:** A function that returns a value.\n",
    "\n",
    "**void function:** A function that always returns None.\n",
    "\n",
    "**None:** A special value returned by void functions.\n",
    "\n",
    "**module:** A file that contains a collection of related functions and other definitions.\n",
    "\n",
    "**import statement:** A statement that reads a module file and creates a module object.\n",
    "\n",
    "**module object:** A value created by an import statement that provides access to the values defined in a module.\n",
    "\n",
    "**dot notation:** The syntax for calling a function in another module by specifying the module name followed by a dot (period) and the function name.\n",
    "\n",
    "**composition:** Using an expression as part of a larger expression, or a statement as part of a larger statement.\n",
    "\n",
    "**flow of execution:** The order statements run in.\n",
    "\n",
    "**stack diagram:** A graphical representation of a stack of functions, their variables, and the values they refer to.\n",
    "\n",
    "**frame:** A box in a stack diagram that represents a function call. It contains the local variables and parameters of the function.\n",
    "\n",
    "**traceback:** A list of the functions that are executing, printed when an exception occurs.\n",
    "\n",
    "\n",
    "### 3.14 Exercises\n",
    "\n",
    "#### Exercise 3.1. \n",
    "Write a function named right_justify that takes a string named s as a parameter and prints the string with enough leading spaces so that the last letter of the string is in column 70 of the display.\n",
    "\n",
    "*Hint: Use string concatenation and repetition. Also, Python provides a built-in function called len\n",
    "that returns the length of a string, so the value of len('monty') is 5.*"
   ]
  },
  {
   "cell_type": "code",
   "execution_count": null,
   "metadata": {},
   "outputs": [],
   "source": [
    "def right_justify(in_str):\n",
    "    # print(\" \" * (69 - len(in_str)), in_str)\n",
    "    # alternative\n",
    "    print(\" \" * (70 - len(in_str)) + in_str)\n",
    "    \n",
    "# test\n",
    "right_justify(\"did\")\n",
    "right_justify(\"I\")\n",
    "right_justify(\"do\")\n",
    "right_justify(\"this\")\n",
    "right_justify(\"right\")"
   ]
  },
  {
   "cell_type": "markdown",
   "metadata": {},
   "source": [
    "#### Exercise 3.2. \n",
    "A function object is a value you can assign to a variable or pass as an argument. For example, *do_twice* is a function that takes a function object as an argument and calls it twice:\n",
    "```python\n",
    "def do_twice(f):\n",
    "    f()\n",
    "    f()```\n",
    "\n",
    "Here’s an example that uses do_twice to call a function named print_spam twice.\n",
    "```python\n",
    "def print_spam():\n",
    "    print('spam')\n",
    "    \n",
    "do_twice(print_spam)```\n",
    "\n",
    "1. Type this example into a cell and test it.\n",
    "2. Modify *do_twice* so that it takes two arguments, a function object and a value, and calls the function twice, passing the value as an argument.\n",
    "3. Use the modified version of *do_twice* to call *print_twice* twice, passing 'spam' as an argument.\n",
    "4. Define a new function called *do_four* that takes a function object and a value and calls the function four times, passing the value as a parameter. There should be only two statements in the body of this function, not four.\n",
    "\n",
    "Solution: http://thinkpython2.com/code/do_four.py "
   ]
  },
  {
   "cell_type": "code",
   "execution_count": null,
   "metadata": {},
   "outputs": [],
   "source": []
  },
  {
   "cell_type": "code",
   "execution_count": null,
   "metadata": {},
   "outputs": [],
   "source": []
  },
  {
   "cell_type": "code",
   "execution_count": null,
   "metadata": {},
   "outputs": [],
   "source": []
  },
  {
   "cell_type": "code",
   "execution_count": null,
   "metadata": {},
   "outputs": [],
   "source": []
  },
  {
   "cell_type": "markdown",
   "metadata": {},
   "source": [
    "#### Exercise 3.3. \n",
    "\n",
    "Note: This exercise should be done using only the statements and other features we\n",
    "have learned so far.\n",
    "\n",
    "1. Write a function that draws a grid like the following:\n",
    "\n",
    "```python\n",
    "+ - - - - + - - - - +\n",
    "|         |         |\n",
    "|         |         |\n",
    "|         |         |\n",
    "|         |         |\n",
    "+ - - - - + - - - - +\n",
    "|         |         |\n",
    "|         |         |\n",
    "|         |         |\n",
    "|         |         |\n",
    "+ - - - - + - - - - +\n",
    "```\n",
    "\n",
    "Hint: to print more than one value on a line, you can print a comma-separated sequence of values:\n",
    "\n",
    "```python\n",
    "print('+', '-')```\n",
    "\n",
    "By default, print advances to the next line, but you can override that behavior and put a space at the end, like this:\n",
    "\n",
    "```python\n",
    "print('+', end=' ')\n",
    "print('-')```\n",
    "\n",
    "The output of these statements is '+ -' on the same line. The output from the next print\n",
    "statement would begin on the next line.\n",
    "2. Write a function that draws a similar grid with four rows and four columns."
   ]
  },
  {
   "cell_type": "code",
   "execution_count": null,
   "metadata": {},
   "outputs": [],
   "source": []
  },
  {
   "cell_type": "code",
   "execution_count": null,
   "metadata": {},
   "outputs": [],
   "source": [
    "  \n",
    "    "
   ]
  },
  {
   "cell_type": "code",
   "execution_count": null,
   "metadata": {},
   "outputs": [],
   "source": []
  },
  {
   "cell_type": "code",
   "execution_count": null,
   "metadata": {},
   "outputs": [],
   "source": []
  },
  {
   "cell_type": "markdown",
   "metadata": {},
   "source": [
    "Source material from:\n",
    "\n",
    "Think Python<br>\n",
    "How to Think Like a Computer Scientist<br>\n",
    "2nd Edition, Version 2.2.23<br>\n",
    "Allen Downey<br>\n",
    "Copyright © 2015 Allen Downey. <br>\n",
    "<br>\n",
    "Source material used under the Creative Commons Attribution-NonCommercial 3.0 Unported License. To view a copy of this license, visit http://creativecommons.org/licenses/by-nc/3.0/ or send a letter to Creative Commons, PO Box 1866, Mountain View, CA 94042, USA.\n",
    "\n",
    "\n",
    "Adapted to Jupyter Notebooks with additional material by Warren Watts, Copyright © 2018"
   ]
  }
 ],
 "metadata": {
  "kernelspec": {
   "display_name": "Python 3",
   "language": "python",
   "name": "python3"
  },
  "language_info": {
   "codemirror_mode": {
    "name": "ipython",
    "version": 3
   },
   "file_extension": ".py",
   "mimetype": "text/x-python",
   "name": "python",
   "nbconvert_exporter": "python",
   "pygments_lexer": "ipython3",
   "version": "3.7.0"
  }
 },
 "nbformat": 4,
 "nbformat_minor": 2
}
