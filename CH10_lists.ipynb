{
 "cells": [
  {
   "cell_type": "markdown",
   "metadata": {},
   "source": [
    "This work is licensed under the Creative Commons Attribution-NonCommercial 3.0 Unported License. To view a copy of this license, visit http://creativecommons.org/licenses/by-nc/3.0/ or send a letter to Creative Commons, PO Box 1866, Mountain View, CA 94042, USA."
   ]
  },
  {
   "cell_type": "markdown",
   "metadata": {},
   "source": [
    "# Lists\n",
    "\n",
    "This chapter presents one of Python’s most useful built-in types, lists. You will also learn\n",
    "more about objects and what can happen when you have more than one name for the same\n",
    "object.\n",
    "\n",
    "\n",
    "### 10.1 A list is a sequence\n",
    "\n",
    "Like a string, a list is a sequence of values. In a string, the values are characters; in a list,\n",
    "they can be any type. The values in a list are called **elements** or sometimes **items**.\n",
    "\n",
    "There are several ways to create a new list; the simplest is to enclose the elements in square\n",
    "brackets ([ and ]):\n",
    "\n",
    "[10, 20, 30, 40]<br>\n",
    "['crunchy frog', 'ram bladder', 'lark vomit']\n",
    "\n",
    "The first example is a list of four integers. The second is a list of three strings. The elements\n",
    "of a list don’t have to be the same type. The following list contains a string, a float, an\n",
    "integer, and (lo!) another list:\n",
    "\n",
    "['spam', 2.0, 5, [10, 20]]\n",
    "\n",
    "A list within another list is **nested**.\n",
    "\n",
    "A list that contains no elements is called an empty list; you can create one with empty\n",
    "brackets, [].\n",
    "\n",
    "As you might expect, you can assign list values to variables:"
   ]
  },
  {
   "cell_type": "code",
   "execution_count": null,
   "metadata": {},
   "outputs": [],
   "source": [
    "cheeses = ['Cheddar', 'Edam', 'Gouda']\n",
    "numbers = [42, 123]\n",
    "empty = []\n",
    "print(cheeses, numbers, empty)"
   ]
  },
  {
   "attachments": {
    "fig10_1.gif": {
     "image/gif": "[encoded data removed]"
    }
   },
   "cell_type": "markdown",
   "metadata": {},
   "source": [
    "![fig10_1.gif](attachment:fig10_1.gif)\n",
    "\n",
    "\n",
    "### 10.2 Lists are mutable\n",
    "\n",
    "The syntax for accessing the elements of a list is the same as for accessing the characters\n",
    "of a string—the bracket operator. The expression inside the brackets specifies the index.\n",
    "Remember that the indices start at 0:"
   ]
  },
  {
   "cell_type": "code",
   "execution_count": null,
   "metadata": {},
   "outputs": [],
   "source": [
    "cheeses[0]"
   ]
  },
  {
   "cell_type": "markdown",
   "metadata": {},
   "source": [
    "Unlike strings, lists are mutable. When the bracket operator appears on the left side of an\n",
    "assignment, it identifies the element of the list that will be assigned."
   ]
  },
  {
   "cell_type": "code",
   "execution_count": null,
   "metadata": {},
   "outputs": [],
   "source": [
    "numbers = [42, 123]\n",
    "numbers[1] = 5\n",
    "numbers"
   ]
  },
  {
   "cell_type": "markdown",
   "metadata": {},
   "source": [
    "The one-eth element of numbers, which used to be 123, is now 5.\n",
    "\n",
    "Figure 10.1 shows the state diagram for cheeses, numbers and empty:\n",
    "\n",
    "Lists are represented by boxes with the word “list” outside and the elements of the list\n",
    "inside. cheeses refers to a list with three elements indexed 0, 1 and 2. numbers contains\n",
    "two elements; the diagram shows that the value of the second element has been reassigned\n",
    "from 123 to 5. empty refers to a list with no elements.\n",
    "\n",
    "List indices work the same way as string indices:\n",
    "\n",
    "- Any integer expression can be used as an index.\n",
    "\n",
    "- If you try to read or write an element that does not exist, you get an IndexError.\n",
    "\n",
    "- If an index has a negative value, it counts backward from the end of the list.\n",
    "The in operator also works on lists."
   ]
  },
  {
   "cell_type": "code",
   "execution_count": null,
   "metadata": {},
   "outputs": [],
   "source": [
    "'Edam' in cheeses"
   ]
  },
  {
   "cell_type": "code",
   "execution_count": null,
   "metadata": {},
   "outputs": [],
   "source": [
    "'Brie' in cheeses"
   ]
  },
  {
   "cell_type": "markdown",
   "metadata": {},
   "source": [
    "### 10.3 Traversing a list\n",
    "\n",
    "The most common way to traverse the elements of a list is with a for loop. The syntax is\n",
    "the same as for strings:"
   ]
  },
  {
   "cell_type": "code",
   "execution_count": null,
   "metadata": {},
   "outputs": [],
   "source": [
    "for cheese in cheeses:\n",
    "    print(cheese)"
   ]
  },
  {
   "cell_type": "markdown",
   "metadata": {},
   "source": [
    "This works well if you only need to read the elements of the list. But if you want to write\n",
    "or update the elements, you need the indices. A common way to do that is to combine the\n",
    "built-in functions range and len:"
   ]
  },
  {
   "cell_type": "code",
   "execution_count": null,
   "metadata": {},
   "outputs": [],
   "source": [
    "print(numbers)\n",
    "for i in range(len(numbers)):\n",
    "    numbers[i] = numbers[i] * 2\n",
    "\n",
    "print(numbers)"
   ]
  },
  {
   "cell_type": "markdown",
   "metadata": {},
   "source": [
    "This loop traverses the list and updates each element. len returns the number of elements\n",
    "in the list. range returns a list of indices from 0 to n - 1, where n is the length of the list.\n",
    "Each time through the loop i gets the index of the next element. The assignment statement\n",
    "in the body uses i to read the old value of the element and to assign the new value.\n",
    "\n",
    "A for loop over an empty list never runs the body:"
   ]
  },
  {
   "cell_type": "code",
   "execution_count": null,
   "metadata": {},
   "outputs": [],
   "source": [
    "for x in []:\n",
    "    print('This never happens.')"
   ]
  },
  {
   "cell_type": "markdown",
   "metadata": {},
   "source": [
    "Although a list can contain another list, the nested list still counts as a single element. The\n",
    "length of this list is four:"
   ]
  },
  {
   "cell_type": "code",
   "execution_count": null,
   "metadata": {},
   "outputs": [],
   "source": [
    "this_list = ['spam', 1, ['Brie', 'Roquefort', 'Pol le Veq'], [1, 2, 3]]\n",
    "len(this_list)"
   ]
  },
  {
   "cell_type": "markdown",
   "metadata": {},
   "source": [
    "### 10.4 List operations\n",
    "\n",
    "The + operator concatenates lists:"
   ]
  },
  {
   "cell_type": "code",
   "execution_count": null,
   "metadata": {},
   "outputs": [],
   "source": [
    "a = [1, 2, 3]\n",
    "b = [4, 5, 6]\n",
    "c = a + b\n",
    "c"
   ]
  },
  {
   "cell_type": "markdown",
   "metadata": {},
   "source": [
    "The * operator repeats a list a given number of times:"
   ]
  },
  {
   "cell_type": "code",
   "execution_count": null,
   "metadata": {},
   "outputs": [],
   "source": [
    "[0] * 4"
   ]
  },
  {
   "cell_type": "code",
   "execution_count": null,
   "metadata": {},
   "outputs": [],
   "source": [
    "[1, 2, 3] * 3"
   ]
  },
  {
   "cell_type": "markdown",
   "metadata": {},
   "source": [
    "The first example repeats [0] four times. The second example repeats the list [1, 2, 3]\n",
    "three times.\n",
    "\n",
    "\n",
    "### 10.5 List slices\n",
    "\n",
    "The slice operator also works on lists:"
   ]
  },
  {
   "cell_type": "code",
   "execution_count": null,
   "metadata": {},
   "outputs": [],
   "source": [
    " t = ['a', 'b', 'c', 'd', 'e', 'f']\n",
    "print(t[1:3])\n",
    "print(t[:4])\n",
    "print(t[3:])\n",
    "print(t[::2]) # third index is increment"
   ]
  },
  {
   "cell_type": "markdown",
   "metadata": {},
   "source": [
    "If you omit the first index, the slice starts at the beginning. If you omit the second, the slice\n",
    "goes to the end. So if you omit both, the slice is a copy of the whole list."
   ]
  },
  {
   "cell_type": "code",
   "execution_count": null,
   "metadata": {},
   "outputs": [],
   "source": [
    "t[:]"
   ]
  },
  {
   "cell_type": "markdown",
   "metadata": {},
   "source": [
    "Since lists are mutable, it is often useful to make a copy before performing operations that\n",
    "modify lists.\n",
    "\n",
    "A slice operator on the left side of an assignment can update multiple elements:"
   ]
  },
  {
   "cell_type": "code",
   "execution_count": null,
   "metadata": {},
   "outputs": [],
   "source": [
    "t = ['a', 'b', 'c', 'd', 'e', 'f']\n",
    "t[1:3] = ['x', 'y']\n",
    "t"
   ]
  },
  {
   "cell_type": "markdown",
   "metadata": {},
   "source": [
    "### 10.6 List methods\n",
    "\n",
    "Python provides methods that operate on lists. For example, append adds a new element\n",
    "to the end of a list:"
   ]
  },
  {
   "cell_type": "code",
   "execution_count": null,
   "metadata": {},
   "outputs": [],
   "source": [
    "t = ['a', 'b', 'c']\n",
    "t.append('d')\n",
    "t"
   ]
  },
  {
   "cell_type": "markdown",
   "metadata": {},
   "source": [
    "extend takes a list as an argument and appends all of the elements:"
   ]
  },
  {
   "cell_type": "code",
   "execution_count": null,
   "metadata": {},
   "outputs": [],
   "source": [
    "t1 = ['a', 'b', 'c']\n",
    "t2 = ['d', 'e']\n",
    "t1.extend(t2)\n",
    "t1"
   ]
  },
  {
   "cell_type": "markdown",
   "metadata": {},
   "source": [
    "This example leaves t2 unmodified.\n",
    "\n",
    "sort arranges the elements of the list from low to high:"
   ]
  },
  {
   "cell_type": "code",
   "execution_count": null,
   "metadata": {},
   "outputs": [],
   "source": [
    "t = ['d', 'c', 'e', 'b', 'a']\n",
    "t.sort()\n",
    "t"
   ]
  },
  {
   "cell_type": "markdown",
   "metadata": {},
   "source": [
    "Most list methods are void; they modify the list and return None. If you accidentally write\n",
    "t = t.sort(), you will be disappointed with the result.\n",
    "\n",
    "\n",
    "### 10.7 Map, filter and reduce\n",
    "\n",
    "To add up all the numbers in a list, you can use a loop like this:"
   ]
  },
  {
   "cell_type": "code",
   "execution_count": null,
   "metadata": {},
   "outputs": [],
   "source": [
    "def add_all(t):\n",
    "    total = 0\n",
    "    for x in t:\n",
    "        total += x\n",
    "    return total\n",
    "\n",
    "numbers = [1,2,3,4]\n",
    "add_all(numbers)"
   ]
  },
  {
   "cell_type": "markdown",
   "metadata": {},
   "source": [
    "total is initialized to 0. Each time through the loop, x gets one element from the list.\n",
    "The += operator provides a short way to update a variable. This **augmented assignment\n",
    "statement**,\n",
    "```python \n",
    "total += x```\n",
    "is equivalent to\n",
    "```python\n",
    "total = total + x```\n",
    "As the loop runs, total accumulates the sum of the elements; a variable used this way is\n",
    "sometimes called an **accumulator**.\n",
    "\n",
    "Adding up the elements of a list is such a common operation that Python provides it as a\n",
    "built-in function, sum:"
   ]
  },
  {
   "cell_type": "code",
   "execution_count": null,
   "metadata": {},
   "outputs": [],
   "source": [
    "t = [1, 2, 3]\n",
    "sum(t)"
   ]
  },
  {
   "cell_type": "markdown",
   "metadata": {},
   "source": [
    "An operation like this that combines a sequence of elements into a single value is sometimes\n",
    "called **reduce**.\n",
    "\n",
    "Sometimes you want to traverse one list while building another. For example, the following\n",
    "function takes a list of strings and returns a new list that contains capitalized strings:"
   ]
  },
  {
   "cell_type": "code",
   "execution_count": null,
   "metadata": {},
   "outputs": [],
   "source": [
    "def capitalize_all(t):\n",
    "    res = []\n",
    "    for s in t:\n",
    "        res.append(s.capitalize())\n",
    "    return res\n",
    "\n",
    "herbs = ['parsley', 'sage', 'rosemary', 'thyme']\n",
    "capitalize_all(herbs)"
   ]
  },
  {
   "cell_type": "markdown",
   "metadata": {},
   "source": [
    "res is initialized with an empty list; each time through the loop, we append the next element.\n",
    "So res is another kind of accumulator.\n",
    "\n",
    "An operation like capitalize_all is sometimes called a **map** because it “maps” a function\n",
    "(in this case the method capitalize) onto each of the elements in a sequence.\n",
    "\n",
    "Another common operation is to select some of the elements from a list and return a sublist.\n",
    "For example, the following function takes a list of strings and returns a list that contains\n",
    "only the uppercase strings:"
   ]
  },
  {
   "cell_type": "code",
   "execution_count": null,
   "metadata": {},
   "outputs": [],
   "source": [
    "def only_upper(t):\n",
    "    res = []\n",
    "    for s in t:\n",
    "        if s.isupper():\n",
    "            res.append(s)\n",
    "    return res\n",
    "\n",
    "decode = ['How', 'WHY', 'be', 'AM', 'You', 'and', 'I', 'say', \"SHOUTING\"]\n",
    "only_upper(decode)"
   ]
  },
  {
   "cell_type": "markdown",
   "metadata": {},
   "source": [
    "isupper is a string method that returns True if the string contains only upper case letters.\n",
    "An operation like only_upper is called a **filter** because it selects some of the elements and\n",
    "filters out the others.\n",
    "\n",
    "Most common list operations can be expressed as a combination of map, filter and reduce.\n",
    "\n",
    "\n",
    "### 10.8 Deleting elements\n",
    "\n",
    "There are several ways to delete elements from a list. If you know the index of the element\n",
    "you want, you can use pop:"
   ]
  },
  {
   "cell_type": "code",
   "execution_count": null,
   "metadata": {},
   "outputs": [],
   "source": [
    "t = ['a', 'b', 'c']\n",
    "x = t.pop(1)\n",
    "t"
   ]
  },
  {
   "cell_type": "code",
   "execution_count": null,
   "metadata": {},
   "outputs": [],
   "source": [
    "x"
   ]
  },
  {
   "cell_type": "markdown",
   "metadata": {},
   "source": [
    "pop modifies the list and returns the element that was removed. If you don’t provide an\n",
    "index, it deletes and returns the last element.\n",
    "\n",
    "If you don’t need the removed value, you can use the del operator:"
   ]
  },
  {
   "cell_type": "code",
   "execution_count": null,
   "metadata": {},
   "outputs": [],
   "source": [
    "t = ['a', 'b', 'c']\n",
    "del t[1]\n",
    "t"
   ]
  },
  {
   "cell_type": "markdown",
   "metadata": {},
   "source": [
    "If you know the element you want to remove (but not the index), you can use remove:"
   ]
  },
  {
   "cell_type": "code",
   "execution_count": null,
   "metadata": {},
   "outputs": [],
   "source": [
    "t = ['a', 'b', 'c']\n",
    "t.remove('b')\n",
    "t"
   ]
  },
  {
   "cell_type": "markdown",
   "metadata": {},
   "source": [
    "The return value from remove is None.\n",
    "\n",
    "To remove more than one element, you can use del with a slice index:"
   ]
  },
  {
   "cell_type": "code",
   "execution_count": null,
   "metadata": {},
   "outputs": [],
   "source": [
    "t = ['a', 'b', 'c', 'd', 'e', 'f']\n",
    "del t[1:5]\n",
    "t"
   ]
  },
  {
   "cell_type": "markdown",
   "metadata": {},
   "source": [
    "As usual, the slice selects all the elements up to but not including the second index.\n",
    "\n",
    "\n",
    "### 10.9 Lists and strings\n",
    "\n",
    "A string is a sequence of characters and a list is a sequence of values, but a list of characters\n",
    "is not the same as a string. To convert from a string to a list of characters, you can use list:"
   ]
  },
  {
   "cell_type": "code",
   "execution_count": null,
   "metadata": {},
   "outputs": [],
   "source": [
    "s = 'spam'\n",
    "t = list(s)\n",
    "t"
   ]
  },
  {
   "cell_type": "markdown",
   "metadata": {},
   "source": [
    "Because list is the name of a built-in function, you should avoid using it as a variable\n",
    "name. I also avoid l because it looks too much like 1. So that’s why I use t.\n",
    "\n",
    "The list function breaks a string into individual letters. If you want to break a string into\n",
    "words, you can use the split method:"
   ]
  },
  {
   "cell_type": "code",
   "execution_count": null,
   "metadata": {},
   "outputs": [],
   "source": [
    "s = 'pining for the fjords'\n",
    "t = s.split()\n",
    "t"
   ]
  },
  {
   "cell_type": "markdown",
   "metadata": {},
   "source": [
    "An optional argument called a **delimiter** specifies which characters to use as word boundaries.\n",
    "The following example uses a hyphen as a delimiter:"
   ]
  },
  {
   "cell_type": "code",
   "execution_count": null,
   "metadata": {},
   "outputs": [],
   "source": [
    "s = 'spam-spam-spam'\n",
    "delimiter = '-'\n",
    "t = s.split(delimiter)\n",
    "t"
   ]
  },
  {
   "cell_type": "markdown",
   "metadata": {},
   "source": [
    "join is the inverse of split. It takes a list of strings and concatenates the elements. join is\n",
    "a string method, so you have to invoke it on the delimiter and pass the list as a parameter:"
   ]
  },
  {
   "cell_type": "code",
   "execution_count": null,
   "metadata": {},
   "outputs": [],
   "source": [
    "t = ['pining', 'for', 'the', 'fjords']\n",
    "delimiter = ' '\n",
    "s = delimiter.join(t)\n",
    "s"
   ]
  },
  {
   "attachments": {
    "fig10_2.gif": {
     "image/gif": "[encoded data removed]"
    }
   },
   "cell_type": "markdown",
   "metadata": {},
   "source": [
    "In this case the delimiter is a space character, so join puts a space between words. To\n",
    "concatenate strings without spaces, you can use the empty string, '', as a delimiter.\n",
    "\n",
    "\n",
    "### 10.10 Objects and values\n",
    "![fig10_2.gif](attachment:fig10_2.gif)\n",
    "Figure 10.2: State diagram.\n",
    "\n",
    "If we run these assignment statements:\n",
    "```python\n",
    "a = 'banana'\n",
    "b = 'banana'```\n",
    "We know that a and b both refer to a string, but we don’t know whether they refer to the\n",
    "same string. There are two possible states, shown in Figure 10.2.\n",
    "\n",
    "In one case, a and b refer to two different objects that have the same value. In the second\n",
    "case, they refer to the same object.\n",
    "\n",
    "To check whether two variables refer to the same object, you can use the is operator."
   ]
  },
  {
   "cell_type": "code",
   "execution_count": null,
   "metadata": {},
   "outputs": [],
   "source": [
    "a = 'banana'\n",
    "b = 'banana'\n",
    "a is b"
   ]
  },
  {
   "cell_type": "markdown",
   "metadata": {},
   "source": [
    "In this example, Python only created one string object, and both a and b refer to it. But\n",
    "when you create two lists, you get two objects:"
   ]
  },
  {
   "cell_type": "code",
   "execution_count": null,
   "metadata": {},
   "outputs": [],
   "source": [
    "a = [1, 2, 3]\n",
    "b = [1, 2, 3]\n",
    "a is b"
   ]
  },
  {
   "attachments": {
    "fig10_3_4.gif": {
     "image/gif": "[encoded data removed]"
    }
   },
   "cell_type": "markdown",
   "metadata": {},
   "source": [
    "So the state diagram looks like Figure 10.3.\n",
    "![fig10_3_4.gif](attachment:fig10_3_4.gif)\n",
    "In this case we would say that the two lists are **equivalent**, because they have the same elements,\n",
    "but not **identical**, because they are not the same object. If two objects are identical,\n",
    "they are also equivalent, but if they are equivalent, they are not necessarily identical.\n",
    "\n",
    "Until now, we have been using “object” and “value” interchangeably, but it is more precise\n",
    "to say that an object has a value. If you evaluate [1, 2, 3], you get a list object whose\n",
    "value is a sequence of integers. If another list has the same elements, we say it has the\n",
    "same value, but it is not the same object.\n",
    "\n",
    "\n",
    "### 10.11 Aliasing\n",
    "\n",
    "If a refers to an object and you assign b = a, then both variables refer to the same object:"
   ]
  },
  {
   "cell_type": "code",
   "execution_count": null,
   "metadata": {},
   "outputs": [],
   "source": [
    "a = [1, 2, 3]\n",
    "b = a\n",
    "b is a"
   ]
  },
  {
   "cell_type": "markdown",
   "metadata": {},
   "source": [
    "The state diagram looks like Figure 10.4.\n",
    "\n",
    "The association of a variable with an object is called a **reference**. In this example, there are\n",
    "two references to the same object.\n",
    "\n",
    "An object with more than one reference has more than one name, so we say that the object\n",
    "is **aliased**.\n",
    "\n",
    "If the aliased object is mutable, changes made with one alias affect the other:"
   ]
  },
  {
   "cell_type": "code",
   "execution_count": null,
   "metadata": {},
   "outputs": [],
   "source": [
    "b[0] = 42\n",
    "a"
   ]
  },
  {
   "attachments": {
    "fig10_5.gif": {
     "image/gif": "[encoded data removed]"
    }
   },
   "cell_type": "markdown",
   "metadata": {},
   "source": [
    "Although this behavior can be useful, it is error-prone. In general, it is safer to avoid\n",
    "aliasing when you are working with mutable objects.\n",
    "\n",
    "For immutable objects like strings, aliasing is not as much of a problem. In this example:\n",
    "```Python\n",
    "a = 'banana'\n",
    "b = 'banana'\n",
    "```\n",
    "It almost never makes a difference whether a and b refer to the same string or not.\n",
    "\n",
    "\n",
    "### 10.12 List arguments\n",
    "![fig10_5.gif](attachment:fig10_5.gif)\n",
    "When you pass a list to a function, the function gets a reference to the list. If the function\n",
    "modifies the list, the caller sees the change. For example, delete_head removes the first\n",
    "element from a list:"
   ]
  },
  {
   "cell_type": "code",
   "execution_count": null,
   "metadata": {},
   "outputs": [],
   "source": [
    "def delete_head(t):\n",
    "    del t[0]"
   ]
  },
  {
   "cell_type": "markdown",
   "metadata": {},
   "source": [
    "Here’s how it is used:"
   ]
  },
  {
   "cell_type": "code",
   "execution_count": null,
   "metadata": {},
   "outputs": [],
   "source": [
    "letters = ['a', 'b', 'c']\n",
    "delete_head(letters)\n",
    "letters"
   ]
  },
  {
   "cell_type": "markdown",
   "metadata": {},
   "source": [
    "The parameter t and the variable letters are aliases for the same object. The stack diagram\n",
    "looks like Figure 10.5.\n",
    "\n",
    "Since the list is shared by two frames, I drew it between them.\n",
    "\n",
    "It is important to distinguish between operations that modify lists and operations that create\n",
    "new lists. For example, the append method modifies a list, but the + operator creates a\n",
    "new list.\n",
    "\n",
    "Here’s an example using append:"
   ]
  },
  {
   "cell_type": "code",
   "execution_count": null,
   "metadata": {},
   "outputs": [],
   "source": [
    "t1 = [1, 2]\n",
    "t2 = t1.append(3)\n",
    "t1"
   ]
  },
  {
   "cell_type": "code",
   "execution_count": null,
   "metadata": {},
   "outputs": [],
   "source": [
    "print(t2)"
   ]
  },
  {
   "cell_type": "markdown",
   "metadata": {},
   "source": [
    "The return value from append is None.\n",
    "\n",
    "Here’s an example using the + operator:"
   ]
  },
  {
   "cell_type": "code",
   "execution_count": null,
   "metadata": {},
   "outputs": [],
   "source": [
    "t3 = t1 + [4]\n",
    "t1"
   ]
  },
  {
   "cell_type": "code",
   "execution_count": null,
   "metadata": {},
   "outputs": [],
   "source": [
    " t3"
   ]
  },
  {
   "cell_type": "markdown",
   "metadata": {},
   "source": [
    "The result of the operator is a new list, and the original list is unchanged.\n",
    "\n",
    "This difference is important when you write functions that are supposed to modify lists.\n",
    "For example, this function does not delete the head of a list:"
   ]
  },
  {
   "cell_type": "code",
   "execution_count": null,
   "metadata": {},
   "outputs": [],
   "source": [
    "def bad_delete_head(t):\n",
    "    t = t[1:] # WRONG!"
   ]
  },
  {
   "cell_type": "markdown",
   "metadata": {},
   "source": [
    "The slice operator creates a new list and the assignment makes t refer to it, but that doesn’t\n",
    "affect the caller."
   ]
  },
  {
   "cell_type": "code",
   "execution_count": null,
   "metadata": {},
   "outputs": [],
   "source": [
    "t4 = [1, 2, 3]\n",
    "bad_delete_head(t4)\n",
    "t4"
   ]
  },
  {
   "cell_type": "markdown",
   "metadata": {},
   "source": [
    "At the beginning of bad_delete_head, t and t4 refer to the same list. At the end, t refers\n",
    "to a new list, but t4 still refers to the original, unmodified list.\n",
    "\n",
    "An alternative is to write a function that creates and returns a new list. For example, tail\n",
    "returns all but the first element of a list:"
   ]
  },
  {
   "cell_type": "code",
   "execution_count": null,
   "metadata": {},
   "outputs": [],
   "source": [
    "def tail(t):\n",
    "    return t[1:]"
   ]
  },
  {
   "cell_type": "markdown",
   "metadata": {},
   "source": [
    "This function leaves the original list unmodified. Here’s how it is used:"
   ]
  },
  {
   "cell_type": "code",
   "execution_count": null,
   "metadata": {},
   "outputs": [],
   "source": [
    "letters = ['a', 'b', 'c']\n",
    "rest = tail(letters)\n",
    "rest"
   ]
  },
  {
   "cell_type": "markdown",
   "metadata": {},
   "source": [
    "### 10.13 Debugging\n",
    "\n",
    "Careless use of lists (and other mutable objects) can lead to long hours of debugging. Here\n",
    "are some common pitfalls and ways to avoid them:\n",
    "\n",
    "1. Most list methods modify the argument and return None. This is the opposite of the\n",
    "string methods, which return a new string and leave the original alone.<br><br>\n",
    "If you are used to writing string code like this:\n",
    "```python\n",
    "word = word.strip()```\n",
    "It is tempting to write list code like this:\n",
    "```python\n",
    "t = t.sort() # WRONG!```\n",
    "Because sort returns None, the next operation you perform with t is likely to fail.<br><br>\n",
    "Before using list methods and operators, you should read the documentation carefully\n",
    "and then test them in interactive mode.<br><br>\n",
    "2. Pick an idiom and stick with it.<br><br>\n",
    "Part of the problem with lists is that there are too many ways to do things. For example,\n",
    "to remove an element from a list, you can use pop, remove, del, or even a slice\n",
    "assignment.<br><br>\n",
    "To add an element, you can use the append method or the + operator. Assuming that\n",
    "t is a list and x is a list element, these are correct:\n",
    "```python\n",
    "t.append(x)\n",
    "t = t + [x]\n",
    "t += [x]```\n",
    "And these are wrong:\n",
    "```python\n",
    "t.append([x]) # WRONG!\n",
    "t = t.append(x) # WRONG!\n",
    "t + [x] # WRONG!\n",
    "t = t + x # WRONG!```\n",
    "Try out each of these examples in interactive mode to make sure you understand\n",
    "what they do. Notice that only the last one causes a runtime error; the other three are\n",
    "legal, but they do the wrong thing.<br><br>\n",
    "3. Make copies to avoid aliasing.<br><br>\n",
    "If you want to use a method like sort that modifies the argument, but you need to\n",
    "keep the original list as well, you can make a copy."
   ]
  },
  {
   "cell_type": "code",
   "execution_count": null,
   "metadata": {},
   "outputs": [],
   "source": [
    "t = [3, 1, 2]\n",
    "t2 = t[:]\n",
    "t2.sort()\n",
    "t"
   ]
  },
  {
   "cell_type": "code",
   "execution_count": null,
   "metadata": {},
   "outputs": [],
   "source": [
    "t2"
   ]
  },
  {
   "cell_type": "markdown",
   "metadata": {},
   "source": [
    "In this example you could also use the built-in function sorted, which returns a new,\n",
    "sorted list and leaves the original alone."
   ]
  },
  {
   "cell_type": "code",
   "execution_count": null,
   "metadata": {},
   "outputs": [],
   "source": [
    "t2 = sorted(t)\n",
    "t"
   ]
  },
  {
   "cell_type": "code",
   "execution_count": null,
   "metadata": {},
   "outputs": [],
   "source": [
    "t2"
   ]
  },
  {
   "cell_type": "markdown",
   "metadata": {},
   "source": [
    "### 10.14 Glossary\n",
    "\n",
    "**list:** A sequence of values.\n",
    "\n",
    "**element:** One of the values in a list (or other sequence), also called items.\n",
    "\n",
    "**nested list:** A list that is an element of another list.\n",
    "\n",
    "**accumulator:** A variable used in a loop to add up or accumulate a result.\n",
    "\n",
    "**augmented assignment:** A statement that updates the value of a variable using an operator\n",
    "like +=.\n",
    "\n",
    "**reduce:** A processing pattern that traverses a sequence and accumulates the elements into\n",
    "a single result.\n",
    "\n",
    "**map:** A processing pattern that traverses a sequence and performs an operation on each\n",
    "element.\n",
    "\n",
    "**filter:** A processing pattern that traverses a list and selects the elements that satisfy some\n",
    "criterion.\n",
    "\n",
    "**object:** Something a variable can refer to. An object has a type and a value.\n",
    "\n",
    "**equivalent:** Having the same value.\n",
    "\n",
    "**identical:** Being the same object (which implies equivalence).\n",
    "\n",
    "**reference:** The association between a variable and its value.\n",
    "\n",
    "**aliasing:** A circumstance where two or more variables refer to the same object.\n",
    "\n",
    "**delimiter:** A character or string used to indicate where a string should be split.\n",
    "\n",
    "\n",
    "### 10.15 Exercises\n",
    "\n",
    "You can download solutions to these exercises from http://thinkpython2.com/code/\n",
    "list_exercises.py.\n",
    "\n",
    "#### Exercise 10.1. \n",
    "Write a function called nested_sum that takes a list of lists of integers and adds up\n",
    "the elements from all of the nested lists. For example:"
   ]
  },
  {
   "cell_type": "code",
   "execution_count": null,
   "metadata": {},
   "outputs": [],
   "source": [
    "# Write function here\n",
    "\n",
    "\n",
    "# test code for function\n",
    "t = [[1, 2], [3], [4, 5, 6]]\n",
    "nested_sum(t)\n",
    "# Expected output: 21"
   ]
  },
  {
   "cell_type": "markdown",
   "metadata": {},
   "source": [
    "#### Exercise 10.2. \n",
    "Write a function called cumsum that takes a list of numbers and returns the cumulative\n",
    "sum; that is, a new list where the ith element is the sum of the first i + 1 elements from the\n",
    "original list. For example:"
   ]
  },
  {
   "cell_type": "code",
   "execution_count": null,
   "metadata": {},
   "outputs": [],
   "source": [
    "# Write function here\n",
    "\n",
    "\n",
    "# test code for function\n",
    "t = [1, 2, 3]\n",
    "cumsum(t)\n",
    "# Expected output: [1, 3, 6]"
   ]
  },
  {
   "cell_type": "markdown",
   "metadata": {},
   "source": [
    "#### Exercise 10.3. \n",
    "Write a function called middle that takes a list and returns a new list that contains\n",
    "all but the first and last elements. For example:"
   ]
  },
  {
   "cell_type": "code",
   "execution_count": null,
   "metadata": {},
   "outputs": [],
   "source": [
    "# Write function here\n",
    "\n",
    "\n",
    "# test code for function\n",
    "t = [1, 2, 3, 4]\n",
    "middle(t)\n",
    "# Expected output: [2, 3]"
   ]
  },
  {
   "cell_type": "markdown",
   "metadata": {},
   "source": [
    "#### Exercise 10.4. \n",
    "Write a function called chop that takes a list, modifies it by removing the first and\n",
    "last elements, and returns None. For example:"
   ]
  },
  {
   "cell_type": "code",
   "execution_count": null,
   "metadata": {},
   "outputs": [],
   "source": [
    "# Write function here\n",
    "\n",
    "\n",
    "# test code for function\n",
    "t = [1, 2, 3, 4]\n",
    "chop(t)\n",
    "t\n",
    "# Expected output: [2, 3]"
   ]
  },
  {
   "cell_type": "markdown",
   "metadata": {},
   "source": [
    "#### Exercise 10.5. \n",
    "Write a function called is_sorted that takes a list as a parameter and returns True\n",
    "if the list is sorted in ascending order and False otherwise. For example:"
   ]
  },
  {
   "cell_type": "code",
   "execution_count": null,
   "metadata": {},
   "outputs": [],
   "source": [
    "# Write function here\n",
    "\n",
    "\n",
    "\n",
    "is_sorted([1, 2, 2])\n",
    "# Expected output: True"
   ]
  },
  {
   "cell_type": "code",
   "execution_count": null,
   "metadata": {},
   "outputs": [],
   "source": [
    "# test code for function\n",
    "is_sorted(['b', 'a'])\n",
    "# Expected output: False"
   ]
  },
  {
   "cell_type": "markdown",
   "metadata": {},
   "source": [
    "#### Exercise 10.6. \n",
    "Two words are anagrams if you can rearrange the letters from one to spell the other.\n",
    "Write a function called is_anagram that takes two strings and returns True if they are anagrams."
   ]
  },
  {
   "cell_type": "code",
   "execution_count": null,
   "metadata": {},
   "outputs": [],
   "source": []
  },
  {
   "cell_type": "markdown",
   "metadata": {},
   "source": [
    "#### Exercise 10.7. \n",
    "Write a function called has_duplicates that takes a list and returns True if there\n",
    "is any element that appears more than once. It should not modify the original list."
   ]
  },
  {
   "cell_type": "code",
   "execution_count": null,
   "metadata": {},
   "outputs": [],
   "source": []
  },
  {
   "cell_type": "markdown",
   "metadata": {},
   "source": [
    "#### Exercise 10.8. \n",
    "This exercise pertains to the so-called Birthday Paradox, which you can read about\n",
    "at http://en.wikipedia.org/wiki/Birthday_paradox .\n",
    "\n",
    "If there are 23 students in your class, what are the chances that two of you have the same birthday?\n",
    "You can estimate this probability by generating random samples of 23 birthdays and checking for\n",
    "matches. Hint: you can generate random birthdays with the randint function in the random\n",
    "module.\n",
    "\n",
    "You can download the solution from http://thinkpython2.com/code/birthday.py ."
   ]
  },
  {
   "cell_type": "code",
   "execution_count": null,
   "metadata": {},
   "outputs": [],
   "source": [
    "from random import randint\n"
   ]
  },
  {
   "cell_type": "markdown",
   "metadata": {},
   "source": [
    "#### Exercise 10.9. \n",
    "Write a function that reads the file words.txt and builds a list with one element\n",
    "per word. Write two versions of this function, one using the append method and the other using\n",
    "the idiom t = t + [x]. Which one takes longer to run? Why?\n",
    "\n",
    "Solution: http://thinkpython2.com/code/wordlist.py ."
   ]
  },
  {
   "cell_type": "code",
   "execution_count": null,
   "metadata": {},
   "outputs": [],
   "source": []
  },
  {
   "cell_type": "markdown",
   "metadata": {},
   "source": [
    "#### Exercise 10.10. \n",
    "To check whether a word is in the word list, you could use the in operator, but it\n",
    "would be slow because it searches through the words in order.\n",
    "\n",
    "Because the words are in alphabetical order, we can speed things up with a bisection search (also\n",
    "known as binary search), which is similar to what you do when you look a word up in the dictionary.\n",
    "You start in the middle and check to see whether the word you are looking for comes before the word\n",
    "in the middle of the list. If so, you search the first half of the list the same way. Otherwise you search\n",
    "the second half.\n",
    "\n",
    "Either way, you cut the remaining search space in half. If the word list has 113,809 words, it will\n",
    "take about 17 steps to find the word or conclude that it’s not there.\n",
    "\n",
    "Write a function called in_bisect that takes a sorted list and a target value and returns True if\n",
    "the word is in the list and False if it’s not.\n",
    "\n",
    "Or you could read the documentation of the bisect module and use that! \n",
    "\n",
    "Solution: http://thinkpython2.com/code/inlist.py ."
   ]
  },
  {
   "cell_type": "code",
   "execution_count": null,
   "metadata": {},
   "outputs": [],
   "source": []
  },
  {
   "cell_type": "markdown",
   "metadata": {},
   "source": [
    "#### Exercise 10.11. \n",
    "Two words are a “reverse pair” if each is the reverse of the other. Write a program\n",
    "that finds all the reverse pairs in the word list. \n",
    "\n",
    "Solution: http://thinkpython2.com/code/reverse_pair.py ."
   ]
  },
  {
   "cell_type": "code",
   "execution_count": null,
   "metadata": {},
   "outputs": [],
   "source": []
  },
  {
   "cell_type": "markdown",
   "metadata": {},
   "source": [
    "#### Exercise 10.12. \n",
    "Two words “interlock” if taking alternating letters from each forms a new\n",
    "word. For example, “shoe” and “cold” interlock to form “schooled”. \n",
    "\n",
    "Solution: http://thinkpython2.com/code/interlock.py .\n",
    "\n",
    "Credit: This exercise is inspired by an example at http://puzzlers.org .\n",
    "\n",
    "1. Write a program that finds all pairs of words that interlock. Hint: don’t enumerate all pairs!\n",
    "\n",
    "2. Can you find any words that are three-way interlocked; that is, every third letter forms a\n",
    "word, starting from the first, second or third?"
   ]
  },
  {
   "cell_type": "code",
   "execution_count": null,
   "metadata": {},
   "outputs": [],
   "source": []
  },
  {
   "cell_type": "markdown",
   "metadata": {},
   "source": [
    "Source material from:\n",
    "\n",
    "Think Python<br>\n",
    "How to Think Like a Computer Scientist<br>\n",
    "2nd Edition, Version 2.2.23<br>\n",
    "Allen Downey<br>\n",
    "Copyright © 2015 Allen Downey. <br>\n",
    "<br>\n",
    "Source material used under the Creative Commons Attribution-NonCommercial 3.0 Unported License. To view a copy of this license, visit http://creativecommons.org/licenses/by-nc/3.0/ or send a letter to Creative Commons, PO Box 1866, Mountain View, CA 94042, USA.\n",
    "\n",
    "\n",
    "Adapted to Jupyter Notebooks with additional material by Warren Watts, Copyright © 2018"
   ]
  }
 ],
 "metadata": {
  "kernelspec": {
   "display_name": "Python 3",
   "language": "python",
   "name": "python3"
  },
  "language_info": {
   "codemirror_mode": {
    "name": "ipython",
    "version": 3
   },
   "file_extension": ".py",
   "mimetype": "text/x-python",
   "name": "python",
   "nbconvert_exporter": "python",
   "pygments_lexer": "ipython3",
   "version": "3.7.0"
  }
 },
 "nbformat": 4,
 "nbformat_minor": 2
}
