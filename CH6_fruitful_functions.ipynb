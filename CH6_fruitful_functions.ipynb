{
 "cells": [
  {
   "cell_type": "markdown",
   "metadata": {},
   "source": [
    "This work is licensed under the Creative Commons Attribution-NonCommercial 3.0 Unported License. To view a copy of this license, visit http://creativecommons.org/licenses/by-nc/3.0/ or send a letter to Creative Commons, PO Box 1866, Mountain View, CA 94042, USA."
   ]
  },
  {
   "cell_type": "markdown",
   "metadata": {},
   "source": [
    "# Fruitful functions\n",
    "\n",
    "Many of the Python functions we have used, such as the math functions, produce return\n",
    "values. But the functions we’ve written are all void: they have an effect, like printing a\n",
    "value or moving a turtle, but they don’t have a return value. In this chapter you will learn\n",
    "to write fruitful functions.\n",
    "\n",
    "\n",
    "### 6.1 Return values\n",
    "\n",
    "Calling the function generates a return value, which we usually assign to a variable or use\n",
    "as part of an expression."
   ]
  },
  {
   "cell_type": "code",
   "execution_count": null,
   "metadata": {},
   "outputs": [],
   "source": [
    "import math\n",
    "e = math.exp(1.0) # assign a function to a variable\n",
    "radius = 2.0\n",
    "radians = 1\n",
    "height = radius * math.sin(radians)  # assign a function to a variable\n",
    "print(\"e =\", e, \"  height =\", height) # use a function without assignment"
   ]
  },
  {
   "cell_type": "markdown",
   "metadata": {},
   "source": [
    "The functions we have written so far are void. Speaking casually, they have no return\n",
    "value; more precisely, their return value is None.\n",
    "\n",
    "In this chapter, we are (finally) going to write fruitful functions. The first example is _area_,\n",
    "which returns the area of a circle with the given radius:"
   ]
  },
  {
   "cell_type": "code",
   "execution_count": null,
   "metadata": {},
   "outputs": [],
   "source": [
    "def area(radius):\n",
    "    a = math.pi * radius**2\n",
    "    return a\n",
    "\n",
    "area(3)"
   ]
  },
  {
   "cell_type": "markdown",
   "metadata": {},
   "source": [
    "We have seen the _return_ statement before, but in a fruitful function the return statement\n",
    "includes an expression. This statement means: “Return immediately from this function\n",
    "and use the following expression as a return value.” The expression can be arbitrarily\n",
    "complicated, so we could have written this function more concisely:"
   ]
  },
  {
   "cell_type": "code",
   "execution_count": null,
   "metadata": {},
   "outputs": [],
   "source": [
    "def area2(radius):\n",
    "    return math.pi * radius**2\n",
    "\n",
    "area2(3)"
   ]
  },
  {
   "cell_type": "markdown",
   "metadata": {},
   "source": [
    "On the other hand, __temporary variables__ like a can make debugging easier.\n",
    "\n",
    "Sometimes it is useful to have multiple return statements, one in each branch of a conditional:"
   ]
  },
  {
   "cell_type": "code",
   "execution_count": null,
   "metadata": {},
   "outputs": [],
   "source": [
    "def absolute_value(x):\n",
    "    if x < 0:\n",
    "        return -x\n",
    "    else:\n",
    "        return x\n",
    "    \n",
    "absolute_value(-5)"
   ]
  },
  {
   "cell_type": "markdown",
   "metadata": {},
   "source": [
    "Since these _return_ statements are in an alternative conditional, only one runs.\n",
    "\n",
    "As soon as a return statement runs, the function terminates without executing any subsequent\n",
    "statements. Code that appears after a _return_ statement, or any other place the flow\n",
    "of execution can never reach, is called __dead code__.\n",
    "\n",
    "In a fruitful function, it is a good idea to ensure that every possible path through the program\n",
    "hits a _return_ statement. For example:"
   ]
  },
  {
   "cell_type": "code",
   "execution_count": null,
   "metadata": {},
   "outputs": [],
   "source": [
    "def absolute_value(x):\n",
    "    if x < 0:\n",
    "        return -x\n",
    "    if x > 0:\n",
    "        return x\n",
    "    \n",
    "print(absolute_value(0))"
   ]
  },
  {
   "cell_type": "markdown",
   "metadata": {},
   "source": [
    "This function is incorrect because if _x_ happens to be 0, neither condition is true, and the\n",
    "function ends without hitting a _return_ statement. If the flow of execution gets to the end\n",
    "of a function, the return value is _None_, which is not the absolute value of 0.\n",
    "\n",
    "By the way, Python provides a built-in function called abs that computes absolute values.\n",
    "\n",
    "As an exercise, write a compare function takes two values, x and y, and returns 1 if x > y,\n",
    "0 if x == y, and -1 if x < y."
   ]
  },
  {
   "cell_type": "code",
   "execution_count": null,
   "metadata": {},
   "outputs": [],
   "source": []
  },
  {
   "cell_type": "markdown",
   "metadata": {},
   "source": [
    "### 6.2 Incremental development\n",
    "\n",
    "As you write larger functions, you might find yourself spending more time debugging.\n",
    "\n",
    "To deal with increasingly complex programs, you might want to try a process called __incremental\n",
    "development__. The goal of incremental development is to avoid long debugging\n",
    "sessions by adding and testing only a small amount of code at a time. \n",
    "\n",
    "As an example, suppose you want to find the distance between two points, given by the\n",
    "coordinates (x1, y1) and (x2, y2). By the Pythagorean theorem, the distance is:\n",
    "$$ distance = \\sqrt{(x2 - x1)^2 + (y2 - y1)^2} $$\n",
    "\n",
    "The first step is to consider what a _distance_ function should look like in Python. In other\n",
    "words, what are the inputs (parameters) and what is the output (return value)?\n",
    "\n",
    "In this case, the inputs are two points, which you can represent using four numbers. The\n",
    "return value is the distance represented by a floating-point value.\n",
    "Immediately you can write an outline of the function:"
   ]
  },
  {
   "cell_type": "code",
   "execution_count": null,
   "metadata": {},
   "outputs": [],
   "source": [
    "def distance(x1, y1, x2, y2):\n",
    "    return 0.0"
   ]
  },
  {
   "cell_type": "markdown",
   "metadata": {},
   "source": [
    "Obviously, this version doesn’t compute distances; it always returns zero. But it is syntactically\n",
    "correct, and it runs, which means that you can test it before you make it more\n",
    "complicated.\n",
    "\n",
    "To test the new function, call it with sample arguments in the above cell:\n",
    "```python \n",
    "distance(1, 2, 4, 6)```\n",
    "\n",
    "I chose these values so that the horizontal distance is 3 and the vertical distance is 4; that\n",
    "way, the result is 5, the hypotenuse of a 3-4-5 triangle. When testing a function, it is useful\n",
    "to know the right answer.\n",
    "\n",
    "At this point we have confirmed that the function is syntactically correct, and we can start\n",
    "adding code to the body. A reasonable next step is to find the differences $x2 - x1$ and\n",
    "$y2 - y1$. The next version stores those values in temporary variables and prints them.\n",
    "```python\n",
    "def distance(x1, y1, x2, y2):\n",
    "    dx = x2 - x1\n",
    "    dy = y2 - y1\n",
    "    print('dx is', dx)\n",
    "    print('dy is', dy)\n",
    "    return 0.0```\n",
    "\n",
    "Implement and test in the cell above.\n",
    "\n",
    "If the function is working, it should display dx is 3 and dy is 4. If so, we know that the\n",
    "function is getting the right arguments and performing the first computation correctly. If\n",
    "not, there are only a few lines to check.\n",
    "\n",
    "Next we compute the sum of squares of dx and dy:\n",
    "```python\n",
    "def distance(x1, y1, x2, y2):\n",
    "    dx = x2 - x1\n",
    "    dy = y2 - y1\n",
    "    dsquared = dx**2 + dy**2\n",
    "    print('dsquared is: ', dsquared)\n",
    "    return 0.0```\n",
    "Implement and test in the cell above.\n",
    "\n",
    "Again, you would run the program at this stage and check the output (which should be\n",
    "25). Finally, you can use math.sqrt to compute and return the result:\n",
    "```python\n",
    "def distance(x1, y1, x2, y2):\n",
    "    dx = x2 - x1\n",
    "    dy = y2 - y1\n",
    "    dsquared = dx**2 + dy**2\n",
    "    result = math.sqrt(dsquared)\n",
    "    return result```\n",
    "Implement and test in the cell above.\n",
    "\n",
    "If that works correctly, you are done. Otherwise, you might want to print the value of\n",
    "result before the return statement.\n",
    "\n",
    "The final version of the function doesn’t display anything when it runs; it only returns\n",
    "a value. The print statements we wrote are useful for debugging, but once you get the\n",
    "function working, you should remove them. Code like that is called __scaffolding__ because it\n",
    "is helpful for building the program but is not part of the final product.\n",
    "\n",
    "When you start out, you should add only a line or two of code at a time. As you gain more\n",
    "experience, you might find yourself writing and debugging bigger chunks. Either way,\n",
    "incremental development can save you a lot of debugging time.\n",
    "\n",
    "The key aspects of the process are:\n",
    "\n",
    "1. Start with a working program and make small incremental changes. At any point, if\n",
    "there is an error, you should have a good idea where it is.<br><br>\n",
    "2. Use variables to hold intermediate values so you can display and check them.<br><br>\n",
    "3. Once the program is working, you might want to remove some of the scaffolding or\n",
    "consolidate multiple statements into compound expressions, but only if it does not\n",
    "make the program difficult to read.\n",
    "\n",
    "As an exercise, use incremental development to write a function called hypotenuse that\n",
    "returns the length of the hypotenuse of a right triangle given the lengths of the other two\n",
    "legs as arguments. Record each stage of the development process as you go.\n",
    "\n",
    "\n",
    "### 6.3 Composition\n",
    "\n",
    "As you should expect by now, you can call one function from within another. As an example,\n",
    "we’ll write a function that takes two points, the center of the circle and a point on the\n",
    "perimeter, and computes the area of the circle. Follow the steps to implement the function in the cell below.\n",
    "\n",
    "Assume that the center point is stored in the variables xc and yc, and the perimeter point is\n",
    "in xp and yp. The first step is to find the radius of the circle, which is the distance between\n",
    "the two points. We just wrote a function, distance, that does that:\n",
    "```python\n",
    "radius = distance(xc, yc, xp, yp)  # implement in cell below```\n",
    "\n",
    "The next step is to find the area of a circle with that radius; we just wrote that, too:\n",
    "```python\n",
    "result = area(radius)  # implement in cell below```\n",
    "Encapsulating these steps in a function, we get:\n",
    "```python\n",
    "def circle_area(xc, yc, xp, yp):\n",
    "    radius = distance(xc, yc, xp, yp)\n",
    "    result = area(radius)\n",
    "    return result  # implement in cell below```\n",
    "The temporary variables radius and result are useful for development and debugging,\n",
    "but once the program is working, we can make it more concise by composing the function\n",
    "calls:\n",
    "```python\n",
    "def circle_area(xc, yc, xp, yp):\n",
    "    return area(distance(xc, yc, xp, yp))  # implement in cell below```\n",
    "\n",
    "Make sure to add code to call and test your function in the cell below as you build it."
   ]
  },
  {
   "cell_type": "code",
   "execution_count": null,
   "metadata": {},
   "outputs": [],
   "source": []
  },
  {
   "cell_type": "markdown",
   "metadata": {},
   "source": [
    "### 6.4 Boolean functions\n",
    "\n",
    "Functions can return booleans, which is often convenient for hiding complicated tests inside\n",
    "functions. For example:"
   ]
  },
  {
   "cell_type": "code",
   "execution_count": null,
   "metadata": {},
   "outputs": [],
   "source": [
    "def is_divisible(x, y):\n",
    "    if x % y == 0:\n",
    "        return True\n",
    "    else:\n",
    "        return False"
   ]
  },
  {
   "cell_type": "markdown",
   "metadata": {},
   "source": [
    "It is common to give boolean functions names that sound like yes/no questions;\n",
    "is_divisible returns either True or False to indicate whether x is divisible by y.\n",
    "Here is an example:"
   ]
  },
  {
   "cell_type": "code",
   "execution_count": null,
   "metadata": {},
   "outputs": [],
   "source": [
    "is_divisible(6, 4)"
   ]
  },
  {
   "cell_type": "code",
   "execution_count": null,
   "metadata": {},
   "outputs": [],
   "source": [
    "is_divisible(6, 3)"
   ]
  },
  {
   "cell_type": "markdown",
   "metadata": {},
   "source": [
    "The result of the == operator is a boolean, so we can write the function more concisely by\n",
    "returning it directly:"
   ]
  },
  {
   "cell_type": "code",
   "execution_count": null,
   "metadata": {},
   "outputs": [],
   "source": [
    "def is_divisible(x, y):\n",
    "    return x % y == 0"
   ]
  },
  {
   "cell_type": "markdown",
   "metadata": {},
   "source": [
    "Boolean functions are often used in conditional statements:\n",
    "\n",
    "Feel free to change x and y."
   ]
  },
  {
   "cell_type": "code",
   "execution_count": null,
   "metadata": {},
   "outputs": [],
   "source": [
    "x, y = 7, 4   # yes, you can do this in Python\n",
    "if is_divisible(x, y):\n",
    "    print('x is divisible by y')"
   ]
  },
  {
   "cell_type": "markdown",
   "metadata": {},
   "source": [
    "It might be tempting to write something like:"
   ]
  },
  {
   "cell_type": "code",
   "execution_count": null,
   "metadata": {},
   "outputs": [],
   "source": [
    "if is_divisible(x, y) == True:\n",
    "    print('x is divisible by y')"
   ]
  },
  {
   "cell_type": "markdown",
   "metadata": {},
   "source": [
    "But the extra comparison is unnecessary.\n",
    "\n",
    "As an exercise, write a function is_between(x, y, z) that returns True if $x \\leq y \\leq z$ or\n",
    "False otherwise."
   ]
  },
  {
   "cell_type": "markdown",
   "metadata": {},
   "source": [
    "### 6.5 More recursion\n",
    "\n",
    "We have only covered a small subset of Python, but you might be interested to know that\n",
    "this subset is a complete programming language, which means that anything that can be\n",
    "computed can be expressed in this language. Any program ever written could be rewritten\n",
    "using only the language features you have learned so far (actually, you would need a few\n",
    "commands to control devices like the mouse, disks, etc., but that’s all).\n",
    "\n",
    "Proving that claim is a nontrivial exercise first accomplished by Alan Turing, one of the\n",
    "first computer scientists (some would argue that he was a mathematician, but a lot of early\n",
    "computer scientists started as mathematicians). Accordingly, it is known as the Turing\n",
    "Thesis. For a more complete (and accurate) discussion of the Turing Thesis, I recommend\n",
    "Michael Sipser’s book _Introduction to the Theory of Computation_.\n",
    "\n",
    "To give you an idea of what you can do with the tools you have learned so far, we’ll evaluate\n",
    "a few recursively defined mathematical functions. A recursive definition is similar to\n",
    "a circular definition, in the sense that the definition contains a reference to the thing being\n",
    "defined. A truly circular definition is not very useful:\n",
    "\n",
    "__vorpal__: An adjective used to describe something that is vorpal.\n",
    "\n",
    "If you saw that definition in the dictionary, you might be annoyed. On the other hand,\n",
    "if you looked up the definition of the factorial function, denoted with the symbol !, you\n",
    "might get something like this:\n",
    "$$0! = 1$$\n",
    "\n",
    "$$n! = n(n - 1)!$$\n",
    "\n",
    "This definition says that the factorial of 0 is 1, and the factorial of any other value, n, is n\n",
    "multiplied by the factorial of n - 1.\n",
    "\n",
    "So 3! is 3 times 2!, which is 2 times 1!, which is 1 times 0!. Putting it all together, 3! equals 3\n",
    "times 2 times 1 times 1, which is 6.\n",
    "\n",
    "If you can write a recursive definition of something, you can write a Python program to\n",
    "evaluate it. The first step is to decide what the parameters should be. In this case it should\n",
    "be clear that factorial takes an integer:\n",
    "```python \n",
    "def factorial(n):```\n",
    "If the argument happens to be 0, all we have to do is return 1:\n",
    "```python \n",
    "def factorial(n):\n",
    "    if n == 0:\n",
    "        return 1```\n",
    "Otherwise, and this is the interesting part, we have to make a recursive call to find the\n",
    "factorial of n - 1 and then multiply it by n:"
   ]
  },
  {
   "cell_type": "code",
   "execution_count": null,
   "metadata": {},
   "outputs": [],
   "source": [
    "def factorial(n):\n",
    "    if n == 0:\n",
    "        print(\"factorial(%d)\" % n) # print added to show level and state, print formatting covered later\n",
    "        print(\"n-------->\", n) # print added to show level and state\n",
    "        return 1\n",
    "    else:\n",
    "        recurse = factorial(n-1)\n",
    "        result = n * recurse\n",
    "        print(\"factorial(%d)\" % n) # print added to show level and state, print formatting covered later\n",
    "        print(\"n-------->\",n) # print added to show level and state\n",
    "        print(\"recurse-->\",recurse) # print added to show level and state\n",
    "        print(\"result--->\" ,result) # print added to show level and state\n",
    "        return result\n",
    "    \n",
    "factorial(3)"
   ]
  },
  {
   "cell_type": "markdown",
   "metadata": {},
   "source": [
    "The flow of execution for this program is similar to the flow of countdown in Section 5.8. If\n",
    "we call factorial with the value 3:\n",
    "\n",
    "Since 3 is not 0, we take the second branch and calculate the factorial of n-1...\n",
    ">Since 2 is not 0, we take the second branch and calculate the factorial of n-1...\n",
    ">>Since 1 is not 0, we take the second branch and calculate the factorial\n",
    "of n-1...\n",
    ">>>Since 0 equals 0, we take the first branch and return 1 without\n",
    "making any more recursive calls.\n",
    ">><p>The return value, 1, is multiplied by n, which is 1, and the result is\n",
    "returned.</p>\n",
    "><p>The return value, 1, is multiplied by n, which is 2, and the result is returned.</p>\n",
    "\n",
    "The return value (2) is multiplied by n, which is 3, and the result, 6, becomes the return\n",
    "value of the function call that started the whole process.\n",
    "\n",
    "Figure 6.1 shows what the stack diagram looks like for this sequence of function calls.\n",
    "\n",
    "The return values are shown being passed back up the stack. In each frame, the return\n",
    "value is the value of result, which is the product of n and recurse.\n",
    "\n",
    "In the last frame, the local variables recurse and result do not exist, because the branch\n",
    "that creates them does not run.\n",
    "\n",
    "\\_\\_main\\_\\_\n",
    "<table style=\"width:50%; border-style:solid;\"> \n",
    "    <tr><td></td> <td></td> <td></td>  </tr></table>\n",
    "    \n",
    ">factorial(3)\n",
    "><table style=\"width:55%; border-style:solid;\"> \n",
    "    <tr><td>n------->3</td> <td>recurse------->2</td> <td>result------->6</td>  </tr></table>\n",
    "\n",
    ">>factorial(2)\n",
    ">><table style=\"width:60%; border-style:solid;\"> \n",
    "    <tr><td>n------->2</td> <td>recurse------->1</td> <td>result------->2</td>  </tr></table></p>\n",
    "\n",
    ">>>factorial(1)\n",
    ">>><table style=\"width:65%; border-style:solid;\"> \n",
    "    <tr><td>n------->1</td> <td>recurse------->1</td> <td>result------->1</td>  </tr></table></p>\n",
    "\n",
    ">>>>factorial(0)\n",
    ">>>><table style=\"width:70%; border-style:solid;\"> \n",
    "    <tr><td>n------->0</td> <td></td> <td></td>  </tr></table></p>\n",
    "    \n",
    "Figure 6.1: Stack diagram.\n",
    "\n",
    "\n",
    "### 6.6 Leap of faith\n",
    "\n",
    "Following the flow of execution is one way to read programs, but it can quickly become\n",
    "overwhelming. An alternative is what I call the “leap of faith”. When you come to a\n",
    "function call, instead of following the flow of execution, you assume that the function works\n",
    "correctly and returns the right result.\n",
    "\n",
    "In fact, you are already practicing this leap of faith when you use built-in functions. When\n",
    "you call math.cos or math.exp, you don’t examine the bodies of those functions. You just\n",
    "assume that they work because the people who wrote the built-in functions were good\n",
    "programmers.\n",
    "\n",
    "The same is true when you call one of your own functions. For example, in Section 6.4, we\n",
    "wrote a function called is_divisible that determines whether one number is divisible by\n",
    "another. Once we have convinced ourselves that this function is correct—by examining the\n",
    "code and testing—we can use the function without looking at the body again.\n",
    "\n",
    "The same is true of recursive programs. When you get to the recursive call, instead of\n",
    "following the flow of execution, you should assume that the recursive call works (returns\n",
    "the correct result) and then ask yourself, “Assuming that I can find the factorial of n - 1,\n",
    "can I compute the factorial of n?” It is clear that you can, by multiplying by n.\n",
    "\n",
    "Of course, it’s a bit strange to assume that the function works correctly when you haven’t\n",
    "finished writing it, but that’s why it’s called a leap of faith!\n",
    "\n",
    "\n",
    "### 6.7 One more example\n",
    "\n",
    "After factorial, the most common example of a recursively defined mathematical function\n",
    "is fibonacci, which has the following definition (see http://en.wikipedia.org/wiki/Fibonacci_number ):\n",
    "\n",
    ">fibonacci(0) = 0<br>\n",
    "fibonacci(1) = 1<br>\n",
    "fibonacci(n) = fibonacci(n - 1) + fibonacci(n - 2)\n",
    "\n",
    "Translated into Python, it looks like this:"
   ]
  },
  {
   "cell_type": "code",
   "execution_count": null,
   "metadata": {},
   "outputs": [],
   "source": [
    "def fibonacci(n):\n",
    "    if n == 0:\n",
    "        return 0\n",
    "    elif n == 1:\n",
    "        return 1\n",
    "    else:\n",
    "        return fibonacci(n-1) + fibonacci(n-2)"
   ]
  },
  {
   "cell_type": "markdown",
   "metadata": {},
   "source": [
    "If you try to follow the flow of execution here, even for fairly small values of n, your head\n",
    "explodes. But according to the leap of faith, if you assume that the two recursive calls work\n",
    "correctly, then it is clear that you get the right result by adding them together.\n",
    "\n",
    "\n",
    "### 6.8 Checking types\n",
    "\n",
    "What happens if we call factorial and give it 1.5 as an argument?"
   ]
  },
  {
   "cell_type": "code",
   "execution_count": null,
   "metadata": {},
   "outputs": [],
   "source": [
    "factorial(1.5)"
   ]
  },
  {
   "cell_type": "markdown",
   "metadata": {},
   "source": [
    "It looks like an infinite recursion. How can that be? The function has a base case—when n\n",
    "== 0. But if n is not an integer, we can miss the base case and recurse forever.\n",
    "\n",
    "In the first recursive call, the value of n is 0.5. In the next, it is -0.5. From there, it gets\n",
    "smaller (more negative), but it will never be 0.\n",
    "\n",
    "We have two choices. We can try to generalize the factorial function to work with\n",
    "floating-point numbers, or we can make factorial check the type of its argument. The\n",
    "first option is called the gamma function and it’s a little beyond the scope of this book. So\n",
    "we’ll go for the second.\n",
    "\n",
    "We can use the built-in function isinstance to verify the type of the argument. While\n",
    "we’re at it, we can also make sure the argument is positive:"
   ]
  },
  {
   "cell_type": "code",
   "execution_count": null,
   "metadata": {},
   "outputs": [],
   "source": [
    "def factorial(n):\n",
    "    if not isinstance(n, int):\n",
    "        print('Factorial is only defined for integers.')\n",
    "        return None\n",
    "    elif n < 0:\n",
    "        print('Factorial is not defined for negative integers.')\n",
    "        return None\n",
    "    elif n == 0:\n",
    "        return 1\n",
    "    else:\n",
    "        return n * factorial(n-1)"
   ]
  },
  {
   "cell_type": "markdown",
   "metadata": {},
   "source": [
    "The first base case handles nonintegers; the second handles negative integers. In both\n",
    "cases, the program prints an error message and returns None to indicate that something\n",
    "went wrong:"
   ]
  },
  {
   "cell_type": "code",
   "execution_count": null,
   "metadata": {},
   "outputs": [],
   "source": [
    "print(factorial('fred'))\n",
    "print(factorial(-2))"
   ]
  },
  {
   "cell_type": "markdown",
   "metadata": {},
   "source": [
    "If we get past both checks, we know that n is positive or zero, so we can prove that the\n",
    "recursion terminates.\n",
    "\n",
    "This program demonstrates a pattern sometimes called a __guardian__. The first two conditionals\n",
    "act as guardians, protecting the code that follows from values that might cause an\n",
    "error. The guardians make it possible to prove the correctness of the code.\n",
    "\n",
    "In Section 11.4 we will see a more flexible alternative to printing an error message: raising\n",
    "an exception.\n",
    "\n",
    "\n",
    "### 6.9 Debugging\n",
    "\n",
    "Breaking a large program into smaller functions creates natural checkpoints for debugging.\n",
    "If a function is not working, there are three possibilities to consider:\n",
    "\n",
    "- There is something wrong with the arguments the function is getting; a precondition\n",
    "is violated.\n",
    "- There is something wrong with the function; a postcondition is violated.\n",
    "- There is something wrong with the return value or the way it is being used.\n",
    "\n",
    "To rule out the first possibility, you can add a print statement at the beginning of the\n",
    "function and display the values of the parameters (and maybe their types). Or you can\n",
    "write code that checks the preconditions explicitly.\n",
    "\n",
    "If the parameters look good, add a print statement before each return statement and\n",
    "display the return value. If possible, check the result by hand. Consider calling the function\n",
    "with values that make it easy to check the result (as in Section 6.2).\n",
    "\n",
    "If the function seems to be working, look at the function call to make sure the return value\n",
    "is being used correctly (or used at all!).\n",
    "\n",
    "Adding print statements at the beginning and end of a function can help make the flow of\n",
    "execution more visible. For example, here is a version of factorial with print statements:\n",
    "\n",
    "WW - I already added print statements to the original to make the output align with the state diagram. This is a terser version that would be appropriate for debugging."
   ]
  },
  {
   "cell_type": "code",
   "execution_count": null,
   "metadata": {},
   "outputs": [],
   "source": [
    "def factorial(n):\n",
    "    space = ' ' * (4 * n)\n",
    "    print(space, 'factorial', n)\n",
    "    if n == 0:\n",
    "        print(space, 'returning 1')\n",
    "        return 1\n",
    "    else:\n",
    "        recurse = factorial(n-1)\n",
    "        result = n * recurse\n",
    "        print(space, 'returning', result)\n",
    "        return result"
   ]
  },
  {
   "cell_type": "markdown",
   "metadata": {},
   "source": [
    "space is a string of space characters that controls the indentation of the output. Run the next cell to see the\n",
    "result of factorial(4) :"
   ]
  },
  {
   "cell_type": "code",
   "execution_count": null,
   "metadata": {},
   "outputs": [],
   "source": [
    "factorial(4)"
   ]
  },
  {
   "cell_type": "markdown",
   "metadata": {},
   "source": [
    "If you are confused about the flow of execution, this kind of output can be helpful. It takes\n",
    "some time to develop effective scaffolding, but a little bit of scaffolding can save a lot of\n",
    "debugging.\n",
    "\n",
    "\n",
    "### 6.10 Glossary\n",
    "\n",
    "__temporary variable:__ A variable used to store an intermediate value in a complex calculation.\n",
    "dead code: Part of a program that can never run, often because it appears after a return\n",
    "statement.\n",
    "\n",
    "__incremental development:__ A program development plan intended to avoid debugging by\n",
    "adding and testing only a small amount of code at a time.\n",
    "\n",
    "__scaffolding:__ Code that is used during program development but is not part of the final\n",
    "version.\n",
    "\n",
    "__guardian:__ A programming pattern that uses a conditional statement to check for and handle\n",
    "circumstances that might cause an error.\n",
    "\n",
    "\n",
    "### 6.11 Exercises\n",
    "#### Exercise 6.1. \n",
    "Draw a stack diagram for the following program. What does the program print?"
   ]
  },
  {
   "cell_type": "code",
   "execution_count": null,
   "metadata": {},
   "outputs": [],
   "source": [
    "def b(z):\n",
    "    prod = a(z, z)\n",
    "    print(z, prod)\n",
    "    return prod\n",
    "\n",
    "def a(x, y):\n",
    "    x = x + 1\n",
    "    return x * y\n",
    "\n",
    "def c(x, y, z):\n",
    "    total = x + y + z\n",
    "    square = b(total)**2\n",
    "    return square\n",
    "\n",
    "x = 1\n",
    "y = x + 1\n",
    "print(c(x, y+3, x+y))"
   ]
  },
  {
   "cell_type": "markdown",
   "metadata": {},
   "source": [
    "#### Exercise 6.2. \n",
    "The Ackermann function, A(m, n), is defined:\n",
    "\n",
    "<table style=\"width:70%; border-style:solid;\"> \n",
    "    <tr><td>A(m, n) = </td> <td>n + 1</td> <td>if m = 0</td>  </tr>\n",
    "    <tr><td></td> <td>A(m - 1, 1)</td> <td>if m > 0 and n = 0</td>  </tr>\n",
    "    <tr><td></td> <td>A(m - 1, A(m, n - 1))</td> <td>m > 0 and n > 0</td>  </tr></table></p>\n",
    "                  \n",
    "See http://en.wikipedia.org/wiki/Ackermann_function . Write a function named ack\n",
    "that evaluates the Ackermann function. Use your function to evaluate ack(3, 4), which should be 125. What happens for larger values of m and n? \n",
    "\n",
    "Solution: http://thinkpython2.com/code/ackermann.py ."
   ]
  },
  {
   "cell_type": "code",
   "execution_count": null,
   "metadata": {},
   "outputs": [],
   "source": []
  },
  {
   "cell_type": "markdown",
   "metadata": {},
   "source": [
    "#### Exercise 6.3. \n",
    "A palindrome is a word that is spelled the same backward and forward, like “noon”\n",
    "and “redivider”. Recursively, a word is a palindrome if the first and last letters are the same and the\n",
    "middle is a palindrome.\n",
    "\n",
    "The following are functions that take a string argument and return the first, last, and middle letters:"
   ]
  },
  {
   "cell_type": "code",
   "execution_count": null,
   "metadata": {},
   "outputs": [],
   "source": [
    "def first(word):\n",
    "    return word[0]\n",
    "\n",
    "def last(word):\n",
    "    return word[-1]\n",
    "\n",
    "def middle(word):\n",
    "    return word[1:-1]"
   ]
  },
  {
   "cell_type": "markdown",
   "metadata": {},
   "source": [
    "We’ll see how they work in Chapter 8.\n",
    "\n",
    "1. Test the functions in the cell above. What happens if\n",
    "you call middle with a string with two letters? One letter? What about the empty string,\n",
    "which is written '' and contains no letters?<br><br>\n",
    "\n",
    "2. Write a function called is_palindrome that takes a string argument and returns True if it\n",
    "is a palindrome and False otherwise. Remember that you can use the built-in function len\n",
    "to check the length of a string.\n",
    "\n",
    "Solution: http://thinkpython2.com/code/palindrome_soln.py ."
   ]
  },
  {
   "cell_type": "markdown",
   "metadata": {},
   "source": [
    "#### Exercise 6.4. \n",
    "A number, a, is a power of b if it is divisible by b and a/b is a power of b. Write a\n",
    "function called is_power that takes parameters a and b and returns True if a is a power of b. Note:\n",
    "you will have to think about the base case."
   ]
  },
  {
   "cell_type": "code",
   "execution_count": null,
   "metadata": {},
   "outputs": [],
   "source": []
  },
  {
   "cell_type": "markdown",
   "metadata": {},
   "source": [
    "#### Exercise 6.5. \n",
    "The greatest common divisor (GCD) of a and b is the largest number that divides\n",
    "both of them with no remainder.\n",
    "\n",
    "One way to find the GCD of two numbers is based on the observation that if r is the remainder when\n",
    "a is divided by b, then gcd(a, b) = gcd(b, r). As a base case, we can use gcd(a, 0) = a.\n",
    "\n",
    "Write a function called gcd that takes parameters a and b and returns their greatest common divisor.\n",
    "\n",
    "Credit: This exercise is based on an example from Abelson and Sussman’s Structure and Interpretation\n",
    "of Computer Programs."
   ]
  },
  {
   "cell_type": "code",
   "execution_count": null,
   "metadata": {},
   "outputs": [],
   "source": []
  },
  {
   "cell_type": "markdown",
   "metadata": {},
   "source": [
    "Source material from:\n",
    "\n",
    "Think Python<br>\n",
    "How to Think Like a Computer Scientist<br>\n",
    "2nd Edition, Version 2.2.23<br>\n",
    "Allen Downey<br>\n",
    "Copyright © 2015 Allen Downey. <br>\n",
    "\n",
    "Source material used under the Creative Commons Attribution-NonCommercial 3.0 Unported License. To view a copy of this license, visit http://creativecommons.org/licenses/by-nc/3.0/ or send a letter to Creative Commons, PO Box 1866, Mountain View, CA 94042, USA.\n",
    "\n",
    "<br>\n",
    "Adapted to Jupyter Notebooks with additional material by Warren Watts, Copyright © 2018"
   ]
  }
 ],
 "metadata": {
  "kernelspec": {
   "display_name": "Python 3",
   "language": "python",
   "name": "python3"
  },
  "language_info": {
   "codemirror_mode": {
    "name": "ipython",
    "version": 3
   },
   "file_extension": ".py",
   "mimetype": "text/x-python",
   "name": "python",
   "nbconvert_exporter": "python",
   "pygments_lexer": "ipython3",
   "version": "3.7.0"
  }
 },
 "nbformat": 4,
 "nbformat_minor": 2
}
