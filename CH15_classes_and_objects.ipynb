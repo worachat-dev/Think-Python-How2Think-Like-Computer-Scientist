{
 "cells": [
  {
   "cell_type": "markdown",
   "metadata": {},
   "source": [
    "This work is licensed under the Creative Commons Attribution-NonCommercial 3.0 Unported License. To view a copy of this license, visit http://creativecommons.org/licenses/by-nc/3.0/ or send a letter to Creative Commons, PO Box 1866, Mountain View, CA 94042, USA."
   ]
  },
  {
   "attachments": {},
   "cell_type": "markdown",
   "metadata": {},
   "source": [
    "# Classes and objects\n",
    "\n",
    "At this point you know how to use functions to organize code and built-in types to organize\n",
    "data. The next step is to learn “object-oriented programming”, which uses programmer-defined\n",
    "types to organize both code and data. Object-oriented programming is a big topic;\n",
    "it will take a few chapters to get there.\n",
    "\n",
    "Code examples from this chapter are available from http://thinkpython2.com/code/\n",
    "Point1.py; solutions to the exercises are available from http://thinkpython2.com/code/\n",
    "Point1_soln.py.\n",
    "\n",
    "\n",
    "### 15.1 Programmer-defined types\n",
    "\n",
    "We have used many of Python’s built-in types; now we are going to define a new type. As\n",
    "an example, we will create a type called Point that represents a point in two-dimensional\n",
    "space.\n",
    "\n",
    "In mathematical notation, points are often written in parentheses with a comma separating\n",
    "the coordinates. For example, (0, 0) represents the origin, and (x, y) represents the point x\n",
    "units to the right and y units up from the origin.\n",
    "\n",
    "There are several ways we might represent points in Python:\n",
    "\n",
    "- We could store the coordinates separately in two variables, x and y.\n",
    "\n",
    "- We could store the coordinates as elements in a list or tuple.\n",
    "\n",
    "- We could create a new type to represent points as objects.\n",
    "\n",
    "Creating a new type is more complicated than the other options, but it has advantages that\n",
    "will be apparent soon.\n",
    "\n",
    "A programmer-defined type is also called a **class**. A class definition looks like this:"
   ]
  },
  {
   "cell_type": "code",
   "execution_count": null,
   "metadata": {},
   "outputs": [],
   "source": [
    "class Point:\n",
    "    \"\"\"Represents a point in 2-D space.\"\"\""
   ]
  },
  {
   "cell_type": "markdown",
   "metadata": {},
   "source": [
    "The header indicates that the new class is called Point. The body is a docstring that explains\n",
    "what the class is for. You can define variables and methods inside a class definition,\n",
    "but we will get back to that later.\n",
    "\n",
    "Defining a class named Point creates a **class object**."
   ]
  },
  {
   "cell_type": "code",
   "execution_count": null,
   "metadata": {},
   "outputs": [],
   "source": [
    "Point"
   ]
  },
  {
   "cell_type": "markdown",
   "metadata": {},
   "source": [
    "Because Point is defined at the top level, its “full name” is \\_\\_main\\_\\_.Point.\n",
    "The class object is like a factory for creating objects. To create a Point, you call Point as if it\n",
    "were a function."
   ]
  },
  {
   "cell_type": "code",
   "execution_count": null,
   "metadata": {},
   "outputs": [],
   "source": [
    "blank = Point()\n",
    "blank"
   ]
  },
  {
   "cell_type": "markdown",
   "metadata": {},
   "source": [
    "The return value is a reference to a Point object, which we assign to blank.\n",
    "Creating a new object is called **instantiation**, and the object is an **instance** of the class.\n",
    "When you print an instance, Python tells you what class it belongs to and where it is stored\n",
    "in memory (the prefix 0x means that the following number is in hexadecimal).\n",
    "\n",
    "Every object is an instance of some class, so “object” and “instance” are interchangeable.\n",
    "But in this chapter “instance” is used to indicate that we are talking about a programmer-defined\n",
    "type.\n",
    "\n",
    "\n",
    "### 15.2 Attributes\n",
    "\n",
    "You can assign values to an instance using dot notation:"
   ]
  },
  {
   "cell_type": "code",
   "execution_count": null,
   "metadata": {},
   "outputs": [],
   "source": [
    "blank.x = 3.0\n",
    "blank.y = 4.0"
   ]
  },
  {
   "attachments": {
    "fig15_1.gif": {
     "image/gif": "[encoded data removed]"
    }
   },
   "cell_type": "markdown",
   "metadata": {},
   "source": [
    "This syntax is similar to the syntax for selecting a variable from a module, such as math.pi\n",
    "or string.whitespace. In this case, though, we are assigning values to named elements of\n",
    "an object. These elements are called **attributes**.\n",
    "\n",
    "As a noun, “AT-trib-ute” is pronounced with emphasis on the first syllable, as opposed to\n",
    "“a-TRIB-ute”, which is a verb.\n",
    "\n",
    "The following diagram shows the result of these assignments. A state diagram that shows\n",
    "an object and its attributes is called an object diagram; see Figure 15.1.\n",
    "![fig15_1.gif](attachment:fig15_1.gif)\n",
    "The variable blank refers to a Point object, which contains two attributes. Each attribute\n",
    "refers to a floating-point number.\n",
    "\n",
    "You can read the value of an attribute using the same syntax:"
   ]
  },
  {
   "cell_type": "code",
   "execution_count": null,
   "metadata": {},
   "outputs": [],
   "source": [
    "blank.x"
   ]
  },
  {
   "cell_type": "code",
   "execution_count": null,
   "metadata": {},
   "outputs": [],
   "source": [
    "blank.y"
   ]
  },
  {
   "cell_type": "markdown",
   "metadata": {},
   "source": [
    "The expression blank.x means, “Go to the object blank refers to and get the value of x.” In\n",
    "the example, we assign that value to a variable named x. There is no conflict between the\n",
    "variable x and the attribute x.\n",
    "\n",
    "You can use dot notation as part of any expression. For example:"
   ]
  },
  {
   "cell_type": "code",
   "execution_count": null,
   "metadata": {},
   "outputs": [],
   "source": [
    "'(%3.1f, %3.1f)' % (blank.x, blank.y)"
   ]
  },
  {
   "cell_type": "code",
   "execution_count": null,
   "metadata": {},
   "outputs": [],
   "source": [
    "import math\n",
    "distance = math.sqrt(blank.x**2 + blank.y**2)\n",
    "distance"
   ]
  },
  {
   "cell_type": "markdown",
   "metadata": {},
   "source": [
    "You can pass an instance as an argument in the usual way. For example:"
   ]
  },
  {
   "cell_type": "code",
   "execution_count": null,
   "metadata": {},
   "outputs": [],
   "source": [
    "def print_point(p):\n",
    "    print('(%3.1f, %3.1f)' % (p.x, p.y))"
   ]
  },
  {
   "cell_type": "markdown",
   "metadata": {},
   "source": [
    "print_point takes a point as an argument and displays it in mathematical notation. To\n",
    "invoke it, you can pass blank as an argument:"
   ]
  },
  {
   "cell_type": "code",
   "execution_count": null,
   "metadata": {},
   "outputs": [],
   "source": [
    "print_point(blank)"
   ]
  },
  {
   "cell_type": "markdown",
   "metadata": {},
   "source": [
    "Inside the function, p is an alias for blank, so if the function modifies p, blank changes.\n",
    "As an exercise, write a function called distance_between_points that takes two Points as\n",
    "arguments and returns the distance between them.\n",
    "\n",
    "\n",
    "### 15.3 Rectangles\n",
    "\n",
    "Sometimes it is obvious what the attributes of an object should be, but other times you have\n",
    "to make decisions. For example, imagine you are designing a class to represent rectangles.\n",
    "What attributes would you use to specify the location and size of a rectangle? You can ignore\n",
    "angle; to keep things simple, assume that the rectangle is either vertical or horizontal.\n",
    "There are at least two possibilities:\n",
    "\n",
    "- You could specify one corner of the rectangle (or the center), the width, and the height.\n",
    "\n",
    "- You could specify two opposing corners.\n",
    "\n",
    "At this point it is hard to say whether either is better than the other, so we’ll implement the\n",
    "first one, just as an example.\n",
    "\n",
    "Here is the class definition:"
   ]
  },
  {
   "cell_type": "code",
   "execution_count": null,
   "metadata": {},
   "outputs": [],
   "source": [
    "class Rectangle:\n",
    "    \"\"\"Represents a rectangle.\n",
    "    attributes: width, height, corner.\n",
    "    \"\"\""
   ]
  },
  {
   "cell_type": "markdown",
   "metadata": {},
   "source": [
    "The docstring lists the attributes: width and height are numbers; corner is a Point object\n",
    "that specifies the lower-left corner.\n",
    "\n",
    "To represent a rectangle, you have to instantiate a Rectangle object and assign values to the\n",
    "attributes:"
   ]
  },
  {
   "cell_type": "code",
   "execution_count": null,
   "metadata": {},
   "outputs": [],
   "source": [
    "box = Rectangle()\n",
    "box.width = 100.0\n",
    "box.height = 200.0\n",
    "box.corner = Point()\n",
    "box.corner.x = 0.0\n",
    "box.corner.y = 0.0"
   ]
  },
  {
   "attachments": {
    "fig15_2.gif": {
     "image/gif": "[encoded data removed]"
    }
   },
   "cell_type": "markdown",
   "metadata": {},
   "source": [
    "The expression box.corner.x means, “Go to the object box refers to and select the attribute\n",
    "named corner; then go to that object and select the attribute named x.”\n",
    "![fig15_2.gif](attachment:fig15_2.gif)\n",
    "Figure 15.2 shows the state of this object. An object that is an attribute of another object is\n",
    "**embedded**.\n",
    "\n",
    "\n",
    "### 15.4 Instances as return values\n",
    "\n",
    "Functions can return instances. For example, find_center takes a Rectangle as an argument\n",
    "and returns a Point that contains the coordinates of the center of the Rectangle:"
   ]
  },
  {
   "cell_type": "code",
   "execution_count": null,
   "metadata": {},
   "outputs": [],
   "source": [
    "def find_center(rect):\n",
    "    p = Point()\n",
    "    p.x = rect.corner.x + rect.width/2\n",
    "    p.y = rect.corner.y + rect.height/2\n",
    "    return p"
   ]
  },
  {
   "cell_type": "markdown",
   "metadata": {},
   "source": [
    "Here is an example that passes box as an argument and assigns the resulting Point to\n",
    "center:"
   ]
  },
  {
   "cell_type": "code",
   "execution_count": null,
   "metadata": {},
   "outputs": [],
   "source": [
    "center = find_center(box)\n",
    "print_point(center)"
   ]
  },
  {
   "cell_type": "markdown",
   "metadata": {},
   "source": [
    "### 15.5 Objects are mutable\n",
    "\n",
    "You can change the state of an object by making an assignment to one of its attributes. For\n",
    "example, to change the size of a rectangle without changing its position, you can modify\n",
    "the values of width and height:"
   ]
  },
  {
   "cell_type": "code",
   "execution_count": null,
   "metadata": {},
   "outputs": [],
   "source": [
    "box.width = box.width + 50\n",
    "box.height = box.height + 100\n",
    "\n",
    "box.width, box.height"
   ]
  },
  {
   "cell_type": "markdown",
   "metadata": {},
   "source": [
    "You can also write functions that modify objects. For example, grow_rectangle takes a\n",
    "Rectangle object and two numbers, dwidth and dheight, and adds the numbers to the\n",
    "width and height of the rectangle:"
   ]
  },
  {
   "cell_type": "code",
   "execution_count": null,
   "metadata": {},
   "outputs": [],
   "source": [
    "def grow_rectangle(rect, dwidth, dheight):\n",
    "    rect.width += dwidth\n",
    "    rect.height += dheight\n",
    "    \n",
    "grow_rectangle(box, 50, 100)\n",
    "box.width, box.height"
   ]
  },
  {
   "cell_type": "markdown",
   "metadata": {},
   "source": [
    "Inside the function, rect is an alias for box, so when the function modifies rect, box\n",
    "changes.\n",
    "\n",
    "As an exercise, write a function named move_rectangle that takes a Rectangle and two\n",
    "numbers named dx and dy. It should change the location of the rectangle by adding dx to\n",
    "the x coordinate of corner and adding dy to the y coordinate of corner."
   ]
  },
  {
   "cell_type": "code",
   "execution_count": null,
   "metadata": {},
   "outputs": [],
   "source": []
  },
  {
   "cell_type": "markdown",
   "metadata": {},
   "source": [
    "### 15.6 Copying\n",
    "\n",
    "Aliasing can make a program difficult to read because changes in one place might have\n",
    "unexpected effects in another place. It is hard to keep track of all the variables that might\n",
    "refer to a given object.\n",
    "\n",
    "Copying an object is often an alternative to aliasing. The copy module contains a function\n",
    "called copy that can duplicate any object:"
   ]
  },
  {
   "cell_type": "code",
   "execution_count": null,
   "metadata": {},
   "outputs": [],
   "source": [
    "p1 = Point()\n",
    "p1.x = 3.0\n",
    "p1.y = 4.0\n",
    "import copy\n",
    "p2 = copy.copy(p1)"
   ]
  },
  {
   "cell_type": "markdown",
   "metadata": {},
   "source": [
    "p1 and p2 contain the same data, but they are not the same Point."
   ]
  },
  {
   "cell_type": "code",
   "execution_count": null,
   "metadata": {},
   "outputs": [],
   "source": [
    "print_point(p1)\n",
    "print_point(p2)\n",
    "p1 is p2"
   ]
  },
  {
   "cell_type": "code",
   "execution_count": null,
   "metadata": {},
   "outputs": [],
   "source": [
    "p1 == p2"
   ]
  },
  {
   "cell_type": "markdown",
   "metadata": {},
   "source": [
    "The is operator indicates that p1 and p2 are not the same object, which is what we expected.\n",
    "But you might have expected == to yield True because these points contain the\n",
    "same data. In that case, you will be disappointed to learn that for instances, the default\n",
    "behavior of the == operator is the same as the is operator; it checks object identity, not\n",
    "object equivalence. That’s because for programmer-defined types, Python doesn’t know\n",
    "what should be considered equivalent. At least, not yet.\n",
    "\n",
    "If you use copy.copy to duplicate a Rectangle, you will find that it copies the Rectangle\n",
    "object but not the embedded Point."
   ]
  },
  {
   "cell_type": "code",
   "execution_count": null,
   "metadata": {},
   "outputs": [],
   "source": [
    "box2 = copy.copy(box)\n",
    "box2 is box"
   ]
  },
  {
   "cell_type": "code",
   "execution_count": null,
   "metadata": {},
   "outputs": [],
   "source": [
    "box2.corner is box.corner"
   ]
  },
  {
   "attachments": {
    "fig15_3.gif": {
     "image/gif": "[encoded data removed]"
    }
   },
   "cell_type": "markdown",
   "metadata": {},
   "source": [
    "![fig15_3.gif](attachment:fig15_3.gif)\n",
    "Figure 15.3 shows what the object diagram looks like. This operation is called a **shallow\n",
    "copy** because it copies the object and any references it contains, but not the embedded\n",
    "objects.\n",
    "\n",
    "For most applications, this is not what you want. In this example, invoking\n",
    "grow_rectangle on one of the Rectangles would not affect the other, but invoking\n",
    "move_rectangle on either would affect both! This behavior is confusing and error-prone.\n",
    "\n",
    "Fortunately, the copy module provides a method named deepcopy that copies not only the\n",
    "object but also the objects it refers to, and the objects they refer to, and so on. You will not\n",
    "be surprised to learn that this operation is called a **deep copy**."
   ]
  },
  {
   "cell_type": "code",
   "execution_count": null,
   "metadata": {},
   "outputs": [],
   "source": [
    "box3 = copy.deepcopy(box)\n",
    "box3 is box"
   ]
  },
  {
   "cell_type": "code",
   "execution_count": null,
   "metadata": {},
   "outputs": [],
   "source": [
    "box3.corner is box.corner"
   ]
  },
  {
   "cell_type": "markdown",
   "metadata": {},
   "source": [
    "box3 and box are completely separate objects.\n",
    "\n",
    "As an exercise, write a version of move_rectangle that creates and returns a new Rectangle\n",
    "instead of modifying the old one."
   ]
  },
  {
   "cell_type": "code",
   "execution_count": null,
   "metadata": {},
   "outputs": [],
   "source": []
  },
  {
   "cell_type": "markdown",
   "metadata": {},
   "source": [
    "### 15.7 Debugging\n",
    "\n",
    "When you start working with objects, you are likely to encounter some new exceptions. If\n",
    "you try to access an attribute that doesn’t exist, you get an AttributeError:"
   ]
  },
  {
   "cell_type": "code",
   "execution_count": null,
   "metadata": {},
   "outputs": [],
   "source": [
    "p = Point()\n",
    "p.x = 3\n",
    "p.y = 4\n",
    "p.z"
   ]
  },
  {
   "cell_type": "markdown",
   "metadata": {},
   "source": [
    "If you are not sure what type an object is, you can ask:"
   ]
  },
  {
   "cell_type": "code",
   "execution_count": null,
   "metadata": {},
   "outputs": [],
   "source": [
    "type(p)"
   ]
  },
  {
   "cell_type": "markdown",
   "metadata": {},
   "source": [
    "You can also use isinstance to check whether an object is an instance of a class:"
   ]
  },
  {
   "cell_type": "code",
   "execution_count": null,
   "metadata": {},
   "outputs": [],
   "source": [
    " isinstance(p, Point)"
   ]
  },
  {
   "cell_type": "markdown",
   "metadata": {},
   "source": [
    "If you are not sure whether an object has a particular attribute, you can use the built-in\n",
    "function hasattr:"
   ]
  },
  {
   "cell_type": "code",
   "execution_count": null,
   "metadata": {},
   "outputs": [],
   "source": [
    "hasattr(p, 'x')"
   ]
  },
  {
   "cell_type": "code",
   "execution_count": null,
   "metadata": {},
   "outputs": [],
   "source": [
    "hasattr(p, 'z')"
   ]
  },
  {
   "cell_type": "markdown",
   "metadata": {},
   "source": [
    "The first argument can be any object; the second argument is a string that contains the name\n",
    "of the attribute.\n",
    "\n",
    "You can also use a try statement to see if the object has the attributes you need:"
   ]
  },
  {
   "cell_type": "code",
   "execution_count": null,
   "metadata": {},
   "outputs": [],
   "source": [
    "try:\n",
    "    x = p.x\n",
    "except AttributeError:\n",
    "    x = 0\n",
    "    \n",
    "x"
   ]
  },
  {
   "cell_type": "markdown",
   "metadata": {},
   "source": [
    "This approach can make it easier to write functions that work with different types; more\n",
    "on that topic is coming up in Section 17.9.\n",
    "\n",
    "\n",
    "### 15.8 Glossary\n",
    "\n",
    "**class:** A programmer-defined type. A class definition creates a new class object.\n",
    "\n",
    "**class object:** An object that contains information about a programmer-defined type. The\n",
    "class object can be used to create instances of the type.\n",
    "\n",
    "**instance:** An object that belongs to a class.\n",
    "\n",
    "**instantiate:** To create a new object.\n",
    "\n",
    "**attribute:** One of the named values associated with an object.\n",
    "\n",
    "**embedded object:** An object that is stored as an attribute of another object.\n",
    "\n",
    "**shallow copy:** To copy the contents of an object, including any references to embedded\n",
    "objects; implemented by the copy function in the copy module.\n",
    "\n",
    "**deep copy:** To copy the contents of an object as well as any embedded objects, and any\n",
    "objects embedded in them, and so on; implemented by the deepcopy function in the\n",
    "copy module.\n",
    "\n",
    "**object diagram:** A diagram that shows objects, their attributes, and the values of the attributes.\n",
    "\n",
    "\n",
    "### 15.9 Exercises\n",
    "\n",
    "#### Exercise 15.1. \n",
    "Write a definition for a class named Circle with attributes center and radius,\n",
    "where center is a Point object and radius is a number.\n",
    "\n",
    "Instantiate a Circle object that represents a circle with its center at (150, 100) and radius 75.\n",
    "Write a function named point_in_circle that takes a Circle and a Point and returns True if the\n",
    "Point lies in or on the boundary of the circle.\n",
    "\n",
    "Write a function named rect_in_circle that takes a Circle and a Rectangle and returns True if\n",
    "the Rectangle lies entirely in or on the boundary of the circle.\n",
    "\n",
    "Write a function named rect_circle_overlap that takes a Circle and a Rectangle and returns\n",
    "True if any of the corners of the Rectangle fall inside the circle. Or as a more challenging version,\n",
    "return True if any part of the Rectangle falls inside the circle.\n",
    "\n",
    "Solution: http://thinkpython2.com/code/Circle.py ."
   ]
  },
  {
   "cell_type": "code",
   "execution_count": null,
   "metadata": {},
   "outputs": [],
   "source": []
  },
  {
   "cell_type": "markdown",
   "metadata": {},
   "source": [
    "#### Exercise 15.2. \n",
    "Write a function called draw_rect that takes a Turtle object and a Rectangle and\n",
    "uses the Turtle to draw the Rectangle. See Chapter 4 for examples using Turtle objects.\n",
    "\n",
    "Write a function called draw_circle that takes a Turtle and a Circle and draws the Circle.\n",
    "\n",
    "Solution: http://thinkpython2.com/code/draw.py ."
   ]
  },
  {
   "cell_type": "code",
   "execution_count": null,
   "metadata": {},
   "outputs": [],
   "source": []
  },
  {
   "cell_type": "markdown",
   "metadata": {},
   "source": [
    "Source material from:\n",
    "\n",
    "Think Python<br>\n",
    "How to Think Like a Computer Scientist<br>\n",
    "2nd Edition, Version 2.2.23<br>\n",
    "Allen Downey<br>\n",
    "Copyright © 2015 Allen Downey. <br>\n",
    "<br>\n",
    "Source material used under the Creative Commons Attribution-NonCommercial 3.0 Unported License. To view a copy of this license, visit http://creativecommons.org/licenses/by-nc/3.0/ or send a letter to Creative Commons, PO Box 1866, Mountain View, CA 94042, USA.\n",
    "\n",
    "\n",
    "Adapted to Jupyter Notebooks with additional material by Warren Watts, Copyright © 2018"
   ]
  }
 ],
 "metadata": {
  "kernelspec": {
   "display_name": "Python 3",
   "language": "python",
   "name": "python3"
  },
  "language_info": {
   "codemirror_mode": {
    "name": "ipython",
    "version": 3
   },
   "file_extension": ".py",
   "mimetype": "text/x-python",
   "name": "python",
   "nbconvert_exporter": "python",
   "pygments_lexer": "ipython3",
   "version": "3.7.0"
  }
 },
 "nbformat": 4,
 "nbformat_minor": 2
}
