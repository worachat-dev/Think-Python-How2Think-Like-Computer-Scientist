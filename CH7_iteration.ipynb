{
 "cells": [
  {
   "cell_type": "markdown",
   "metadata": {},
   "source": [
    "This work is licensed under the Creative Commons Attribution-NonCommercial 3.0 Unported License. To view a copy of this license, visit http://creativecommons.org/licenses/by-nc/3.0/ or send a letter to Creative Commons, PO Box 1866, Mountain View, CA 94042, USA."
   ]
  },
  {
   "cell_type": "markdown",
   "metadata": {},
   "source": [
    "# Iteration\n",
    "\n",
    "This chapter is about iteration, which is the ability to run a block of statements repeatedly.\n",
    "We saw a kind of iteration, using recursion, in Section 5.8. We saw another kind, using a\n",
    "for loop, in Section 4.2. In this chapter we’ll see yet another kind, using a while statement.\n",
    "But first I want to say a little more about variable assignment.\n",
    "\n",
    "\n",
    "#### 7.1 Reassignment\n",
    "\n",
    "As you may have discovered, it is legal to make more than one assignment to the same\n",
    "variable. A new assignment makes an existing variable refer to a new value (and stop\n",
    "referring to the old value)."
   ]
  },
  {
   "cell_type": "code",
   "execution_count": 1,
   "metadata": {},
   "outputs": [
    {
     "data": {
      "text/plain": [
       "5"
      ]
     },
     "execution_count": 1,
     "metadata": {},
     "output_type": "execute_result"
    }
   ],
   "source": [
    "x = 5\n",
    "x"
   ]
  },
  {
   "cell_type": "code",
   "execution_count": 2,
   "metadata": {},
   "outputs": [
    {
     "data": {
      "text/plain": [
       "7"
      ]
     },
     "execution_count": 2,
     "metadata": {},
     "output_type": "execute_result"
    }
   ],
   "source": [
    "x = 7\n",
    "x"
   ]
  },
  {
   "cell_type": "markdown",
   "metadata": {},
   "source": [
    "The first time we display x, its value is 5; the second time, its value is 7.\n",
    "\n",
    "Figure 7.1 shows what reassignment looks like in a state diagram.\n",
    "\n",
    "<table style=\"width:50%; border-style:solid;\"> \n",
    "    <tr><td>x</td> <td>\\---XXXX---></td> <td>x5x</td>  </tr>\n",
    "    <tr><td></td> <td>\\------------></td> <td>7</td>  </tr></table><br>\n",
    "Figure 7.1: State diagram, poorly drawn.\n",
    "\n",
    "At this point I want to address a common source of confusion. Because Python uses the\n",
    "equal sign (=) for assignment, it is tempting to interpret a statement like a = b as a mathematical\n",
    "proposition of equality; that is, the claim that a and b are equal. But this interpretation\n",
    "is wrong.\n",
    "\n",
    "First, equality is a symmetric relationship and assignment is not. For example, in mathematics,\n",
    "if a = 7 then 7 = a. But in Python, the statement a = 7 is legal and 7 = a is\n",
    "not.\n",
    "\n",
    "Also, in mathematics, a proposition of equality is either true or false for all time. If a =\n",
    "b now, then a will always equal b. In Python, an assignment statement can make two\n",
    "variables equal, but they don’t have to stay that way:\n",
    "\n"
   ]
  },
  {
   "cell_type": "code",
   "execution_count": 3,
   "metadata": {},
   "outputs": [
    {
     "data": {
      "text/plain": [
       "5"
      ]
     },
     "execution_count": 3,
     "metadata": {},
     "output_type": "execute_result"
    }
   ],
   "source": [
    "a = 5\n",
    "b = a # a and b are now equal\n",
    "a = 3 # a and b are no longer equal\n",
    "b"
   ]
  },
  {
   "cell_type": "markdown",
   "metadata": {},
   "source": [
    "The third line changes the value of a but does not change the value of b, so they are no\n",
    "longer equal.\n",
    "\n",
    "Reassigning variables is often useful, but you should use it with caution. If the values of\n",
    "variables change frequently, it can make the code difficult to read and debug.\n",
    "\n",
    "\n",
    "### 7.2 Updating variables\n",
    "\n",
    "A common kind of reassignment is an __update__, where the new value of the variable depends\n",
    "on the old.\n",
    "```python\n",
    "x = x + 1```\n",
    "This means “get the current value of x, add one, and then update x with the new value.”\n",
    "If you try to update a variable that doesn’t exist, you get an error, because Python evaluates\n",
    "the right side before it assigns a value to x:"
   ]
  },
  {
   "cell_type": "code",
   "execution_count": null,
   "metadata": {},
   "outputs": [],
   "source": [
    "x = x + 1"
   ]
  },
  {
   "cell_type": "code",
   "execution_count": null,
   "metadata": {},
   "outputs": [],
   "source": [
    "Before you can update a variable, you have to initialize it, usually with a simple assignment:"
   ]
  },
  {
   "cell_type": "code",
   "execution_count": null,
   "metadata": {},
   "outputs": [],
   "source": [
    "x = 0\n",
    "x = x + 1\n",
    "x"
   ]
  },
  {
   "cell_type": "markdown",
   "metadata": {},
   "source": [
    "Updating a variable by adding 1 is called an __increment__; subtracting 1 is called a __decrement__.\n",
    "\n",
    "\n",
    "### 7.3 The while statement\n",
    "\n",
    "Computers are often used to automate repetitive tasks. Repeating identical or similar tasks\n",
    "without making errors is something that computers do well and people do poorly. In a\n",
    "computer program, repetition is also called __iteration__.\n",
    "\n",
    "We have already seen two functions, countdown and print_n, that iterate using recursion.\n",
    "Because iteration is so common, Python provides language features to make it easier. One\n",
    "is the for statement we saw in Section 4.2. We’ll get back to that later.\n",
    "\n",
    "Another is the while statement. Here is a version of countdown that uses a while statement:"
   ]
  },
  {
   "cell_type": "code",
   "execution_count": null,
   "metadata": {},
   "outputs": [],
   "source": [
    "def countdown(n):\n",
    "    while n > 0:\n",
    "        print(n)\n",
    "        n = n - 1\n",
    "print('Blastoff!')\n",
    "\n",
    "countdown(3)"
   ]
  },
  {
   "cell_type": "markdown",
   "metadata": {},
   "source": [
    "You can almost read the while statement as if it were English. It means, “While n is greater\n",
    "than 0, display the value of n and then decrement n. When you get to 0, display the word\n",
    "Blastoff!”\n",
    "\n",
    "More formally, here is the flow of execution for a while statement:\n",
    "    \n",
    "1. Determine whether the condition is true or false.<br><br>\n",
    "2. If false, exit the while statement and continue execution at the next statement.<br><br>\n",
    "3. If the condition is true, run the body and then go back to step 1.\n",
    "\n",
    "This type of flow is called a loop because the third step loops back around to the top.\n",
    "\n",
    "The body of the loop should change the value of one or more variables so that the condition\n",
    "becomes false eventually and the loop terminates. Otherwise the loop will repeat forever,\n",
    "which is called an infinite loop. An endless source of amusement for computer scientists\n",
    "is the observation that the directions on shampoo, “Lather, rinse, repeat”, are an infinite\n",
    "loop.\n",
    "\n",
    "In the case of countdown, we can prove that the loop terminates: if n is zero or negative, the\n",
    "loop never runs. Otherwise, n gets smaller each time through the loop, so eventually we\n",
    "have to get to 0.\n",
    "\n",
    "For some other loops, it is not so easy to tell. For example:"
   ]
  },
  {
   "cell_type": "code",
   "execution_count": null,
   "metadata": {},
   "outputs": [],
   "source": [
    "def sequence(n):\n",
    "    while n != 1:\n",
    "        print(n)\n",
    "        if n % 2 == 0: # n is even\n",
    "            n = n / 2\n",
    "        else: # n is odd\n",
    "            n = n*3 + 1\n",
    "            \n",
    "sequence(3)"
   ]
  },
  {
   "cell_type": "markdown",
   "metadata": {},
   "source": [
    "The condition for this loop is n != 1, so the loop will continue until n is 1, which makes\n",
    "the condition false.\n",
    "\n",
    "Each time through the loop, the program outputs the value of n and then checks whether\n",
    "it is even or odd. If it is even, n is divided by 2. If it is odd, the value of n is replaced with\n",
    "n*3 + 1. For example, if the argument passed to sequence is 3, the resulting values of n\n",
    "are 3, 10, 5, 16, 8, 4, 2, 1.\n",
    "\n",
    "Since n sometimes increases and sometimes decreases, there is no obvious proof that n will\n",
    "ever reach 1, or that the program terminates. For some particular values of n, we can prove\n",
    "termination. For example, if the starting value is a power of two, n will be even every\n",
    "time through the loop until it reaches 1. The previous example ends with such a sequence,\n",
    "starting with 16.\n",
    "\n",
    "The hard question is whether we can prove that this program terminates for all positive\n",
    "values of n. So far, no one has been able to prove it or disprove it! (See http:\n",
    "//en.wikipedia.org/wiki/Collatz_conjecture.)\n",
    "\n",
    "As an exercise, rewrite the function print_n from Section 5.8 using iteration instead of\n",
    "recursion.\n",
    "\n",
    "\n",
    "### 7.4 _break_\n",
    "\n",
    "Sometimes you don’t know it’s time to end a loop until you get half way through the body.\n",
    "In that case you can use the break statement to jump out of the loop.\n",
    "\n",
    "For example, suppose you want to take input from the user until they type done. You could\n",
    "write:"
   ]
  },
  {
   "cell_type": "code",
   "execution_count": 5,
   "metadata": {},
   "outputs": [
    {
     "name": "stdout",
     "output_type": "stream",
     "text": [
      "> hi\n",
      "hi\n",
      "> ypou\n",
      "ypou\n",
      "> done\n",
      "Done!\n"
     ]
    }
   ],
   "source": [
    "while True:\n",
    "    line = input('> ')\n",
    "    if line == 'done':\n",
    "        break\n",
    "    print(line)\n",
    "    \n",
    "print('Done!')"
   ]
  },
  {
   "cell_type": "markdown",
   "metadata": {},
   "source": [
    "The loop condition is True, which is always true, so the loop runs until it hits the break\n",
    "statement.\n",
    "\n",
    "Each time through, it prompts the user with an angle bracket. If the user types done, the\n",
    "break statement exits the loop. Otherwise the program echoes whatever the user types and\n",
    "goes back to the top of the loop. Run the cell to see it the loop in action.\n",
    "\n",
    "This way of writing while loops is common because you can check the condition anywhere\n",
    "in the loop (not just at the top) and you can express the stop condition affirmatively (“stop\n",
    "when this happens”) rather than negatively (“keep going until that happens”).\n",
    "\n",
    "\n",
    "### 7.5 Square roots\n",
    "\n",
    "Loops are often used in programs that compute numerical results by starting with an approximate\n",
    "answer and iteratively improving it.\n",
    "\n",
    "For example, one way of computing square roots is Newton’s method. Suppose that you\n",
    "want to know the square root of a. If you start with almost any estimate, x, you can compute\n",
    "a better estimate with the following formula:\n",
    "\n",
    "$$y = \\frac{x + a/x}{2}$$\n",
    "\n",
    "For example, if a is 4 and x is 3:"
   ]
  },
  {
   "cell_type": "code",
   "execution_count": 6,
   "metadata": {},
   "outputs": [
    {
     "data": {
      "text/plain": [
       "2.1666666666666665"
      ]
     },
     "execution_count": 6,
     "metadata": {},
     "output_type": "execute_result"
    }
   ],
   "source": [
    "a = 4\n",
    "x = 3\n",
    "y = (x + a/x) / 2\n",
    "y"
   ]
  },
  {
   "cell_type": "markdown",
   "metadata": {},
   "source": [
    "The result is closer to the correct answer $(\\sqrt{4} = 2)$. If we repeat the process with the new\n",
    "estimate, it gets even closer:"
   ]
  },
  {
   "cell_type": "code",
   "execution_count": 11,
   "metadata": {},
   "outputs": [
    {
     "data": {
      "text/plain": [
       "2.0"
      ]
     },
     "execution_count": 11,
     "metadata": {},
     "output_type": "execute_result"
    }
   ],
   "source": [
    "x = y\n",
    "y = (x + a/x) / 2\n",
    "y"
   ]
  },
  {
   "cell_type": "markdown",
   "metadata": {},
   "source": [
    "Run the cell above until the estimate stops changing.\n",
    "\n",
    "In general we don’t know ahead of time how many steps it takes to get to the right answer,\n",
    "but we know when we get there because the estimate stops changing.\n",
    "\n",
    "When y == x, we can stop. Here is a loop that starts with an initial estimate, x, and improves\n",
    "it until it stops changing:"
   ]
  },
  {
   "cell_type": "code",
   "execution_count": 2,
   "metadata": {},
   "outputs": [
    {
     "name": "stdout",
     "output_type": "stream",
     "text": [
      "3\n",
      "2.1666666666666665\n",
      "2.0064102564102564\n",
      "2.0000102400262145\n",
      "2.0000000000262146\n",
      "2.0\n"
     ]
    }
   ],
   "source": [
    "a = 4\n",
    "x = 3\n",
    "\n",
    "while True:\n",
    "    print(x)\n",
    "    y = (x + a/x) / 2\n",
    "    if y == x:\n",
    "        break\n",
    "    x = y"
   ]
  },
  {
   "cell_type": "markdown",
   "metadata": {},
   "source": [
    "For most values of a this works fine, but in general it is dangerous to test float equality.\n",
    "Floating-point values are only approximately right: most rational numbers, like 1/3, and\n",
    "irrational numbers, like $sqrt{2}, can’t be represented exactly with a float.\n",
    "\n",
    "Rather than checking whether x and y are exactly equal, it is safer to use the built-in function\n",
    "abs to compute the absolute value, or magnitude, of the difference between them:"
   ]
  },
  {
   "cell_type": "code",
   "execution_count": null,
   "metadata": {},
   "outputs": [],
   "source": [
    "a = 2\n",
    "x = 1\n",
    "epsilon = 0.0000001\n",
    "\n",
    "while True:\n",
    "    print(x)\n",
    "    y = (x + a/x) / 2\n",
    "    if abs(y-x) < epsilon:\n",
    "        break\n",
    "    x = y"
   ]
  },
  {
   "cell_type": "markdown",
   "metadata": {},
   "source": [
    "Where epsilon has a value like 0.0000001 that determines how close is close enough.\n",
    "\n",
    "\n",
    "### 7.6 Algorithms\n",
    "\n",
    "Newton’s method is an example of an __algorithm__: it is a mechanical process for solving a\n",
    "category of problems (in this case, computing square roots).\n",
    "\n",
    "To understand what an algorithm is, it might help to start with something that is not an\n",
    "algorithm. When you learned to multiply single-digit numbers, you probably memorized\n",
    "the multiplication table. In effect, you memorized 100 specific solutions. That kind of\n",
    "knowledge is not algorithmic.\n",
    "\n",
    "But if you were “lazy”, you might have learned a few tricks. For example, to find the\n",
    "product of n and 9, you can write n - 1 as the first digit and 10 - n as the second digit.\n",
    "This trick is a general solution for multiplying any single-digit number by 9. That’s an\n",
    "algorithm!\n",
    "\n",
    "Similarly, the techniques you learned for addition with carrying, subtraction with borrowing,\n",
    "and long division are all algorithms. One of the characteristics of algorithms is that\n",
    "they do not require any intelligence to carry out. They are mechanical processes where\n",
    "each step follows from the last according to a simple set of rules.\n",
    "\n",
    "Executing algorithms is boring, but designing them is interesting, intellectually challenging,\n",
    "and a central part of computer science.\n",
    "\n",
    "Some of the things that people do naturally, without difficulty or conscious thought, are\n",
    "the hardest to express algorithmically. Understanding natural language is a good example.\n",
    "We all do it, but so far no one has been able to explain how we do it, at least not in the form\n",
    "of an algorithm.\n",
    "\n",
    "\n",
    "### 7.7 Debugging\n",
    "\n",
    "As you start writing bigger programs, you might find yourself spending more time debugging.\n",
    "More code means more chances to make an error and more places for bugs to hide.\n",
    "\n",
    "One way to cut your debugging time is “debugging by bisection”. For example, if there\n",
    "are 100 lines in your program and you check them one at a time, it would take 100 steps.\n",
    "Instead, try to break the problem in half. Look at the middle of the program, or near it, for\n",
    "an intermediate value you can check. Add a print statement (or something else that has a\n",
    "verifiable effect) and run the program.\n",
    "\n",
    "If the mid-point check is incorrect, there must be a problem in the first half of the program.\n",
    "If it is correct, the problem is in the second half.\n",
    "\n",
    "Every time you perform a check like this, you halve the number of lines you have to search.\n",
    "After six steps (which is fewer than 100), you would be down to one or two lines of code,\n",
    "at least in theory.\n",
    "\n",
    "In practice it is not always clear what the “middle of the program” is and not always possible\n",
    "to check it. It doesn’t make sense to count lines and find the exact midpoint. Instead,\n",
    "think about places in the program where there might be errors and places where it is easy\n",
    "to put a check. Then choose a spot where you think the chances are about the same that\n",
    "the bug is before or after the check.\n",
    "\n",
    "\n",
    "### 7.8 Glossary\n",
    "\n",
    "__reassignment:__ Assigning a new value to a variable that already exists.\n",
    "__update:__ An assignment where the new value of the variable depends on the old.\n",
    "__initialization:__ An assignment that gives an initial value to a variable that will be updated.\n",
    "__increment:__ An update that increases the value of a variable (often by one).\n",
    "__decrement:__ An update that decreases the value of a variable.\n",
    "__iteration:__ Repeated execution of a set of statements using either a recursive function call\n",
    "or a loop.\n",
    "__infinite loop:__ A loop in which the terminating condition is never satisfied.\n",
    "__algorithm:__ A general process for solving a category of problems.\n",
    "\n",
    "\n",
    "### 7.9 Exercises\n",
    "\n",
    "#### Exercise 7.1. \n",
    "Copy the loop from Section 7.5 and encapsulate it in a function called mysqrt that\n",
    "takes a as a parameter, chooses a reasonable value of x, and returns an estimate of the square root of\n",
    "a.\n",
    "\n",
    "To test it, write a function named test_square_root that prints a table like this:\n",
    "<table> <tr> <th>a</th> <th>mysqrt(a)</th> <th>math.sqrt(a)</th> <th>diff</th> </tr>\n",
    "    <tr> <td>1.0</td> <td>1.0</td> <td>1.0</td> <td>0.0</td> </tr>\n",
    "    <tr> <td>2.0</td> <td>1.41421356237</td> <td>1.41421356237</td> <td>2.22044604925e-16</td> </tr>\n",
    "    <tr> <td>3.0</td> <td>1.73205080757</td> <td>1.73205080757</td> <td>0.0</td> </tr>\n",
    "    <tr> <td>4.0</td> <td>2.0</td> <td>2.0 </td> <td>0.0</td> </tr>\n",
    "    <tr> <td>5.0</td> <td>2.2360679775</td> <td>2.2360679775</td> <td>0.0</td> </tr>\n",
    "    <tr> <td>6.0</td> <td>2.44948974278</td> <td>2.44948974278</td> <td>0.0</td> </tr>\n",
    "    <tr> <td>7.0</td> <td>2.64575131106</td> <td>2.64575131106</td> <td>0.0</td> </tr>\n",
    "    <tr> <td>8.0</td> <td>2.82842712475</td> <td>2.82842712475</td> <td>4.4408920985e-16</td> </tr>\n",
    "    <tr> <td>9.0</td> <td>3.0</td> <td>3.0</td> <td>0.0</td> </tr> </table>\n",
    "\n",
    "The first column is a number, a; the second column is the square root of a computed with mysqrt;\n",
    "the third column is the square root computed by math.sqrt; the fourth column is the absolute value\n",
    "of the difference between the two estimates."
   ]
  },
  {
   "cell_type": "code",
   "execution_count": null,
   "metadata": {},
   "outputs": [],
   "source": []
  },
  {
   "cell_type": "markdown",
   "metadata": {},
   "source": [
    "#### Exercise 7.2. \n",
    "The built-in function eval takes a string and evaluates it using the Python interpreter.\n",
    "For example:"
   ]
  },
  {
   "cell_type": "code",
   "execution_count": 5,
   "metadata": {},
   "outputs": [
    {
     "data": {
      "text/plain": [
       "7"
      ]
     },
     "execution_count": 5,
     "metadata": {},
     "output_type": "execute_result"
    }
   ],
   "source": [
    "eval('1 + 2 * 3')"
   ]
  },
  {
   "cell_type": "code",
   "execution_count": 6,
   "metadata": {},
   "outputs": [
    {
     "data": {
      "text/plain": [
       "2.23606797749979"
      ]
     },
     "execution_count": 6,
     "metadata": {},
     "output_type": "execute_result"
    }
   ],
   "source": [
    "import math\n",
    "eval('math.sqrt(5)')"
   ]
  },
  {
   "cell_type": "code",
   "execution_count": 7,
   "metadata": {},
   "outputs": [
    {
     "data": {
      "text/plain": [
       "float"
      ]
     },
     "execution_count": 7,
     "metadata": {},
     "output_type": "execute_result"
    }
   ],
   "source": [
    "eval('type(math.pi)')"
   ]
  },
  {
   "cell_type": "markdown",
   "metadata": {},
   "source": [
    "Write a function called eval_loop that iteratively prompts the user, takes the resulting input and\n",
    "evaluates it using eval, and prints the result.\n",
    "It should continue until the user enters 'done', and then return the value of the last expression it\n",
    "evaluated."
   ]
  },
  {
   "cell_type": "code",
   "execution_count": null,
   "metadata": {},
   "outputs": [],
   "source": []
  },
  {
   "cell_type": "markdown",
   "metadata": {},
   "source": [
    "#### Exercise 7.3. \n",
    "The mathematician Srinivasa Ramanujan found an infinite series that can be used to\n",
    "generate a numerical approximation of 1/p:\n",
    "\n",
    "$$\\frac{1}{n} = \\frac{2\\sqrt{2}}{9801}\\sum_{k=0}^{\\infty }\\frac{(4k)!(1103 + 26390k)}{(k!)^{4}396^{4k}}$$\n",
    "\n",
    "Write a function called estimate_pi that uses this formula to compute and return an estimate of\n",
    "p. It should use a while loop to compute terms of the summation until the last term is smaller than\n",
    "1e-15 (which is Python notation for $10^{15}$). You can check the result by comparing it to math.pi.\n",
    "Solution: http://thinkpython2.com/code/pi.py ."
   ]
  },
  {
   "cell_type": "code",
   "execution_count": null,
   "metadata": {},
   "outputs": [],
   "source": []
  },
  {
   "cell_type": "markdown",
   "metadata": {},
   "source": [
    "Source material from:\n",
    "\n",
    "Think Python\n",
    "How to Think Like a Computer Scientist\n",
    "2nd Edition, Version 2.2.23\n",
    "Allen Downey\n",
    "Copyright © 2015 Allen Downey. \n",
    "\n",
    "Source material used under the Creative Commons Attribution-NonCommercial 3.0 Unported License. To view a copy of this license, visit http://creativecommons.org/licenses/by-nc/3.0/ or send a letter to Creative Commons, PO Box 1866, Mountain View, CA 94042, USA.\n",
    "\n",
    "\n",
    "Adapted to Jupyter Notebooks with additional material by Warren Watts, Copyright © 2018"
   ]
  }
 ],
 "metadata": {
  "kernelspec": {
   "display_name": "Python 3",
   "language": "python",
   "name": "python3"
  },
  "language_info": {
   "codemirror_mode": {
    "name": "ipython",
    "version": 3
   },
   "file_extension": ".py",
   "mimetype": "text/x-python",
   "name": "python",
   "nbconvert_exporter": "python",
   "pygments_lexer": "ipython3",
   "version": "3.7.0"
  }
 },
 "nbformat": 4,
 "nbformat_minor": 2
}
