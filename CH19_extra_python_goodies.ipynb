{
 "cells": [
  {
   "cell_type": "markdown",
   "metadata": {},
   "source": [
    "This work is licensed under the Creative Commons Attribution-NonCommercial 3.0 Unported License. To view a copy of this license, visit http://creativecommons.org/licenses/by-nc/3.0/ or send a letter to Creative Commons, PO Box 1866, Mountain View, CA 94042, USA."
   ]
  },
  {
   "cell_type": "markdown",
   "metadata": {},
   "source": [
    "# The Goodies\n",
    "\n",
    "One of my goals for this book has been to teach you as little Python as possible. When\n",
    "there were two ways to do something, I picked one and avoided mentioning the other. Or\n",
    "sometimes I put the second one into an exercise.\n",
    "\n",
    "Now I want to go back for some of the good bits that got left behind. Python provides a\n",
    "number of features that are not really necessary—you can write good code without them—\n",
    "but with them you can sometimes write code that’s more concise, readable or efficient, and\n",
    "sometimes all three.\n",
    "\n",
    "### 19.1 Conditional expressions\n",
    "\n",
    "We saw conditional statements in Section 5.4. Conditional statements are often used to\n",
    "choose one of two values; for example:"
   ]
  },
  {
   "cell_type": "code",
   "execution_count": null,
   "metadata": {},
   "outputs": [],
   "source": [
    "import math\n",
    "x = -1 # feel free to change this\n",
    "if x > 0:\n",
    "    y = math.log(x)\n",
    "else:\n",
    "    y = float('nan')\n",
    "    \n",
    "print(y)"
   ]
  },
  {
   "cell_type": "markdown",
   "metadata": {},
   "source": [
    "This statement checks whether x is positive. If so, it computes math.log. If not, math.log\n",
    "would raise a ValueError. To avoid stopping the program, we generate a “NaN”, which is\n",
    "a special floating-point value that represents “Not a Number”.\n",
    "\n",
    "We can write this statement more concisely using a **conditional expression**:"
   ]
  },
  {
   "cell_type": "code",
   "execution_count": null,
   "metadata": {},
   "outputs": [],
   "source": [
    "import math\n",
    "x = 10 # feel free to change this\n",
    "y = math.log(x) if x > 0 else float('nan')\n",
    "print(y)"
   ]
  },
  {
   "cell_type": "markdown",
   "metadata": {},
   "source": [
    "You can almost read this line like English: “y gets log-x if x is greater than 0; otherwise it\n",
    "gets NaN”.\n",
    "\n",
    "Recursive functions can sometimes be rewritten using conditional expressions. For example,\n",
    "here is a recursive version of factorial:"
   ]
  },
  {
   "cell_type": "code",
   "execution_count": null,
   "metadata": {},
   "outputs": [],
   "source": [
    "def factorial(n):\n",
    "    if n == 0:\n",
    "        return 1\n",
    "    else:\n",
    "        return n * factorial(n-1)\n",
    "    \n",
    "factorial(5)"
   ]
  },
  {
   "cell_type": "markdown",
   "metadata": {},
   "source": [
    "We can rewrite it like this:"
   ]
  },
  {
   "cell_type": "code",
   "execution_count": null,
   "metadata": {},
   "outputs": [],
   "source": [
    "def factorial(n):\n",
    "    return 1 if n == 0 else n * factorial(n-1)\n",
    "\n",
    "factorial(5)"
   ]
  },
  {
   "cell_type": "markdown",
   "metadata": {},
   "source": [
    "Another use of conditional expressions is handling optional arguments. For example, here\n",
    "is the init method from GoodKangaroo (see Exercise 17.2):"
   ]
  },
  {
   "cell_type": "code",
   "execution_count": null,
   "metadata": {},
   "outputs": [],
   "source": [
    "class Kangaroo:\n",
    "    def __init__(self, name, contents=None):\n",
    "        self.name = name\n",
    "        if contents == None:\n",
    "            contents = []\n",
    "        self.pouch_contents = contents\n",
    "        \n",
    "hoppy = Kangaroo('Hoppy') # you can add a contents list to test\n",
    "hoppy.pouch_contents"
   ]
  },
  {
   "cell_type": "markdown",
   "metadata": {},
   "source": [
    "We can rewrite this one like this:"
   ]
  },
  {
   "cell_type": "code",
   "execution_count": null,
   "metadata": {},
   "outputs": [],
   "source": [
    "class Kangaroo:\n",
    "    def __init__(self, name, contents=None):\n",
    "        self.name = name\n",
    "        self.pouch_contents = [] if contents == None else contents\n",
    "        \n",
    "hoppy = Kangaroo('Hoppy') # you can add a contents list to test\n",
    "hoppy.pouch_contents"
   ]
  },
  {
   "cell_type": "markdown",
   "metadata": {},
   "source": [
    "In general, you can replace a conditional statement with a conditional expression if both\n",
    "branches contain simple expressions that are either returned or assigned to the same variable.\n",
    "\n",
    "\n",
    "### 19.2 List comprehensions\n",
    "\n",
    "In Section 10.7 we saw the map and filter patterns. For example, this function takes a list\n",
    "of strings, maps the string method capitalize to the elements, and returns a new list of\n",
    "strings:"
   ]
  },
  {
   "cell_type": "code",
   "execution_count": null,
   "metadata": {},
   "outputs": [],
   "source": [
    "def capitalize_all(t):\n",
    "    res = []\n",
    "    for s in t:\n",
    "        res.append(s.capitalize())\n",
    "    return res\n",
    "\n",
    "capitalize_all(\"ouch\")"
   ]
  },
  {
   "cell_type": "markdown",
   "metadata": {},
   "source": [
    "We can write this more concisely using a **list comprehension**:"
   ]
  },
  {
   "cell_type": "code",
   "execution_count": null,
   "metadata": {},
   "outputs": [],
   "source": [
    "def capitalize_all(t):\n",
    "    return [s.capitalize() for s in t]\n",
    "\n",
    "capitalize_all(\"ouch\")"
   ]
  },
  {
   "cell_type": "markdown",
   "metadata": {},
   "source": [
    "The bracket operators indicate that we are constructing a new list. The expression inside\n",
    "the brackets specifies the elements of the list, and the for clause indicates what sequence\n",
    "we are traversing.\n",
    "\n",
    "The syntax of a list comprehension is a little awkward because the loop variable, s in this\n",
    "example, appears in the expression before we get to the definition.\n",
    "\n",
    "List comprehensions can also be used for filtering. For example, this function selects only\n",
    "the elements of t that are upper case, and returns a new list:"
   ]
  },
  {
   "cell_type": "code",
   "execution_count": null,
   "metadata": {},
   "outputs": [],
   "source": [
    "def only_upper(t):\n",
    "    res = []\n",
    "    for s in t:\n",
    "        if s.isupper():\n",
    "            res.append(s)\n",
    "    return res\n",
    "\n",
    "only_upper(\"Situation Normal All Forked Up\")"
   ]
  },
  {
   "cell_type": "markdown",
   "metadata": {},
   "source": [
    "We can rewrite it using a list comprehension"
   ]
  },
  {
   "cell_type": "code",
   "execution_count": null,
   "metadata": {},
   "outputs": [],
   "source": [
    "def only_upper(t):\n",
    "    return [s for s in t if s.isupper()]\n",
    "\n",
    "only_upper(\"Situation Normal All Forked Up\")"
   ]
  },
  {
   "cell_type": "markdown",
   "metadata": {},
   "source": [
    "List comprehensions are concise and easy to read, at least for simple expressions. And they\n",
    "are usually faster than the equivalent for loops, sometimes much faster. So if you are mad\n",
    "at me for not mentioning them earlier, I understand.\n",
    "\n",
    "But, in my defense, list comprehensions are harder to debug because you can’t put a print\n",
    "statement inside the loop. I suggest that you use them only if the computation is simple\n",
    "enough that you are likely to get it right the first time. And for beginners that means never.\n",
    "\n",
    "\n",
    "### 19.3 Generator expressions\n",
    "\n",
    "**Generator expressions** are similar to list comprehensions, but with parentheses instead of\n",
    "square brackets:"
   ]
  },
  {
   "cell_type": "code",
   "execution_count": null,
   "metadata": {},
   "outputs": [],
   "source": [
    "g = (x**2 for x in range(5))\n",
    "g"
   ]
  },
  {
   "cell_type": "markdown",
   "metadata": {},
   "source": [
    "The result is a generator object that knows how to iterate through a sequence of values. But\n",
    "unlike a list comprehension, it does not compute the values all at once; it waits to be asked.\n",
    "The built-in function next gets the next value from the generator:"
   ]
  },
  {
   "cell_type": "code",
   "execution_count": null,
   "metadata": {},
   "outputs": [],
   "source": [
    "next(g)"
   ]
  },
  {
   "cell_type": "code",
   "execution_count": null,
   "metadata": {},
   "outputs": [],
   "source": [
    " next(g)"
   ]
  },
  {
   "cell_type": "markdown",
   "metadata": {},
   "source": [
    "When you get to the end of the sequence, next raises a StopIteration exception. You can\n",
    "also use a for loop to iterate through the values:"
   ]
  },
  {
   "cell_type": "code",
   "execution_count": null,
   "metadata": {},
   "outputs": [],
   "source": [
    "for val in g:\n",
    "    print(val)"
   ]
  },
  {
   "cell_type": "markdown",
   "metadata": {},
   "source": [
    "The generator object keeps track of where it is in the sequence, so the for loop picks up\n",
    "where next left off. Once the generator is exhausted, it continues to raise StopIteration:"
   ]
  },
  {
   "cell_type": "code",
   "execution_count": null,
   "metadata": {},
   "outputs": [],
   "source": [
    "next(g)"
   ]
  },
  {
   "cell_type": "markdown",
   "metadata": {},
   "source": [
    "Generator expressions are often used with functions like sum, max, and min:"
   ]
  },
  {
   "cell_type": "code",
   "execution_count": null,
   "metadata": {},
   "outputs": [],
   "source": [
    "sum(x**2 for x in range(5))"
   ]
  },
  {
   "cell_type": "markdown",
   "metadata": {},
   "source": [
    "### 19.4 any and all\n",
    "\n",
    "Python provides a built-in function, any, that takes a sequence of boolean values and returns\n",
    "True if any of the values are True. It works on lists:"
   ]
  },
  {
   "cell_type": "code",
   "execution_count": null,
   "metadata": {},
   "outputs": [],
   "source": [
    "any([False, False, True])"
   ]
  },
  {
   "cell_type": "markdown",
   "metadata": {},
   "source": [
    "But it is often used with generator expressions:"
   ]
  },
  {
   "cell_type": "code",
   "execution_count": null,
   "metadata": {},
   "outputs": [],
   "source": [
    "any(letter == 't' for letter in 'monty')"
   ]
  },
  {
   "cell_type": "markdown",
   "metadata": {},
   "source": [
    "That example isn’t very useful because it does the same thing as the in operator. But we\n",
    "could use any to rewrite some of the search functions we wrote in Section 9.3. For example,\n",
    "we could write avoids like this:"
   ]
  },
  {
   "cell_type": "code",
   "execution_count": null,
   "metadata": {},
   "outputs": [],
   "source": [
    "def avoids(word, forbidden):\n",
    "    return not any(letter in forbidden for letter in word)\n",
    "\n",
    "avoids('she sells see shells down by the seashore', 'cug')"
   ]
  },
  {
   "cell_type": "markdown",
   "metadata": {},
   "source": [
    "The function almost reads like English, “word avoids forbidden if there are not any forbidden\n",
    "letters in word.”\n",
    "\n",
    "Using any with a generator expression is efficient because it stops immediately if it finds a\n",
    "True value, so it doesn’t have to evaluate the whole sequence.\n",
    "\n",
    "Python provides another built-in function, all, that returns True if every element of the\n",
    "sequence is True. As an exercise, use all to re-write uses_all from Section 9.3."
   ]
  },
  {
   "cell_type": "code",
   "execution_count": null,
   "metadata": {},
   "outputs": [],
   "source": []
  },
  {
   "cell_type": "markdown",
   "metadata": {},
   "source": [
    "### 19.5 Sets\n",
    "\n",
    "In Section 13.6 I use dictionaries to find the words that appear in a document but not in a\n",
    "word list. The function I wrote takes d1, which contains the words from the document as\n",
    "keys, and d2, which contains the list of words. It returns a dictionary that contains the keys\n",
    "from d1 that are not in d2."
   ]
  },
  {
   "cell_type": "code",
   "execution_count": null,
   "metadata": {},
   "outputs": [],
   "source": [
    "def subtract(d1, d2):\n",
    "    res = dict()\n",
    "    for key in d1:\n",
    "        if key not in d2:\n",
    "            res[key] = None\n",
    "    return res"
   ]
  },
  {
   "cell_type": "markdown",
   "metadata": {},
   "source": [
    "In all of these dictionaries, the values are None because we never use them. As a result, we\n",
    "waste some storage space.\n",
    "\n",
    "Python provides another built-in type, called a set, that behaves like a collection of dictionary\n",
    "keys with no values. Adding elements to a set is fast; so is checking membership.\n",
    "And sets provide methods and operators to compute common set operations.\n",
    "\n",
    "For example, set subtraction is available as a method called difference or as an operator,\n",
    "-. So we can rewrite subtract like this:"
   ]
  },
  {
   "cell_type": "code",
   "execution_count": null,
   "metadata": {},
   "outputs": [],
   "source": [
    "def subtract(d1, d2):\n",
    "    return set(d1) - set(d2)"
   ]
  },
  {
   "cell_type": "markdown",
   "metadata": {},
   "source": [
    "The result is a set instead of a dictionary, but for operations like iteration, the behavior is\n",
    "the same.\n",
    "\n",
    "Some of the exercises in this book can be done concisely and efficiently with sets. For\n",
    "example, here is a solution to has_duplicates, from Exercise 10.7, that uses a dictionary:"
   ]
  },
  {
   "cell_type": "code",
   "execution_count": null,
   "metadata": {},
   "outputs": [],
   "source": [
    "def has_duplicates(t):\n",
    "    d = {}\n",
    "    for x in t:\n",
    "        if x in d:\n",
    "            return True\n",
    "        d[x] = True\n",
    "    return False\n",
    "\n",
    "test_list = [1, 2, 3, 4, 5, 6, 2] # remove the final 2 to test function\n",
    "has_duplicates(test_list)"
   ]
  },
  {
   "cell_type": "markdown",
   "metadata": {},
   "source": [
    "When an element appears for the first time, it is added to the dictionary. If the same element\n",
    "appears again, the function returns True.\n",
    "\n",
    "Using sets, we can write the same function like this:"
   ]
  },
  {
   "cell_type": "code",
   "execution_count": null,
   "metadata": {},
   "outputs": [],
   "source": [
    "def has_duplicates(t):\n",
    "    return len(set(t)) < len(t)\n",
    "\n",
    "test_list = [1, 2, 3, 4, 5, 6, 2] # remove the final 2 to test function\n",
    "has_duplicates(test_list)"
   ]
  },
  {
   "cell_type": "markdown",
   "metadata": {},
   "source": [
    "An element can only appear in a set once, so if an element in t appears more than once, the\n",
    "set will be smaller than t. If there are no duplicates, the set will be the same size as t.\n",
    "\n",
    "We can also use sets to do some of the exercises in Chapter 9. For example, here’s a version\n",
    "of uses_only with a loop:"
   ]
  },
  {
   "cell_type": "code",
   "execution_count": null,
   "metadata": {},
   "outputs": [],
   "source": [
    "def uses_only(word, available):\n",
    "    for letter in word:\n",
    "        if letter not in available:\n",
    "            return False\n",
    "    return True\n"
   ]
  },
  {
   "cell_type": "markdown",
   "metadata": {},
   "source": [
    "uses_only checks whether all letters in word are in available. We can rewrite it like this:"
   ]
  },
  {
   "cell_type": "code",
   "execution_count": null,
   "metadata": {},
   "outputs": [],
   "source": [
    "def uses_only(word, available):\n",
    "    return set(word) <= set(available)\n",
    "\n",
    "uses_only(\"mississippi\", \"misp\") # change to test"
   ]
  },
  {
   "cell_type": "markdown",
   "metadata": {},
   "source": [
    "The <= operator checks whether one set is a subset or another, including the possibility that\n",
    "they are equal, which is true if all the letters in word appear in available.\n",
    "\n",
    "As an exercise, rewrite avoids using sets."
   ]
  },
  {
   "cell_type": "code",
   "execution_count": null,
   "metadata": {},
   "outputs": [],
   "source": []
  },
  {
   "cell_type": "markdown",
   "metadata": {},
   "source": [
    "### 19.6 Counters\n",
    "\n",
    "A Counter is like a set, except that if an element appears more than once, the Counter\n",
    "keeps track of how many times it appears. If you are familiar with the mathematical idea\n",
    "of a **multiset**, a Counter is a natural way to represent a multiset.\n",
    "\n",
    "Counter is defined in a standard module called collections, so you have to import it. You\n",
    "can initialize a Counter with a string, list, or anything else that supports iteration:"
   ]
  },
  {
   "cell_type": "code",
   "execution_count": null,
   "metadata": {},
   "outputs": [],
   "source": [
    "from collections import Counter\n",
    "count = Counter('parrot')\n",
    "count"
   ]
  },
  {
   "cell_type": "markdown",
   "metadata": {},
   "source": [
    "Counters behave like dictionaries in many ways; they map from each key to the number of\n",
    "times it appears. As in dictionaries, the keys have to be hashable.\n",
    "\n",
    "Unlike dictionaries, Counters don’t raise an exception if you access an element that doesn’t\n",
    "appear. Instead, they return 0:"
   ]
  },
  {
   "cell_type": "code",
   "execution_count": null,
   "metadata": {},
   "outputs": [],
   "source": [
    "count['d']"
   ]
  },
  {
   "cell_type": "markdown",
   "metadata": {},
   "source": [
    "We can use Counters to rewrite is_anagram from Exercise 10.6:"
   ]
  },
  {
   "cell_type": "code",
   "execution_count": null,
   "metadata": {},
   "outputs": [],
   "source": [
    "def is_anagram(word1, word2):\n",
    "    return Counter(word1) == Counter(word2)\n",
    "\n",
    "is_anagram('god', 'dog')"
   ]
  },
  {
   "cell_type": "markdown",
   "metadata": {},
   "source": [
    "If two words are anagrams, they contain the same letters with the same counts, so their\n",
    "Counters are equivalent.\n",
    "\n",
    "Counters provide methods and operators to perform set-like operations, including addition,\n",
    "subtraction, union and intersection. And they provide an often-useful method,\n",
    "most_common, which returns a list of value-frequency pairs, sorted from most common to\n",
    "least:"
   ]
  },
  {
   "cell_type": "code",
   "execution_count": null,
   "metadata": {},
   "outputs": [],
   "source": [
    "count = Counter('pirateparrot')\n",
    "for val, freq in count.most_common(5):\n",
    "    print(val, freq)"
   ]
  },
  {
   "cell_type": "markdown",
   "metadata": {},
   "source": [
    "### 19.7 defaultdict\n",
    "\n",
    "The collections module also provides defaultdict, which is like a dictionary except that\n",
    "if you access a key that doesn’t exist, it can generate a new value on the fly.\n",
    "\n",
    "When you create a defaultdict, you provide a function that’s used to create new values. A\n",
    "function used to create objects is sometimes called a **factory**. The built-in functions that\n",
    "create lists, sets, and other types can be used as factories:"
   ]
  },
  {
   "cell_type": "code",
   "execution_count": null,
   "metadata": {},
   "outputs": [],
   "source": [
    "from collections import defaultdict\n",
    "d = defaultdict(list)"
   ]
  },
  {
   "cell_type": "markdown",
   "metadata": {},
   "source": [
    "Notice that the argument is list, which is a class object, not list(), which is a new list.\n",
    "The function you provide doesn’t get called unless you access a key that doesn’t exist."
   ]
  },
  {
   "cell_type": "code",
   "execution_count": null,
   "metadata": {},
   "outputs": [],
   "source": [
    "t = d['new key']\n",
    "t"
   ]
  },
  {
   "cell_type": "markdown",
   "metadata": {},
   "source": [
    "The new list, which we’re calling t, is also added to the dictionary. So if we modify t, the\n",
    "change appears in d:"
   ]
  },
  {
   "cell_type": "code",
   "execution_count": null,
   "metadata": {},
   "outputs": [],
   "source": [
    "t.append('new value')\n",
    "d"
   ]
  },
  {
   "cell_type": "markdown",
   "metadata": {},
   "source": [
    "If you are making a dictionary of lists, you can often write simpler code using defaultdict.\n",
    "In the solution to Exercise 12.2, which you can get from http://thinkpython2.com/code/anagram_sets.py, I make a dictionary that maps from a sorted string of letters to the list of\n",
    "words that can be spelled with those letters. For example, 'opst' maps to the list ['opts', 'post', 'pots', 'spot', 'stop', 'tops'].\n",
    "\n",
    "Here’s the original code:"
   ]
  },
  {
   "cell_type": "code",
   "execution_count": null,
   "metadata": {},
   "outputs": [],
   "source": [
    "def signature(s):\n",
    "    \"\"\"Returns the signature of this string.\n",
    "\n",
    "    Signature is a string that contains all of the letters in order.\n",
    "\n",
    "    s: string\n",
    "    \"\"\"\n",
    "    # TODO: rewrite using sorted()\n",
    "    t = list(s)\n",
    "    t.sort()\n",
    "    t = ''.join(t)\n",
    "    return t\n",
    "\n",
    "def all_anagrams(filename):\n",
    "    d = {}\n",
    "    for line in open(filename):\n",
    "        word = line.strip().lower()\n",
    "        t = signature(word)\n",
    "        if t not in d:\n",
    "            d[t] = [word]\n",
    "        else:\n",
    "            d[t].append(word)\n",
    "    return d\n",
    "\n",
    "all_anagrams(\"words.txt\")"
   ]
  },
  {
   "cell_type": "markdown",
   "metadata": {},
   "source": [
    "This can be simplified using setdefault, which you might have used in Exercise 11.2:"
   ]
  },
  {
   "cell_type": "code",
   "execution_count": null,
   "metadata": {},
   "outputs": [],
   "source": [
    "def all_anagrams(filename):\n",
    "    d = {}\n",
    "    for line in open(filename):\n",
    "        word = line.strip().lower()\n",
    "        t = signature(word)\n",
    "        d.setdefault(t, []).append(word)\n",
    "    return d\n",
    "\n",
    "all_anagrams(\"words.txt\")"
   ]
  },
  {
   "cell_type": "markdown",
   "metadata": {},
   "source": [
    "This solution has the drawback that it makes a new list every time, regardless of whether\n",
    "it is needed. For lists, that’s no big deal, but if the factory function is complicated, it might\n",
    "be.\n",
    "\n",
    "We can avoid this problem and simplify the code using a defaultdict:"
   ]
  },
  {
   "cell_type": "code",
   "execution_count": null,
   "metadata": {},
   "outputs": [],
   "source": [
    "def all_anagrams(filename):\n",
    "    d = defaultdict(list)\n",
    "    for line in open(filename):\n",
    "        word = line.strip().lower()\n",
    "        t = signature(word)\n",
    "        d[t].append(word)\n",
    "    return d\n",
    "\n",
    "all_anagrams(\"words.txt\")"
   ]
  },
  {
   "cell_type": "markdown",
   "metadata": {},
   "source": [
    "The solution to Exercise 18.3, which you can download from http://thinkpython2.com/code/PokerHandSoln.py, uses setdefault in the function has_straightflush. This solution\n",
    "has the drawback of creating a Hand object every time through the loop, whether it is\n",
    "needed or not. As an exercise, rewrite it using a defaultdict."
   ]
  },
  {
   "cell_type": "code",
   "execution_count": null,
   "metadata": {},
   "outputs": [],
   "source": []
  },
  {
   "cell_type": "markdown",
   "metadata": {},
   "source": [
    "### 19.8 Named tuples\n",
    "\n",
    "Many simple objects are basically collections of related values. For example, the Point\n",
    "object defined in Chapter 15 contains two numbers, x and y. When you define a class like\n",
    "this, you usually start with an init method and a str method:"
   ]
  },
  {
   "cell_type": "code",
   "execution_count": null,
   "metadata": {},
   "outputs": [],
   "source": [
    "class Point:\n",
    "    \n",
    "    def __init__(self, x=0, y=0):\n",
    "        self.x = x\n",
    "        self.y = y\n",
    "    \n",
    "    def __str__(self):\n",
    "        return '(%g, %g)' % (self.x, self.y)\n",
    "    \n",
    "p = Point(10,20)\n",
    "print(p)"
   ]
  },
  {
   "cell_type": "markdown",
   "metadata": {},
   "source": [
    "This is a lot of code to convey a small amount of information. Python provides a more\n",
    "concise way to say the same thing:"
   ]
  },
  {
   "cell_type": "code",
   "execution_count": null,
   "metadata": {},
   "outputs": [],
   "source": [
    "from collections import namedtuple\n",
    "Point = namedtuple('Point', ['x', 'y'])"
   ]
  },
  {
   "cell_type": "markdown",
   "metadata": {},
   "source": [
    "The first argument is the name of the class you want to create. The second is a list of the\n",
    "attributes Point objects should have, as strings. The return value from namedtuple is a class\n",
    "object:"
   ]
  },
  {
   "cell_type": "code",
   "execution_count": null,
   "metadata": {},
   "outputs": [],
   "source": [
    "Point"
   ]
  },
  {
   "cell_type": "markdown",
   "metadata": {},
   "source": [
    "Point automatically provides methods like __init__ and __str__ so you don’t have to\n",
    "write them.\n",
    "\n",
    "To create a Point object, you use the Point class as a function:"
   ]
  },
  {
   "cell_type": "code",
   "execution_count": null,
   "metadata": {},
   "outputs": [],
   "source": [
    "p = Point(1, 2)\n",
    "p"
   ]
  },
  {
   "cell_type": "markdown",
   "metadata": {},
   "source": [
    "The init method assigns the arguments to attributes using the names you provided. The\n",
    "str method prints a representation of the Point object and its attributes.\n",
    "\n",
    "You can access the elements of the named tuple by name:"
   ]
  },
  {
   "cell_type": "code",
   "execution_count": null,
   "metadata": {},
   "outputs": [],
   "source": [
    "p.x, p.y"
   ]
  },
  {
   "cell_type": "markdown",
   "metadata": {},
   "source": [
    "But you can also treat a named tuple as a tuple:"
   ]
  },
  {
   "cell_type": "code",
   "execution_count": null,
   "metadata": {},
   "outputs": [],
   "source": [
    "p[0], p[1]"
   ]
  },
  {
   "cell_type": "code",
   "execution_count": null,
   "metadata": {},
   "outputs": [],
   "source": [
    "x, y = p\n",
    "x, y"
   ]
  },
  {
   "cell_type": "markdown",
   "metadata": {},
   "source": [
    "Named tuples provide a quick way to define simple classes. The drawback is that simple\n",
    "classes don’t always stay simple. You might decide later that you want to add methods\n",
    "to a named tuple. In that case, you could define a new class that inherits from the named\n",
    "tuple:\n",
    "```python\n",
    "class Pointier(Point):\n",
    "    # add more methods here```\n",
    "Or you could switch to a conventional class definition.\n",
    "\n",
    "\n",
    "### 19.9 Gathering keyword args\n",
    "\n",
    "In Section 12.4, we saw how to write a function that gathers its arguments into a tuple:"
   ]
  },
  {
   "cell_type": "code",
   "execution_count": null,
   "metadata": {},
   "outputs": [],
   "source": [
    "def printall(*args):\n",
    "    print(args)"
   ]
  },
  {
   "cell_type": "markdown",
   "metadata": {},
   "source": [
    "You can call this function with any number of positional arguments (that is, arguments that\n",
    "don’t have keywords):"
   ]
  },
  {
   "cell_type": "code",
   "execution_count": null,
   "metadata": {},
   "outputs": [],
   "source": [
    "printall(1, 2.0, '3')"
   ]
  },
  {
   "cell_type": "markdown",
   "metadata": {},
   "source": [
    "But the \\* operator doesn’t gather keyword arguments:"
   ]
  },
  {
   "cell_type": "code",
   "execution_count": null,
   "metadata": {},
   "outputs": [],
   "source": [
    "printall(1, 2.0, third='3')"
   ]
  },
  {
   "cell_type": "markdown",
   "metadata": {},
   "source": [
    "To gather keyword arguments, you can use the \\*\\* operator:"
   ]
  },
  {
   "cell_type": "code",
   "execution_count": null,
   "metadata": {},
   "outputs": [],
   "source": [
    "def printall(*args, **kwargs):\n",
    "    print(args, kwargs)"
   ]
  },
  {
   "cell_type": "markdown",
   "metadata": {},
   "source": [
    "You can call the keyword gathering parameter anything you want, but kwargs is a common\n",
    "choice. The result is a dictionary that maps keywords to values:"
   ]
  },
  {
   "cell_type": "code",
   "execution_count": null,
   "metadata": {},
   "outputs": [],
   "source": [
    "printall(1, 2.0, third='3')"
   ]
  },
  {
   "cell_type": "markdown",
   "metadata": {},
   "source": [
    "If you have a dictionary of keywords and values, you can use the scatter operator, \\*\\* to\n",
    "call a function:"
   ]
  },
  {
   "cell_type": "code",
   "execution_count": null,
   "metadata": {},
   "outputs": [],
   "source": [
    "d = dict(x=1, y=2)\n",
    "Point(**d)"
   ]
  },
  {
   "cell_type": "markdown",
   "metadata": {},
   "source": [
    "Without the scatter operator, the function would treat d as a single positional argument, so\n",
    "it would assign d to x and complain because there’s nothing to assign to y:"
   ]
  },
  {
   "cell_type": "code",
   "execution_count": null,
   "metadata": {},
   "outputs": [],
   "source": [
    "d = dict(x=1, y=2)\n",
    "Point(d)"
   ]
  },
  {
   "cell_type": "markdown",
   "metadata": {},
   "source": [
    "When you are working with functions that have a large number of parameters, it is often\n",
    "useful to create and pass around dictionaries that specify frequently used options.\n",
    "\n",
    "\n",
    "### 19.10 Glossary\n",
    "\n",
    "**conditional expression:** An expression that has one of two values, depending on a condition.\n",
    "list comprehension: An expression with a for loop in square brackets that yields a new\n",
    "list.\n",
    "\n",
    "**generator expression:** An expression with a for loop in parentheses that yields a generator\n",
    "object.\n",
    "\n",
    "**multiset:** A mathematical entity that represents a mapping between the elements of a set\n",
    "and the number of times they appear.\n",
    "\n",
    "**factory:** A function, usually passed as a parameter, used to create objects.\n",
    "\n",
    "\n",
    "### 19.11 Exercises\n",
    "\n",
    "#### Exercise 19.1. \n",
    "The following is a function computes the binomial coefficient recursively.\n",
    "```python\n",
    "def binomial_coeff(n, k):\n",
    "    \"\"\"Compute the binomial coefficient \"n choose k\".\n",
    "    n: number of trials\n",
    "    k: number of successes\n",
    "    returns: int\n",
    "    \"\"\"\n",
    "    if k == 0:\n",
    "        return 1\n",
    "    if n == 0:\n",
    "        return 0\n",
    "    \n",
    "    res = binomial_coeff(n-1, k) + binomial_coeff(n-1, k-1)\n",
    "    return res```\n",
    "Rewrite the body of the function using nested conditional expressions.\n",
    "\n",
    "One note: this function is not very efficient because it ends up computing the same values over and\n",
    "over. You could make it more efficient by memoizing (see Section 11.6). But you will find that it’s\n",
    "harder to memoize if you write it using conditional expressions."
   ]
  },
  {
   "cell_type": "code",
   "execution_count": null,
   "metadata": {},
   "outputs": [],
   "source": []
  },
  {
   "cell_type": "markdown",
   "metadata": {},
   "source": [
    "Source material from:\n",
    "\n",
    "Think Python<br>\n",
    "How to Think Like a Computer Scientist<br>\n",
    "2nd Edition, Version 2.2.23<br>\n",
    "Allen Downey<br>\n",
    "Copyright © 2015 Allen Downey. <br>\n",
    "<br>\n",
    "Source material used under the Creative Commons Attribution-NonCommercial 3.0 Unported License. To view a copy of this license, visit http://creativecommons.org/licenses/by-nc/3.0/ or send a letter to Creative Commons, PO Box 1866, Mountain View, CA 94042, USA.\n",
    "\n",
    "\n",
    "Adapted to Jupyter Notebooks with additional material by Warren Watts, Copyright © 2018"
   ]
  }
 ],
 "metadata": {
  "kernelspec": {
   "display_name": "Python 3",
   "language": "python",
   "name": "python3"
  },
  "language_info": {
   "codemirror_mode": {
    "name": "ipython",
    "version": 3
   },
   "file_extension": ".py",
   "mimetype": "text/x-python",
   "name": "python",
   "nbconvert_exporter": "python",
   "pygments_lexer": "ipython3",
   "version": "3.7.0"
  }
 },
 "nbformat": 4,
 "nbformat_minor": 2
}
