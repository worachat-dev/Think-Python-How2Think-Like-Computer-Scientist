{
 "cells": [
  {
   "cell_type": "markdown",
   "metadata": {},
   "source": [
    "This work is licensed under the Creative Commons Attribution-NonCommercial 3.0 Unported License. To view a copy of this license, visit http://creativecommons.org/licenses/by-nc/3.0/ or send a letter to Creative Commons, PO Box 1866, Mountain View, CA 94042, USA."
   ]
  },
  {
   "cell_type": "markdown",
   "metadata": {},
   "source": [
    "# Conditionals and recursion\n",
    "\n",
    "The main topic of this chapter is the _if_ statement, which executes different code depending\n",
    "on the state of the program. But first I want to introduce two new operators: floor division\n",
    "and modulus.\n",
    "\n",
    "### 5.1 Floor division and modulus\n",
    "\n",
    "The floor division operator, _//_, divides two numbers and rounds down to an integer. For\n",
    "example, suppose the run time of a movie is 105 minutes. You might want to know how\n",
    "long that is in hours. Conventional division returns a floating-point number:"
   ]
  },
  {
   "cell_type": "code",
   "execution_count": null,
   "metadata": {},
   "outputs": [],
   "source": [
    "minutes = 105\n",
    "minutes / 60"
   ]
  },
  {
   "cell_type": "markdown",
   "metadata": {},
   "source": [
    "But we don’t normally write hours with decimal points. Floor division returns the integer\n",
    "number of hours, rounding down:"
   ]
  },
  {
   "cell_type": "code",
   "execution_count": null,
   "metadata": {},
   "outputs": [],
   "source": [
    "minutes = 105\n",
    "hours = minutes // 60\n",
    "hours"
   ]
  },
  {
   "cell_type": "markdown",
   "metadata": {},
   "source": [
    "To get the remainder, you could subtract off one hour in minutes:"
   ]
  },
  {
   "cell_type": "code",
   "execution_count": null,
   "metadata": {},
   "outputs": [],
   "source": [
    "remainder = minutes - hours * 60\n",
    "remainder"
   ]
  },
  {
   "cell_type": "markdown",
   "metadata": {},
   "source": [
    "An alternative is to use the __modulus operator__, _%_, which divides two numbers and returns\n",
    "the remainder."
   ]
  },
  {
   "cell_type": "code",
   "execution_count": null,
   "metadata": {},
   "outputs": [],
   "source": [
    "remainder = minutes % 60\n",
    "remainder"
   ]
  },
  {
   "cell_type": "markdown",
   "metadata": {},
   "source": [
    "The modulus operator is more useful than it seems. For example, you can check whether\n",
    "one number is divisible by another-if _x % y_ is zero, then *x* is divisible by _y_.\n",
    "\n",
    "Also, you can extract the right-most digit or digits from a number. For example, *x % 10*\n",
    "yields the right-most digit of _x_ (in base 10). Similarly *x % 100* yields the last two digits.\n",
    "\n",
    "If you are using Python 2, division works differently. The division operator, _/_, performs\n",
    "floor division if both operands are integers, and floating-point division if either operand is\n",
    "a float.\n",
    "\n",
    "\n",
    "### 5.2 Boolean expressions\n",
    "\n",
    "A __boolean expression__ is an expression that is either true or false. The following examples\n",
    "use the operator _==_, which compares two operands and produces _True_ if they are equal\n",
    "and _False_ otherwise:"
   ]
  },
  {
   "cell_type": "code",
   "execution_count": null,
   "metadata": {},
   "outputs": [],
   "source": [
    "5 == 5"
   ]
  },
  {
   "cell_type": "code",
   "execution_count": null,
   "metadata": {},
   "outputs": [],
   "source": [
    "5 == 6"
   ]
  },
  {
   "cell_type": "markdown",
   "metadata": {},
   "source": [
    "_True_ and _False_ are special values that belong to the type _bool_; they are not strings:"
   ]
  },
  {
   "cell_type": "code",
   "execution_count": null,
   "metadata": {},
   "outputs": [],
   "source": [
    "print(type(True))\n",
    "print(type(False))"
   ]
  },
  {
   "cell_type": "markdown",
   "metadata": {},
   "source": [
    "The == operator is one of the relational operators; the others are:\n",
    "```python\n",
    "x != y # x is not equal to y\n",
    "x > y # x is greater than y\n",
    "x < y # x is less than y\n",
    "x >= y # x is greater than or equal to y\n",
    "x <= y # x is less than or equal to y```\n",
    "Although these operations are probably familiar to you, the Python symbols are different\n",
    "from the mathematical symbols. A common error is to use a single equal sign (=) instead of\n",
    "a double equal sign (==). Remember that = is an assignment operator and == is a relational\n",
    "operator. There is no such thing as =< or =>.\n",
    "\n",
    "\n",
    "### 5.3 Logical operators\n",
    "\n",
    "There are three __logical operators__: _and_, _or_, and _not_. The semantics (meaning) of these\n",
    "operators is similar to their meaning in English. For example, _x > 0 and x < 10_ is true\n",
    "only if *x* is greater than 0 _and_ less than 10.\n",
    "\n",
    "_n%2 == 0_ or _n%3 == 0_ is true if _either or both_ of the conditions is true, that is, if the number\n",
    "is divisible by 2 _or_ 3.\n",
    "\n",
    "Finally, the not operator negates a boolean expression, so _not (x > y)_ is true if _x > y_ is\n",
    "false, that is, if *x* is less than _or_ equal to _y_.\n",
    "\n",
    "Strictly speaking, the operands of the logical operators should be boolean expressions, but\n",
    "Python is not very strict. Any nonzero number is interpreted as _True_:"
   ]
  },
  {
   "cell_type": "code",
   "execution_count": null,
   "metadata": {},
   "outputs": [],
   "source": [
    "42 and True\n"
   ]
  },
  {
   "cell_type": "markdown",
   "metadata": {},
   "source": [
    "This flexibility can be useful, but there are some subtleties to it that might be confusing.\n",
    "You might want to avoid it (unless you know what you are doing).\n",
    "\n",
    "\n",
    "### 5.4 Conditional execution\n",
    "\n",
    "In order to write useful programs, we almost always need the ability to check conditions\n",
    "and change the behavior of the program accordingly. __Conditional statements__ give us this\n",
    "ability. The simplest form is the _if_ statement:"
   ]
  },
  {
   "cell_type": "code",
   "execution_count": null,
   "metadata": {},
   "outputs": [],
   "source": [
    "# change x to see behaviour of the code\n",
    "x = 0\n",
    "if x > 0:\n",
    "    print('x is positive')"
   ]
  },
  {
   "cell_type": "markdown",
   "metadata": {},
   "source": [
    "The boolean expression after if is called the condition. If it is true, the indented statement\n",
    "runs. If not, nothing happens.\n",
    "\n",
    "if statements have the same structure as function definitions: a header followed by an\n",
    "indented body. Statements like this are called compound statements.\n",
    "\n",
    "There is no limit on the number of statements that can appear in the body, but there has to\n",
    "be at least one. Occasionally, it is useful to have a body with no statements (usually as a\n",
    "place keeper for code you haven’t written yet). In that case, you can use the pass statement,\n",
    "which does nothing.\n",
    "```python\n",
    "if x < 0:\n",
    "    pass # TODO: need to handle negative values!```\n",
    "\n",
    "\n",
    "### 5.5 Alternative execution\n",
    "A second form of the _if_ statement is “alternative execution”, in which there are two possibilities\n",
    "and the condition determines which one runs. The syntax looks like this:"
   ]
  },
  {
   "cell_type": "code",
   "execution_count": null,
   "metadata": {},
   "outputs": [],
   "source": [
    "# change x to see behaviour of the code\n",
    "x = 1\n",
    "\n",
    "if x % 2 == 0:\n",
    "    print('x is even')\n",
    "else:\n",
    "    print('x is odd')"
   ]
  },
  {
   "cell_type": "markdown",
   "metadata": {},
   "source": [
    "If the remainder when *x* is divided by 2 is 0, then we know that x is even, and the program\n",
    "displays an appropriate message. If the condition is false, the second set of statements\n",
    "runs. Since the condition must be true or false, exactly one of the alternatives will run. The\n",
    "alternatives are called branches, because they are __branches__ in the flow of execution.\n",
    "\n",
    "\n",
    "### 5.6 Chained conditionals\n",
    "\n",
    "Sometimes there are more than two possibilities and we need more than two branches.\n",
    "One way to express a computation like that is a __chained conditional__:"
   ]
  },
  {
   "cell_type": "code",
   "execution_count": null,
   "metadata": {},
   "outputs": [],
   "source": [
    "# change the values of x and y to see what this code does\n",
    "x,y = 6,7\n",
    "if x < y:\n",
    "    print('x is less than y')\n",
    "elif x > y:\n",
    "    print('x is greater than y')\n",
    "else:\n",
    "    print('x and y are equal')"
   ]
  },
  {
   "cell_type": "markdown",
   "metadata": {},
   "source": [
    "_elif_ is an abbreviation of “else if”. Again, exactly one branch will run. There is no limit on\n",
    "the number of _elif_ statements. If there is an _else_ clause, it has to be at the end, but there\n",
    "doesn’t have to be one."
   ]
  },
  {
   "cell_type": "code",
   "execution_count": null,
   "metadata": {},
   "outputs": [],
   "source": [
    "# change choice to see behaviour of the code\n",
    "choice = 'B'\n",
    "if choice == 'a':\n",
    "    print(\"A\")\n",
    "elif choice == 'b':\n",
    "    print(\"B\")\n",
    "elif choice == 'c':\n",
    "    print(\"C\")\n"
   ]
  },
  {
   "cell_type": "markdown",
   "metadata": {},
   "source": [
    "Each condition is checked in order. If the first is false, the next is checked, and so on. If one\n",
    "of them is true, the corresponding branch runs and the statement ends. Even if more than\n",
    "one condition is true, only the first true branch runs.\n",
    "\n",
    "\n",
    "### 5.7 Nested conditionals\n",
    "\n",
    "One conditional can also be nested within another. We could have written the example in\n",
    "the previous section like this:"
   ]
  },
  {
   "cell_type": "code",
   "execution_count": null,
   "metadata": {},
   "outputs": [],
   "source": [
    "# change the values of x and y to see what this code does\n",
    "x,y = 4,5\n",
    "\n",
    "if x == y:\n",
    "    print('x and y are equal')\n",
    "else:\n",
    "    if x < y:\n",
    "        print('x is less than y')\n",
    "    else:\n",
    "        print('x is greater than y')"
   ]
  },
  {
   "cell_type": "markdown",
   "metadata": {},
   "source": [
    "The outer conditional contains two branches. The first branch contains a simple statement.\n",
    "The second branch contains another _if_ statement, which has two branches of its own.\n",
    "Those two branches are both simple statements, although they could have been conditional\n",
    "statements as well.\n",
    "\n",
    "Although the indentation of the statements makes the structure apparent, __nested conditionals__\n",
    "become difficult to read very quickly. It is a good idea to avoid them when you\n",
    "can.\n",
    "\n",
    "Logical operators often provide a way to simplify nested conditional statements. For example,\n",
    "we can rewrite the following code using a single conditional:"
   ]
  },
  {
   "cell_type": "code",
   "execution_count": null,
   "metadata": {},
   "outputs": [],
   "source": [
    "# change x to see behaviour of the code\n",
    "x = 9\n",
    "if 0 < x:\n",
    "    if x < 10:\n",
    "        print('x is a positive single-digit number.')"
   ]
  },
  {
   "cell_type": "markdown",
   "metadata": {},
   "source": [
    "The print statement runs only if we make it past both conditionals, so we can get the same\n",
    "effect with the and operator:"
   ]
  },
  {
   "cell_type": "code",
   "execution_count": null,
   "metadata": {},
   "outputs": [],
   "source": [
    "# change x to see behaviour of the code\n",
    "x = 9\n",
    "if 0 < x and x < 10:\n",
    "    print('x is a positive single-digit number.')"
   ]
  },
  {
   "cell_type": "markdown",
   "metadata": {},
   "source": [
    "For this kind of condition, Python provides a more concise option:"
   ]
  },
  {
   "cell_type": "code",
   "execution_count": null,
   "metadata": {},
   "outputs": [],
   "source": [
    "# change x to see behaviour of the code\n",
    "x = 6\n",
    "if 0 < x < 10:\n",
    "    print('x is a positive single-digit number.')"
   ]
  },
  {
   "cell_type": "markdown",
   "metadata": {},
   "source": [
    "### 5.8 Recursion\n",
    "\n",
    "It is legal for one function to call another; it is also legal for a function to call itself. It may\n",
    "not be obvious why that is a good thing, but it turns out to be one of the most magical\n",
    "things a program can do. For example, look at the following function:"
   ]
  },
  {
   "cell_type": "code",
   "execution_count": null,
   "metadata": {},
   "outputs": [],
   "source": [
    "def countdown(n):\n",
    "    if n <= 0:\n",
    "        print('Blastoff!')\n",
    "    else:\n",
    "        print(n)\n",
    "        countdown(n-1)"
   ]
  },
  {
   "cell_type": "markdown",
   "metadata": {},
   "source": [
    "If n is 0 or negative, it outputs the word, “Blastoff!” Otherwise, it outputs *n* and then calls\n",
    "a function named _countdown_—itself—passing _n-1_ as an argument.\n",
    "\n",
    "What happens if we call this function like this?"
   ]
  },
  {
   "cell_type": "code",
   "execution_count": null,
   "metadata": {},
   "outputs": [],
   "source": [
    "countdown(3)"
   ]
  },
  {
   "cell_type": "markdown",
   "metadata": {},
   "source": [
    "The first function call starts in \\_\\_main\\_\\_\n",
    ">The execution of _countdown_ begins with _n=3_, and since _n_ is greater than 0, it outputs the value 3, and then calls itself...\n",
    ">>The execution of _countdown_ begins with _n=2_, and since _n_ is greater than 0, it\n",
    "outputs the value 2, and then calls itself...\n",
    ">>>The execution of _countdown_ begins with _n=1_, and since *n* is greater\n",
    "than 0, it outputs the value 1, and then calls itself...\n",
    ">>>>The execution of _countdown_ begins with *n=0*, and since *n* is\n",
    "not greater than 0, it outputs the word, “Blastoff!” and then\n",
    "returns.\n",
    ">>><p>The countdown that got n=1 returns.</p>\n",
    ">><p>The countdown that got n=2 returns.</p>\n",
    "><p>The countdown that got n=3 returns.</p>\n",
    "\n",
    "And then you’re back in \\_\\_main\\_\\_. \n",
    "\n",
    "A function that calls itself is __recursive__; the process of executing it is called __recursion__.\n",
    "\n",
    "As another example, we can write a function that prints a string _n_ times."
   ]
  },
  {
   "cell_type": "code",
   "execution_count": null,
   "metadata": {},
   "outputs": [],
   "source": [
    "def print_n(s, n):\n",
    "    if n <= 0:\n",
    "        return\n",
    "    print(s)\n",
    "    print_n(s, n-1)\n",
    "    \n",
    "print_n(\"help\", 3)"
   ]
  },
  {
   "cell_type": "markdown",
   "metadata": {},
   "source": [
    "If _n <= 0_ the __return statement__ exits the function. The flow of execution immediately returns\n",
    "to the caller, and the remaining lines of the function don’t run.\n",
    "\n",
    "The rest of the function is similar to _countdown_: it displays _s_ and then calls itself to display\n",
    "*s* n-1 additional times. So the number of lines of output is 1+(n - 1), which adds up\n",
    "to n.\n",
    "\n",
    "For simple examples like this, it is probably easier to use a for loop. But we will see\n",
    "examples later that are hard to write with a for loop and easy to write with recursion, so it\n",
    "is good to start early.\n",
    "\n",
    "\\_\\_main\\_\\_\n",
    ">countdown(3)\n",
    "><p><table style=\"width:50%; border-style:solid;\"> \n",
    "    <tr><td>n</td> <td>--------------></td> <td>3</td>  </tr></table></p><br>\n",
    "    \n",
    ">><p>countdown(2)\n",
    ">><table style=\"width:55%; border-style:solid;\"> \n",
    "    <tr><td>n</td> <td>--------------></td> <td>2</td>  </tr></table></p>\n",
    "\n",
    ">>><p>countdown(1)\n",
    ">>><table style=\"width:60%; border-style:solid;\"> \n",
    "    <tr><td>n</td> <td>--------------></td> <td>1</td>  </tr></table></p>\n",
    "\n",
    ">>>><p>countdown(0)\n",
    ">>>><table style=\"width:65%; border-style:solid;\"> \n",
    "    <tr><td>n</td> <td>--------------></td> <td>0</td>  </tr></table></p>\n",
    "\n",
    "Figure 5.1: Stack diagram.\n",
    "\n",
    "### 5.9 Stack diagrams for recursive functions\n",
    "\n",
    "In Section 3.9, we used a stack diagram to represent the state of a program during a function\n",
    "call. The same kind of diagram can help interpret a recursive function.\n",
    "\n",
    "Every time a function gets called, Python creates a frame to contain the function’s local\n",
    "variables and parameters. For a recursive function, there might be more than one frame on\n",
    "the stack at the same time.\n",
    "\n",
    "Figure 5.1 shows a stack diagram for _countdown_ called with n = 3.\n",
    "\n",
    "As usual, the top of the stack is the frame for \\_\\_main\\_\\_. It is empty because we did not\n",
    "create any variables in \\_\\_main\\_\\_ or pass any arguments to it.\n",
    "\n",
    "The four _countdown_ frames have different values for the parameter *n*. The bottom of the\n",
    "stack, where n=0, is called the __base case__. It does not make a recursive call, so there are no\n",
    "more frames.\n",
    "\n",
    "As an exercise, draw a stack diagram for *print_n* called with *s = 'Hello'* and *n=2*. Then\n",
    "write a function called *do_n* that takes a function object and a number, _n_, as arguments, and\n",
    "that calls the given function n times."
   ]
  },
  {
   "cell_type": "code",
   "execution_count": null,
   "metadata": {},
   "outputs": [],
   "source": []
  },
  {
   "cell_type": "markdown",
   "metadata": {},
   "source": [
    "### 5.10 Infinite recursion\n",
    "\n",
    "If a recursion never reaches a base case, it goes on making recursive calls forever, and the\n",
    "program never terminates. This is known as __infinite recursion__, and it is generally not a\n",
    "good idea. Here is a minimal program with an infinite recursion:"
   ]
  },
  {
   "cell_type": "code",
   "execution_count": null,
   "metadata": {},
   "outputs": [],
   "source": [
    "def recurse():\n",
    "    recurse()\n",
    "\n",
    "recurse()"
   ]
  },
  {
   "cell_type": "markdown",
   "metadata": {},
   "source": [
    "In most programming environments, a program with infinite recursion does not really run\n",
    "forever. Python reports an error message when the maximum recursion depth is reached.\n",
    "\n",
    "This traceback is a little bigger than the one we saw in the previous chapter. When the error\n",
    "occurs, there are 1000 _recurse_ frames on the stack!\n",
    "\n",
    "If you encounter an infinite recursion by accident, review your function to confirm that\n",
    "there is a base case that does not make a recursive call. And if there is a base case, check\n",
    "whether you are guaranteed to reach it.\n",
    "\n",
    "\n",
    "### 5.11 Keyboard input\n",
    "\n",
    "The programs we have written so far accept no input from the user. They just do the same\n",
    "thing every time.\n",
    "\n",
    "Python provides a built-in function called _input_ that stops the program and waits for the\n",
    "user to type something. When the user presses Return or Enter, the program resumes and\n",
    "*input* returns what the user typed as a string. In Python 2, the same function is called\n",
    "*raw_input*."
   ]
  },
  {
   "cell_type": "code",
   "execution_count": null,
   "metadata": {},
   "outputs": [],
   "source": [
    "text = input()\n",
    "text"
   ]
  },
  {
   "cell_type": "markdown",
   "metadata": {},
   "source": [
    "Before getting input from the user, it\n",
    "is a good idea to print a prompt telling the user what\n",
    "to type. input can take a prompt as an argument:"
   ]
  },
  {
   "cell_type": "code",
   "execution_count": null,
   "metadata": {},
   "outputs": [],
   "source": [
    "name = input('What...is your name?\\n')\n",
    "name"
   ]
  },
  {
   "cell_type": "markdown",
   "metadata": {},
   "source": [
    "The sequence _\\n_ at the end of the prompt represents a __newline__, which is a special character\n",
    "that causes a line break. That’s why the user’s input appears below the prompt.\n",
    "If you expect the user to type an integer, you can try to convert the return value to int:"
   ]
  },
  {
   "cell_type": "code",
   "execution_count": null,
   "metadata": {},
   "outputs": [],
   "source": [
    "# run code and type an integer\n",
    "prompt = 'What...is the airspeed velocity of an unladen swallow?\\n'\n",
    "speed = input(prompt)\n",
    "int(speed)"
   ]
  },
  {
   "cell_type": "markdown",
   "metadata": {},
   "source": [
    "But if the user types something other than a string of digits, you get an error:"
   ]
  },
  {
   "cell_type": "code",
   "execution_count": null,
   "metadata": {},
   "outputs": [],
   "source": [
    "# run code and some text\n",
    "prompt = 'What...is the airspeed velocity of an unladen swallow?\\n'\n",
    "speed = input(prompt)\n",
    "int(speed)"
   ]
  },
  {
   "cell_type": "markdown",
   "metadata": {},
   "source": [
    "We will see how to handle this kind of error later.\n",
    "\n",
    "\n",
    "### 5.12 Debugging\n",
    "\n",
    "When a syntax or runtime error occurs, the error message contains a lot of information, but\n",
    "it can be overwhelming. The most useful parts are usually:\n",
    "\n",
    "• What kind of error it was, and\n",
    "\n",
    "• Where it occurred.\n",
    "\n",
    "Syntax errors are usually easy to find, but there are a few gotchas. Whitespace errors can\n",
    "be tricky because spaces and tabs are invisible and we are used to ignoring them."
   ]
  },
  {
   "cell_type": "code",
   "execution_count": null,
   "metadata": {},
   "outputs": [],
   "source": [
    "x = 5\n",
    " y = 6"
   ]
  },
  {
   "cell_type": "markdown",
   "metadata": {},
   "source": [
    "In this example, the problem is that the second line is indented by one space. But the error\n",
    "message points to y, which is misleading. In general, error messages indicate where the\n",
    "problem was discovered, but the actual error might be earlier in the code, sometimes on a\n",
    "previous line.\n",
    "\n",
    "The same is true of runtime errors. Suppose you are trying to compute a signal-to-noise\n",
    "ratio in decibels. The formula is SNRdb = 10 log10(Psignal/Pnoise). In Python, you might\n",
    "write something like this:"
   ]
  },
  {
   "cell_type": "code",
   "execution_count": null,
   "metadata": {},
   "outputs": [],
   "source": [
    "import math\n",
    "signal_power = 9\n",
    "noise_power = 10\n",
    "ratio = signal_power / noise_power\n",
    "decibels = 10 * math.log10(ratio)\n",
    "print(decibels)"
   ]
  },
  {
   "cell_type": "markdown",
   "metadata": {},
   "source": [
    "The error message indicates line 5, but there is nothing wrong with that line. To find the\n",
    "real error, it might be useful to print the value of ratio, which turns out to be 0. The\n",
    "problem is in line 4, which uses floor division instead of floating-point division.\n",
    "\n",
    "You should take the time to read error messages carefully, but don’t assume that everything\n",
    "they say is correct.\n",
    "\n",
    "\n",
    "### 5.13 Glossary\n",
    "\n",
    "__floor division:__ An operator, denoted //, that divides two numbers and rounds down (toward\n",
    "negative infinity) to an integer.\n",
    "\n",
    "__modulus operator:__ An operator, denoted with a percent sign (%), that works on integers\n",
    "and returns the remainder when one number is divided by another.\n",
    "\n",
    "__boolean expression:__ An expression whose value is either True or False.\n",
    "\n",
    "__relational operator:__ One of the operators that compares its operands: ==, !=, >, <, >=, and\n",
    "<=.\n",
    "\n",
    "__logical operator:__ One of the operators that combines boolean expressions: and, or, and\n",
    "not.\n",
    "\n",
    "__conditional statement:__ A statement that controls the flow of execution depending on some\n",
    "condition.\n",
    "\n",
    "__condition:__ The boolean expression in a conditional statement that determines which\n",
    "branch runs.\n",
    "\n",
    "__compound statement:__ A statement that consists of a header and a body. The header ends\n",
    "with a colon (:). The body is indented relative to the header.\n",
    "\n",
    "__branch:__ One of the alternative sequences of statements in a conditional statement.\n",
    "chained conditional: A conditional statement with a series of alternative branches.\n",
    "nested conditional: A conditional statement that appears in one of the branches of another\n",
    "conditional statement.\n",
    "\n",
    "__return statement:__ A statement that causes a function to end immediately and return to the\n",
    "caller.\n",
    "\n",
    "__recursion:__ The process of calling the function that is currently executing.\n",
    "\n",
    "__base case:__ A conditional branch in a recursive function that does not make a recursive call.\n",
    "infinite recursion: A recursion that doesn’t have a base case, or never reaches it. Eventually,\n",
    "an infinite recursion causes a runtime error.\n",
    "\n",
    "\n",
    "### 5.14 Exercises\n",
    "\n",
    "#### Exercise 5.1. \n",
    "The time module provides a function, also named time, that returns the current\n",
    "Greenwich Mean Time in “the epoch”, which is an arbitrary time used as a reference point. On\n",
    "UNIX systems, the epoch is 1 January 1970."
   ]
  },
  {
   "cell_type": "code",
   "execution_count": null,
   "metadata": {},
   "outputs": [],
   "source": [
    "import time\n",
    "time.time()"
   ]
  },
  {
   "cell_type": "markdown",
   "metadata": {},
   "source": [
    "Write a cell that reads the current time and converts it to a time of day in hours, minutes, and\n",
    "seconds, plus the number of days since the epoch."
   ]
  },
  {
   "cell_type": "code",
   "execution_count": null,
   "metadata": {},
   "outputs": [],
   "source": []
  },
  {
   "cell_type": "markdown",
   "metadata": {},
   "source": [
    "#### Exercise 5.2. \n",
    "Fermat’s Last Theorem says that there are no positive integers a, b, and c such that\n",
    "\n",
    "$$a^n + b^n = c^n$$\n",
    "\n",
    "for any values of n greater than 2.\n",
    "\n",
    "1. Write a function named check_fermat that takes four parameters—a, b, c and n—and\n",
    "checks to see if Fermat’s theorem holds. If n is greater than 2 and\n",
    "\n",
    "$$a^n + b^n = c^n$$\n",
    "\n",
    "the program should print, “Holy smokes, Fermat was wrong!” Otherwise the program should\n",
    "print, “No, that doesn’t work.”\n",
    "\n",
    "2. Write a function that prompts the user to input values for a, b, c and n, converts them to\n",
    "integers, and uses check_fermat to check whether they violate Fermat’s theorem."
   ]
  },
  {
   "cell_type": "code",
   "execution_count": null,
   "metadata": {},
   "outputs": [],
   "source": []
  },
  {
   "cell_type": "code",
   "execution_count": null,
   "metadata": {},
   "outputs": [],
   "source": []
  },
  {
   "cell_type": "markdown",
   "metadata": {},
   "source": [
    "#### Exercise 5.3. \n",
    "If you are given three sticks, you may or may not be able to arrange them in a triangle.\n",
    "For example, if one of the sticks is 12 inches long and the other two are one inch long, you will not\n",
    "be able to get the short sticks to meet in the middle. For any three lengths, there is a simple test to\n",
    "see if it is possible to form a triangle:\n",
    "\n",
    "If any of the three lengths is greater than the sum of the other two, then you cannot\n",
    "form a triangle. Otherwise, you can. (If the sum of two lengths equals the third, they\n",
    "form what is called a “degenerate” triangle.)\n",
    "\n",
    "1. Write a function named is_triangle that takes three integers as arguments, and that prints\n",
    "either “Yes” or “No”, depending on whether you can or cannot form a triangle from sticks\n",
    "with the given lengths.<br><br>\n",
    "\n",
    "2. Write a function that prompts the user to input three stick lengths, converts them to integers,"
   ]
  },
  {
   "cell_type": "code",
   "execution_count": null,
   "metadata": {},
   "outputs": [],
   "source": []
  },
  {
   "cell_type": "code",
   "execution_count": null,
   "metadata": {},
   "outputs": [],
   "source": []
  },
  {
   "cell_type": "markdown",
   "metadata": {},
   "source": [
    "#### Exercise 5.4. \n",
    "What is the output of the following program? Draw a stack diagram that shows the\n",
    "state of the program when it prints the result."
   ]
  },
  {
   "cell_type": "code",
   "execution_count": null,
   "metadata": {},
   "outputs": [],
   "source": [
    "def recurse(n, s):\n",
    "    if n == 0:\n",
    "        print(s)\n",
    "    else:\n",
    "        recurse(n-1, n+s)\n",
    "\n",
    "recurse(3, 0)"
   ]
  },
  {
   "cell_type": "markdown",
   "metadata": {},
   "source": [
    "1. What would happen if you called this function like this: recurse(-1, 0)?\n",
    "    \n",
    "2. Write a docstring that explains everything someone would need to know in order to use this\n",
    "function (and nothing else).\n",
    "\n",
    "The following exercises use the turtle module, described in Chapter 4:\n",
    "    \n",
    "#### Exercise 5.5.\n",
    "read the following function and see if you can figure out what it does (see the examples\n",
    "in Chapter 4). Then run it and see if you got it right.\n",
    "\n"
   ]
  },
  {
   "cell_type": "code",
   "execution_count": null,
   "metadata": {},
   "outputs": [],
   "source": [
    "import turtle\n",
    " \n",
    "def draw(t, length, n):\n",
    "    if n == 0:\n",
    "        return\n",
    "    angle = 50\n",
    "    t.fd(length*n)\n",
    "    t.lt(angle)\n",
    "    draw(t, length, n-1)\n",
    "    t.rt(2*angle)\n",
    "    draw(t, length, n-1)\n",
    "    t.lt(angle)\n",
    "    t.bk(length*n)\n",
    "\n",
    "myrtel = turtle.Turtle()\n",
    "\n",
    "draw(myrtel, 3, 6)\n",
    "\n",
    "turtle.mainloop()"
   ]
  },
  {
   "cell_type": "markdown",
   "metadata": {},
   "source": [
    "#### Exercise 5.6. \n",
    "The Koch curve is a fractal that looks something like Figure 5.2 in the PDF version of the book. To draw a Koch\n",
    "curve with length x, all you have to do is\n",
    "\n",
    "1. Draw a Koch curve with length x/3.\n",
    "<br><br>\n",
    "2. Turn left 60 degrees.\n",
    "<br><br>\n",
    "3. Draw a Koch curve with length x/3.\n",
    "<br><br>\n",
    "4. Turn right 120 degrees.\n",
    "<br><br>\n",
    "5. Draw a Koch curve with length x/3.<br><br>\n",
    "6. Turn left 60 degrees.\n",
    "<br><br>\n",
    "7. Draw a Koch curve with length x/3.\n",
    "\n",
    "The exception is if x is less than 3: in that case, you can just draw a straight line with length x.\n",
    "\n",
    "1. Write a function called koch that takes a turtle and a length as parameters, and that uses the\n",
    "turtle to draw a Koch curve with the given length.<br><br>\n",
    "\n",
    "2. Write a function called snowflake that draws three Koch curves to make the outline of a\n",
    "snowflake.\n",
    "<br><br>\n",
    "Solution: http://thinkpython2.com/code/koch.py .<br><br>\n",
    "\n",
    "3. The Koch curve can be generalized in several ways. See http://en.wikipedia.org/wiki/Koch_snowflake for examples and implement your favorite.<br><br>"
   ]
  },
  {
   "cell_type": "code",
   "execution_count": null,
   "metadata": {},
   "outputs": [],
   "source": []
  },
  {
   "cell_type": "markdown",
   "metadata": {},
   "source": [
    "Source material from:\n",
    "\n",
    "Think Python<br>\n",
    "How to Think Like a Computer Scientist<br>\n",
    "2nd Edition, Version 2.2.23<br>\n",
    "Allen Downey<br>\n",
    "Copyright © 2015 Allen Downey. <br>\n",
    "\n",
    "Source material used under the Creative Commons Attribution-NonCommercial 3.0 Unported License. To view a copy of this license, visit http://creativecommons.org/licenses/by-nc/3.0/ or send a letter to Creative Commons, PO Box 1866, Mountain View, CA 94042, USA.\n",
    "\n",
    "<br>\n",
    "Adapted to Jupyter Notebooks with additional material by Warren Watts, Copyright © 2018"
   ]
  }
 ],
 "metadata": {
  "kernelspec": {
   "display_name": "Python 3",
   "language": "python",
   "name": "python3"
  },
  "language_info": {
   "codemirror_mode": {
    "name": "ipython",
    "version": 3
   },
   "file_extension": ".py",
   "mimetype": "text/x-python",
   "name": "python",
   "nbconvert_exporter": "python",
   "pygments_lexer": "ipython3",
   "version": "3.7.0"
  }
 },
 "nbformat": 4,
 "nbformat_minor": 2
}
