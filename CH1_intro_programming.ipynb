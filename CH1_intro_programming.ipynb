{
 "cells": [
  {
   "cell_type": "markdown",
   "metadata": {},
   "source": [
    "This work is licensed under the Creative Commons Attribution-NonCommercial 3.0 Unported License. To view a copy of this license, visit http://creativecommons.org/licenses/by-nc/3.0/ or send a letter to Creative Commons, PO Box 1866, Mountain View, CA 94042, USA."
   ]
  },
  {
   "cell_type": "markdown",
   "metadata": {},
   "source": [
    "#  The way of the program\n",
    "\n",
    "The goal of this class is to teach you to think like a computer scientist. This way of thinking combines some of the best features of mathematics, engineering, and natural science. Like mathematicians, computer scientists use formal languages to denote ideas (specifically computations). Like engineers, they design things, assembling components into systems and evaluating tradeoffs among alternatives. Like scientists, they observe the behavior of complex systems, form hypotheses, and test predictions.\n",
    "\n",
    "The single most important skill for a computer scientist is problem solving. Problem solving means the ability to formulate problems, think creatively about solutions, and express a solution clearly and accurately. As it turns out, the process of learning to program is an excellent opportunity to practice problem-solving skills. That’s why this chapter is called, “The way of the program”.\n",
    "\n",
    "On one level, you will be learning to program, a useful skill by itself. On another level, you will use programming as a means to an end. As we go along, that end will become clearer.\n",
    "\n",
    "\n",
    "## 1.1 What is a program?\n",
    "\n",
    "A program is a sequence of instructions that specifies how to perform a computation. The computation might be something mathematical, such as solving a system of equations or finding the roots of a polynomial, but it can also be a symbolic computation, such as searching and replacing text in a document or something graphical, like processing an image or\n",
    "playing a video.\n",
    "\n",
    "The details look different in different languages, but a few basic instructions appear in just about every language:\n",
    "    \n",
    "<b>input:</b> Get data from the keyboard, a file, the network, or some other device.\n",
    "\n",
    "<b>output:</b> Display data on the screen, save it in a file, send it over the network, etc.\n",
    "\n",
    "<b>math:</b> Perform basic mathematical operations like addition and multiplication.\n",
    "\n",
    "<b>conditional execution:</b> Check for certain conditions and run the appropriate code.\n",
    "\n",
    "<b>repetition:</b> Perform some action repeatedly, usually with some variation.\n",
    "    \n",
    "Believe it or not, that’s pretty much all there is to it. Every program you’ve ever used, no matter how complicated, is made up of instructions that look pretty much like these. So you can think of programming as the process of breaking a large, complex task into smaller and smaller subtasks until the subtasks are simple enough to be performed with one of these basic instructions.\n",
    "\n",
    "\n",
    "## 1.2 Running Python\n",
    "\n",
    "If you are viewing this notebook you are already in an environment to run Python. Another option in the Anaconda package is the Spyder IDE. You can also install Python and run it using the Python interpreter directly with command lines, but you will need to edit Python scripts in an seperate editor. It's a lot easier to use Jupyter Notebooks or Spyder IDE. The Spyder IDE provides some tools for debugging that aren't present in Jupyter Notebooks. IDE stands for Integrated Development Environment. IDEs are useful for debugging complex code.\n",
    "\n",
    "There are two versions of Python, called Python 2 and Python 3. They are very similar, so if you learn one, it is easy to switch to the other. In fact, there are only a few differences you will encounter as a beginner. We will be using Python 3, but there will be some notes about Python 2.\n",
    "\n",
    "Jupyter Notebooks allow you to have your code in cells, so that you can execute one piece of code at a time. There are different types of cells in notebooks, this is a markdown cell, which allows some text formatting, but can't run code. A code cell is where you can run code, the next cell is a code cell. You can run a code cell by either clicking the <b>Run</b> button at the top of the notebook page or clicking the arrow beside the cell. You will have to put your mouse over the cell to see its arrow.\n",
    "\n",
    "\n",
    "## 1.3 The first program\n",
    "Traditionally, the first program you write in a new language is called “Hello, World!” because\n",
    "all it does is display the words “Hello, World!”. In Python, it looks like this:"
   ]
  },
  {
   "cell_type": "code",
   "execution_count": null,
   "metadata": {},
   "outputs": [],
   "source": [
    "print('Hello, World!')"
   ]
  },
  {
   "cell_type": "markdown",
   "metadata": {},
   "source": [
    "This is an example of a print statement, although it doesn’t actually print anything on paper. It displays a result on the screen. In this case, the result is the words \n",
    "\n",
    "Hello, World!\n",
    "\n",
    "The quotation marks in the program mark the beginning and end of the text to be displayed; they don’t appear in the result.\n",
    "\n",
    "The parentheses indicate that print is a function. We’ll get to functions in Chapter 3.\n",
    "\n",
    "In Python 2, the print statement is slightly different; it is not a function, so it doesn’t use parentheses. In Python 2 a print statement would look like this:\n",
    "\n",
    "print 'Hello, World!'\n",
    "\n",
    "This distinction will make more sense soon, but that’s enough to get started.\n",
    "\n",
    "\n",
    "## 1.4 Arithmetic operators\n",
    "\n",
    "After “Hello, World”, the next step is arithmetic. Python provides operators, which are special symbols that represent computations like addition and multiplication.\n",
    "\n",
    "The operators +, -, and * perform addition, subtraction, and multiplication, as in the following examples:\n"
   ]
  },
  {
   "cell_type": "code",
   "execution_count": null,
   "metadata": {},
   "outputs": [],
   "source": [
    "40 + 2"
   ]
  },
  {
   "cell_type": "code",
   "execution_count": null,
   "metadata": {},
   "outputs": [],
   "source": [
    "43 - 1"
   ]
  },
  {
   "cell_type": "code",
   "execution_count": null,
   "metadata": {},
   "outputs": [],
   "source": [
    "6 * 7"
   ]
  },
  {
   "cell_type": "markdown",
   "metadata": {},
   "source": [
    "The operator / performs division:"
   ]
  },
  {
   "cell_type": "code",
   "execution_count": null,
   "metadata": {},
   "outputs": [],
   "source": [
    "84 / 2"
   ]
  },
  {
   "cell_type": "markdown",
   "metadata": {},
   "source": [
    "You might wonder why the result is 42.0 instead of 42. We’ll explain in the next section.\n",
    "\n",
    "Finally, the operator ** performs exponentiation; that is, it raises a number to a power:"
   ]
  },
  {
   "cell_type": "code",
   "execution_count": null,
   "metadata": {},
   "outputs": [],
   "source": [
    "6**2 + 6"
   ]
  },
  {
   "cell_type": "markdown",
   "metadata": {},
   "source": [
    "In some other languages, ^ is used for exponentiation, but in Python it is a bitwise operator called XOR. If you are not familiar with bitwise operators, the result will surprise you:"
   ]
  },
  {
   "cell_type": "code",
   "execution_count": null,
   "metadata": {},
   "outputs": [],
   "source": [
    "6 ^ 2"
   ]
  },
  {
   "cell_type": "markdown",
   "metadata": {},
   "source": [
    "We won’t cover bitwise operators in this class, but you can read about them at http://wiki.\n",
    "python.org/moin/BitwiseOperators.\n",
    "\n",
    "\n",
    "## 1.5 Values and types\n",
    "\n",
    "A value is one of the basic things a program works with, like a letter or a number. Some values we have seen so far are 2, 42.0, and 'Hello, World!'.\n",
    "\n",
    "These values belong to different types: 2 is an <b>integer</b>, 42.0 is a <b>floating-point number</b>, and 'Hello, World!' is a <b>string</b>, so-called because the letters it contains are strung together.\n",
    "\n",
    "If you are not sure what type a value has, the interpreter can tell you:"
   ]
  },
  {
   "cell_type": "code",
   "execution_count": null,
   "metadata": {},
   "outputs": [],
   "source": [
    "type(2)"
   ]
  },
  {
   "cell_type": "code",
   "execution_count": null,
   "metadata": {},
   "outputs": [],
   "source": [
    "type(42.0)"
   ]
  },
  {
   "cell_type": "code",
   "execution_count": null,
   "metadata": {},
   "outputs": [],
   "source": [
    "type('Hello, World!')"
   ]
  },
  {
   "cell_type": "markdown",
   "metadata": {},
   "source": [
    "In these results, the word “class” is used in the sense of a category; a type is a category of values.\n",
    "\n",
    "Not surprisingly, integers belong to the type int, strings belong to str and floating-point numbers belong to float.\n",
    "\n",
    "What about values like '2' and '42.0'? They look like numbers, but they are in quotation marks like strings."
   ]
  },
  {
   "cell_type": "code",
   "execution_count": null,
   "metadata": {},
   "outputs": [],
   "source": [
    "type('2')"
   ]
  },
  {
   "cell_type": "code",
   "execution_count": null,
   "metadata": {},
   "outputs": [],
   "source": [
    "type('42.0')"
   ]
  },
  {
   "cell_type": "markdown",
   "metadata": {},
   "source": [
    "They’re strings.\n",
    "\n",
    "When you type a large integer, you might be tempted to use commas between groups of digits, as in 1,000,000. This is not a legal integer in Python, but it is legal:"
   ]
  },
  {
   "cell_type": "code",
   "execution_count": null,
   "metadata": {},
   "outputs": [],
   "source": [
    "1,000,000"
   ]
  },
  {
   "cell_type": "markdown",
   "metadata": {},
   "source": [
    "That’s not what we expected at all! Python interprets 1,000,000 as a comma-separated sequence of integers. We’ll learn more about this kind of sequence later.\n",
    "\n",
    "\n",
    "## 1.6 Formal and natural languages\n",
    "\n",
    "<b>Natural languages</b> are the languages people speak, such as English, Spanish, and French. They were not designed by people (although people try to impose some order on them); they evolved naturally.\n",
    "\n",
    "<b>Formal languages</b> are languages that are designed by people for specific applications. For example, the notation that mathematicians use is a formal language that is particularly good at denoting relationships among numbers and symbols. Chemists use a formal language to represent the chemical structure of molecules. And most importantly:\n",
    "\n",
    "   <b>Programming languages are formal languages that have been designed to express computations.</b>\n",
    "    \n",
    "Formal languages tend to have strict syntax rules that govern the structure of statements. For example, in mathematics the statement 3 + 3 = 6 has correct syntax, but 3+ = 3$6 does not. In chemistry H2O is a syntactically correct formula, but 2Zz is not.\n",
    "\n",
    "Syntax rules come in two flavors, pertaining to tokens and structure. Tokens are the basic elements of the language, such as words, numbers, and chemical elements. One of the problems with 3+ = 3$6 is that $ is not a legal token in mathematics. Similarly, 2Zz is not legal because there is no element with the abbreviation Zz.\n",
    "\n",
    "The second type of syntax rule pertains to the way tokens are combined. The equation 3+ = 3 is illegal because even though + and = are legal tokens, you can’t have one right after the other. Similarly, in a chemical formula the subscript comes after the element name, not before.\n",
    "\n",
    "This is @ well-structured Engli$h sentence with invalid t*kens in it. This sentence all valid tokens has, but invalid structure with.\n",
    "\n",
    "When you read a sentence in English or a statement in a formal language, you have to figure out the structure (although in a natural language you do this subconsciously). This process is called <b>parsing</b>.\n",
    "\n",
    "Although formal and natural languages have many features in common—tokens, structure, and syntax—there are some differences:\n",
    "\n",
    "<b>ambiguity:</b> Natural languages are full of ambiguity, which people deal with by using contextual clues and other information. Formal languages are designed to be nearly or completely unambiguous, which means that any statement has exactly one meaning, regardless of context.\n",
    "\n",
    "<b>redundancy:</b> In order to make up for ambiguity and reduce misunderstandings, natural languages employ lots of redundancy. As a result, they are often verbose. Formal languages are less redundant and more concise.\n",
    "\n",
    "<b>literalness:</b> Natural languages are full of idiom and metaphor. If I say, “The penny dropped”, there is probably no penny and nothing dropping (this idiom means that someone understood something after a period of confusion). Formal languages mean\n",
    "exactly what they say.\n",
    "\n",
    "Because we all grow up speaking natural languages, it is sometimes hard to adjust to formal languages. The difference between formal and natural language is like the difference between poetry and prose, but more so:\n",
    "\n",
    "<b>Poetry:</b> Words are used for their sounds as well as for their meaning, and the whole poem together creates an effect or emotional response. Ambiguity is not only common but often deliberate.\n",
    "\n",
    "<b>Prose:</b> The literal meaning of words is more important, and the structure contributes more meaning. Prose is more amenable to analysis than poetry but still often ambiguous.\n",
    "\n",
    "<b>Programs:</b> The meaning of a computer program is unambiguous and literal, and can be understood entirely by analysis of the tokens and structure.\n",
    "\n",
    "Formal languages are more dense than natural languages, so it takes longer to read them. Also, the structure is important, so it is not always best to read from top to bottom, left to right. Instead, learn to parse the program in your head, identifying the tokens and interpreting the structure. Finally, the details matter. Small errors in spelling and punctuation, which you can get away with in natural languages, can make a big difference in a formal language.\n",
    "\n",
    "\n",
    "## 1.7 Debugging\n",
    "\n",
    "Programmers make mistakes. For whimsical reasons, programming errors are called bugs and the process of tracking them down is called debugging.\n",
    "\n",
    "Programming, and especially debugging, sometimes brings out strong emotions. If you are struggling with a difficult bug, you might feel angry, despondent, or embarrassed.\n",
    "\n",
    "There is evidence that people naturally respond to computers as if they were people. When they work well, we think of them as teammates, and when they are obstinate or rude, we respond to them the same way we respond to rude, obstinate people (Reeves and Nass, <i>The Media Equation: How People Treat Computers, Television, and New Media Like Real People\n",
    "and Places</i>).\n",
    "\n",
    "Preparing for these reactions might help you deal with them. One approach is to think of the computer as an employee with certain strengths, like speed and precision, and particular weaknesses, like lack of empathy and inability to grasp the big picture.\n",
    "\n",
    "Your job is to be a good manager: find ways to take advantage of the strengths and mitigate the weaknesses. And find ways to use your emotions to engage with the problem, without letting your reactions interfere with your ability to work effectively.\n",
    "\n",
    "Learning to debug can be frustrating, but it is a valuable skill that is useful for many activities beyond programming. At the end of each chapter there is a section, like this one, with suggestions for debugging. Hope they help!\n",
    "\n",
    "\n",
    "## 1.8 Glossary\n",
    "\n",
    "<b>problem solving:</b> The process of formulating a problem, finding a solution, and expressing it.\n",
    "\n",
    "<b>high-level language:</b> A programming language like Python that is designed to be easy for humans to read and write.\n",
    "\n",
    "<b>low-level language:</b> A programming language that is designed to be easy for a computer to run; also called “machine language” or “assembly language”.\n",
    "\n",
    "<b>portability:</b> A property of a program that can run on more than one kind of computer.\n",
    "\n",
    "<b>interpreter:</b> A program that reads another program and executes it.\n",
    "\n",
    "<b>prompt:</b> Characters displayed by the interpreter to indicate that it is ready to take input\n",
    "from the user.\n",
    "\n",
    "<b>program:</b> A set of instructions that specifies a computation.\n",
    "\n",
    "<b>print statement:</b> An instruction that causes the Python interpreter to display a value on the screen.\n",
    "\n",
    "<b>operator:</b> A special symbol that represents a simple computation like addition, multiplication, or string concatenation.\n",
    "\n",
    "<b>value:</b> One of the basic units of data, like a number or string, that a program manipulates.\n",
    "\n",
    "<b>type:</b> A category of values. The types we have seen so far are integers (type int), floating-point numbers (type float), and strings (type str).\n",
    "\n",
    "<b>integer:</b> A type that represents whole numbers.\n",
    "\n",
    "<b>floating-point:</b> A type that represents numbers with fractional parts.\n",
    "\n",
    "<b>string:</b> A type that represents sequences of characters.\n",
    "\n",
    "<b>natural language:</b> Any one of the languages that people speak that evolved naturally.\n",
    "\n",
    "<b>formal language:</b> Any one of the languages that people have designed for specific purposes, such as representing mathematical ideas or computer programs; all programming languages are formal languages.\n",
    "\n",
    "<b>token:</b> One of the basic elements of the syntactic structure of a program, analogous to a word in a natural language.\n",
    "\n",
    "<b>syntax:</b> The rules that govern the structure of a program.\n",
    "\n",
    "<b>parse:</b> To examine a program and analyze the syntactic structure.\n",
    "\n",
    "<b>bug:</b> An error in a program.\n",
    "\n",
    "<b>debugging:</b> The process of finding and correcting bugs.\n",
    "\n",
    "\n",
    "## 1.9 Exercises\n",
    "\n",
    "#### Exercise 1.1.  Making Mistakes\n",
    "\n",
    "Whenever you are experimenting with a new feature, you should try to make mistakes. For example, in the “Hello, world!” program, what happens if you leave out one of the quotation marks? What if you leave out both? What if you spell print wrong?\n",
    "\n",
    "This kind of experiment helps you remember what you read; it also helps when you are programming, because you get to know what the error messages mean. It is better to make mistakes now and on purpose than later and accidentally.\n",
    "\n",
    "1. In a print statement, what happens if you leave out one of the parentheses, or both?\n",
    "\n",
    "2. If you are trying to print a string, what happens if you leave out one of the quotation marks, or both?\n",
    "\n",
    "3. You can use a minus sign to make a negative number like -2. What happens if you put a plus sign before a number? What about 2++2?\n",
    "\n",
    "4. In math notation, leading zeros are ok, as in 02. What happens if you try this in Python?\n",
    "\n",
    "5. What happens if you have two values with no operator between them?\n",
    "\n",
    "Try these in the cells below"
   ]
  },
  {
   "cell_type": "code",
   "execution_count": null,
   "metadata": {},
   "outputs": [],
   "source": []
  },
  {
   "cell_type": "code",
   "execution_count": null,
   "metadata": {},
   "outputs": [],
   "source": []
  },
  {
   "cell_type": "code",
   "execution_count": null,
   "metadata": {},
   "outputs": [],
   "source": []
  },
  {
   "cell_type": "code",
   "execution_count": null,
   "metadata": {},
   "outputs": [],
   "source": []
  },
  {
   "cell_type": "code",
   "execution_count": null,
   "metadata": {},
   "outputs": [],
   "source": []
  },
  {
   "cell_type": "markdown",
   "metadata": {},
   "source": [
    "#### Exercise 1.2.  Using Python as a calculator\n",
    "\n",
    "1. How many seconds are there in 42 minutes 42 seconds?\n",
    "\n",
    "2. How many miles are there in 10 kilometers? Hint: there are 1.61 kilometers in a mile.\n",
    "\n",
    "3. If you run a 10 kilometer race in 42 minutes 42 seconds, what is your average pace (time per mile in minutes and seconds)? What is your average speed in miles per hour?\n",
    "\n",
    "Try these in the cells below"
   ]
  },
  {
   "cell_type": "code",
   "execution_count": null,
   "metadata": {},
   "outputs": [],
   "source": []
  },
  {
   "cell_type": "code",
   "execution_count": null,
   "metadata": {},
   "outputs": [],
   "source": []
  },
  {
   "cell_type": "code",
   "execution_count": null,
   "metadata": {},
   "outputs": [],
   "source": []
  },
  {
   "cell_type": "markdown",
   "metadata": {},
   "source": [
    "Source material from:\n",
    "\n",
    "Think Python<br>\n",
    "How to Think Like a Computer Scientist<br>\n",
    "2nd Edition, Version 2.2.23<br>\n",
    "Allen Downey<br>\n",
    "Copyright © 2015 Allen Downey. <br>\n",
    "<br>\n",
    "Source material used under the Creative Commons Attribution-NonCommercial 3.0 Unported License. To view a copy of this license, visit http://creativecommons.org/licenses/by-nc/3.0/ or send a letter to Creative Commons, PO Box 1866, Mountain View, CA 94042, USA.\n",
    "\n",
    "\n",
    "Adapted to Jupyter Notebooks with additional material by Warren Watts, Copyright © 2018"
   ]
  }
 ],
 "metadata": {
  "kernelspec": {
   "display_name": "Python 3",
   "language": "python",
   "name": "python3"
  },
  "language_info": {
   "codemirror_mode": {
    "name": "ipython",
    "version": 3
   },
   "file_extension": ".py",
   "mimetype": "text/x-python",
   "name": "python",
   "nbconvert_exporter": "python",
   "pygments_lexer": "ipython3",
   "version": "3.7.0"
  }
 },
 "nbformat": 4,
 "nbformat_minor": 2
}
