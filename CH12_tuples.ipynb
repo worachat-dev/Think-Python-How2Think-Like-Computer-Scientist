{
 "cells": [
  {
   "cell_type": "markdown",
   "metadata": {},
   "source": [
    "This work is licensed under the Creative Commons Attribution-NonCommercial 3.0 Unported License. To view a copy of this license, visit http://creativecommons.org/licenses/by-nc/3.0/ or send a letter to Creative Commons, PO Box 1866, Mountain View, CA 94042, USA."
   ]
  },
  {
   "cell_type": "markdown",
   "metadata": {},
   "source": [
    "# Tuples\n",
    "\n",
    "This chapter presents one more built-in type, the tuple, and then shows how lists, dictionaries,\n",
    "and tuples work together. Also presented is a useful feature for variable-length argument\n",
    "lists, the gather and scatter operators.\n",
    "\n",
    "One note: there is no consensus on how to pronounce “tuple”. Some people say “tuhple”,\n",
    "which rhymes with “supple”. But in the context of programming, most people say\n",
    "“too-ple”, which rhymes with “quadruple”.\n",
    "\n",
    "\n",
    "### 12.1 Tuples are immutable\n",
    "\n",
    "A tuple is a sequence of values. The values can be any type, and they are indexed by\n",
    "integers, so in that respect tuples are a lot like lists. The important difference is that tuples\n",
    "are immutable.\n",
    "\n",
    "Syntactically, a tuple is a comma-separated list of values:"
   ]
  },
  {
   "cell_type": "code",
   "execution_count": null,
   "metadata": {},
   "outputs": [],
   "source": [
    "t = 'a', 'b', 'c', 'd', 'e'\n",
    "type(t)"
   ]
  },
  {
   "cell_type": "markdown",
   "metadata": {},
   "source": [
    "Although it is not necessary, it is common to enclose tuples in parentheses:"
   ]
  },
  {
   "cell_type": "code",
   "execution_count": null,
   "metadata": {},
   "outputs": [],
   "source": [
    "t = ('a', 'b', 'c', 'd', 'e')\n",
    "type(t)"
   ]
  },
  {
   "cell_type": "markdown",
   "metadata": {},
   "source": [
    "To create a tuple with a single element, you have to include a final comma:"
   ]
  },
  {
   "cell_type": "code",
   "execution_count": null,
   "metadata": {},
   "outputs": [],
   "source": [
    "t1 = 'a',\n",
    "type(t1)"
   ]
  },
  {
   "cell_type": "markdown",
   "metadata": {},
   "source": [
    "A value in parentheses is not a tuple:"
   ]
  },
  {
   "cell_type": "code",
   "execution_count": null,
   "metadata": {},
   "outputs": [],
   "source": [
    "t2 = ('a')\n",
    "type(t2)"
   ]
  },
  {
   "cell_type": "markdown",
   "metadata": {},
   "source": [
    "Another way to create a tuple is the built-in function tuple. With no argument, it creates\n",
    "an empty tuple:"
   ]
  },
  {
   "cell_type": "code",
   "execution_count": null,
   "metadata": {},
   "outputs": [],
   "source": [
    "t = tuple()\n",
    "t"
   ]
  },
  {
   "cell_type": "markdown",
   "metadata": {},
   "source": [
    "If the argument is a sequence (string, list or tuple), the result is a tuple with the elements of\n",
    "the sequence:"
   ]
  },
  {
   "cell_type": "code",
   "execution_count": null,
   "metadata": {},
   "outputs": [],
   "source": [
    "t = tuple('lupins')\n",
    "t"
   ]
  },
  {
   "cell_type": "markdown",
   "metadata": {},
   "source": [
    "Because tuple is the name of a built-in function, you should avoid using it as a variable\n",
    "name.\n",
    "\n",
    "Most list operators also work on tuples. The bracket operator indexes an element:"
   ]
  },
  {
   "cell_type": "code",
   "execution_count": null,
   "metadata": {},
   "outputs": [],
   "source": [
    "t = ('a', 'b', 'c', 'd', 'e')\n",
    "t[0]"
   ]
  },
  {
   "cell_type": "markdown",
   "metadata": {},
   "source": [
    "And the slice operator selects a range of elements."
   ]
  },
  {
   "cell_type": "code",
   "execution_count": null,
   "metadata": {},
   "outputs": [],
   "source": [
    "t[1:3]"
   ]
  },
  {
   "cell_type": "markdown",
   "metadata": {},
   "source": [
    "But if you try to modify one of the elements of the tuple, you get an error:"
   ]
  },
  {
   "cell_type": "code",
   "execution_count": null,
   "metadata": {},
   "outputs": [],
   "source": [
    "t[0] = 'A'"
   ]
  },
  {
   "cell_type": "markdown",
   "metadata": {},
   "source": [
    "Because tuples are immutable, you can’t modify the elements. But you can replace one\n",
    "tuple with another:"
   ]
  },
  {
   "cell_type": "code",
   "execution_count": null,
   "metadata": {},
   "outputs": [],
   "source": [
    "t = ('A',) + t[1:]\n",
    "t"
   ]
  },
  {
   "cell_type": "markdown",
   "metadata": {},
   "source": [
    "This statement makes a new tuple and then makes t refer to it.\n",
    "\n",
    "The relational operators work with tuples and other sequences; Python starts by comparing\n",
    "the first element from each sequence. If they are equal, it goes on to the next elements, and\n",
    "so on, until it finds elements that differ. Subsequent elements are not considered (even if\n",
    "they are really big)."
   ]
  },
  {
   "cell_type": "code",
   "execution_count": null,
   "metadata": {},
   "outputs": [],
   "source": [
    "(0, 1, 2) < (0, 3, 4)"
   ]
  },
  {
   "cell_type": "code",
   "execution_count": null,
   "metadata": {
    "scrolled": true
   },
   "outputs": [],
   "source": [
    "(0, 1, 2000000) < (0, 3, 4)"
   ]
  },
  {
   "cell_type": "markdown",
   "metadata": {},
   "source": [
    "### 12.2 Tuple assignment\n",
    "\n",
    "It is often useful to swap the values of two variables. With conventional assignments, you\n",
    "have to use a temporary variable. For example, to swap a and b:"
   ]
  },
  {
   "cell_type": "code",
   "execution_count": null,
   "metadata": {},
   "outputs": [],
   "source": [
    "a = 20\n",
    "b =5\n",
    "print((a,b))\n",
    "temp = a\n",
    "a = b\n",
    "b = temp\n",
    "(a, b)"
   ]
  },
  {
   "cell_type": "markdown",
   "metadata": {},
   "source": [
    "This solution is cumbersome; **tuple assignment** is more elegant:"
   ]
  },
  {
   "cell_type": "code",
   "execution_count": null,
   "metadata": {},
   "outputs": [],
   "source": [
    "a, b = b, a\n",
    "(a, b)"
   ]
  },
  {
   "cell_type": "markdown",
   "metadata": {},
   "source": [
    "The left side is a tuple of variables; the right side is a tuple of expressions. Each value\n",
    "is assigned to its respective variable. All the expressions on the right side are evaluated\n",
    "before any of the assignments.\n",
    "\n",
    "The number of variables on the left and the number of values on the right have to be the\n",
    "same:"
   ]
  },
  {
   "cell_type": "code",
   "execution_count": null,
   "metadata": {},
   "outputs": [],
   "source": [
    "a, b = 1, 2, 3"
   ]
  },
  {
   "cell_type": "markdown",
   "metadata": {},
   "source": [
    "More generally, the right side can be any kind of sequence (string, list or tuple). For example,\n",
    "to split an email address into a user name and a domain, you could write:"
   ]
  },
  {
   "cell_type": "code",
   "execution_count": null,
   "metadata": {},
   "outputs": [],
   "source": [
    "addr = 'monty@python.org'\n",
    "uname, domain = addr.split('@')\n"
   ]
  },
  {
   "cell_type": "markdown",
   "metadata": {},
   "source": [
    "The return value from split is a list with two elements; the first element is assigned to\n",
    "uname, the second to domain."
   ]
  },
  {
   "cell_type": "code",
   "execution_count": null,
   "metadata": {},
   "outputs": [],
   "source": [
    "uname"
   ]
  },
  {
   "cell_type": "code",
   "execution_count": null,
   "metadata": {},
   "outputs": [],
   "source": [
    "domain"
   ]
  },
  {
   "cell_type": "markdown",
   "metadata": {},
   "source": [
    "### 12.3 Tuples as return values\n",
    "\n",
    "Strictly speaking, a function can only return one value, but if the value is a tuple, the effect\n",
    "is the same as returning multiple values. For example, if you want to divide two integers\n",
    "and compute the quotient and remainder, it is inefficient to compute x/y and then x%y. It\n",
    "is better to compute them both at the same time.\n",
    "\n",
    "The built-in function divmod takes two arguments and returns a tuple of two values, the\n",
    "quotient and remainder. You can store the result as a tuple:"
   ]
  },
  {
   "cell_type": "code",
   "execution_count": null,
   "metadata": {},
   "outputs": [],
   "source": [
    "t = divmod(7, 3)\n",
    "t"
   ]
  },
  {
   "cell_type": "markdown",
   "metadata": {},
   "source": [
    "Or use tuple assignment to store the elements separately:"
   ]
  },
  {
   "cell_type": "code",
   "execution_count": null,
   "metadata": {},
   "outputs": [],
   "source": [
    "quot, rem = divmod(7, 3)\n",
    "print(quot)\n",
    "print(rem)\n"
   ]
  },
  {
   "cell_type": "markdown",
   "metadata": {},
   "source": [
    "Here is an example of a function that returns a tuple:"
   ]
  },
  {
   "cell_type": "code",
   "execution_count": null,
   "metadata": {},
   "outputs": [],
   "source": [
    "def min_max(t):\n",
    "    return min(t), max(t)\n",
    "\n",
    "min_max([1,3,5,2,4])"
   ]
  },
  {
   "cell_type": "markdown",
   "metadata": {},
   "source": [
    "max and min are built-in functions that find the largest and smallest elements of a sequence.\n",
    "min_max computes both and returns a tuple of two values.\n",
    "\n",
    "\n",
    "### 12.4 Variable-length argument tuples\n",
    "Functions can take a variable number of arguments. A parameter name that begins with\n",
    "\\* **gathers** arguments into a tuple. For example, printall takes any number of arguments\n",
    "and prints them:"
   ]
  },
  {
   "cell_type": "code",
   "execution_count": null,
   "metadata": {},
   "outputs": [],
   "source": [
    "def printall(*args):\n",
    "    print(args)"
   ]
  },
  {
   "cell_type": "markdown",
   "metadata": {},
   "source": [
    "The gather parameter can have any name you like, but args is conventional. Here’s how\n",
    "the function works:"
   ]
  },
  {
   "cell_type": "code",
   "execution_count": null,
   "metadata": {},
   "outputs": [],
   "source": [
    "printall(1, 2.0, '3')"
   ]
  },
  {
   "cell_type": "markdown",
   "metadata": {},
   "source": [
    "The complement of gather is **scatter**. If you have a sequence of values and you want to pass\n",
    "it to a function as multiple arguments, you can use the \\* operator. For example, divmod\n",
    "takes exactly two arguments; it doesn’t work with a tuple:"
   ]
  },
  {
   "cell_type": "code",
   "execution_count": null,
   "metadata": {},
   "outputs": [],
   "source": [
    "t = (7, 3)\n",
    "divmod(t)"
   ]
  },
  {
   "cell_type": "markdown",
   "metadata": {},
   "source": [
    "But if you scatter the tuple, it works:"
   ]
  },
  {
   "cell_type": "code",
   "execution_count": null,
   "metadata": {},
   "outputs": [],
   "source": [
    "divmod(*t)"
   ]
  },
  {
   "cell_type": "markdown",
   "metadata": {},
   "source": [
    "Many of the built-in functions use variable-length argument tuples. For example, max and\n",
    "min can take any number of arguments:"
   ]
  },
  {
   "cell_type": "code",
   "execution_count": null,
   "metadata": {},
   "outputs": [],
   "source": [
    "max(1, 2, 3)"
   ]
  },
  {
   "cell_type": "markdown",
   "metadata": {},
   "source": [
    "But sum does not."
   ]
  },
  {
   "cell_type": "code",
   "execution_count": null,
   "metadata": {},
   "outputs": [],
   "source": [
    "sum(1, 2, 3)"
   ]
  },
  {
   "cell_type": "markdown",
   "metadata": {},
   "source": [
    "As an exercise, write a function called sumall that takes any number of arguments and\n",
    "returns their sum."
   ]
  },
  {
   "cell_type": "code",
   "execution_count": null,
   "metadata": {},
   "outputs": [],
   "source": []
  },
  {
   "cell_type": "markdown",
   "metadata": {},
   "source": [
    "### 12.5 Lists and tuples\n",
    "\n",
    "zip is a built-in function that takes two or more sequences and returns a list of tuples where\n",
    "each tuple contains one element from each sequence. The name of the function refers to a\n",
    "zipper, which joins and interleaves two rows of teeth.\n",
    "\n",
    "This example zips a string and a list:"
   ]
  },
  {
   "cell_type": "code",
   "execution_count": null,
   "metadata": {},
   "outputs": [],
   "source": [
    "s = 'abc'\n",
    "t = [0, 1, 2]\n",
    "zip(s, t)"
   ]
  },
  {
   "cell_type": "markdown",
   "metadata": {},
   "source": [
    "The result is a **zip object** that knows how to iterate through the pairs. The most common\n",
    "use of zip is in a for loop:"
   ]
  },
  {
   "cell_type": "code",
   "execution_count": null,
   "metadata": {},
   "outputs": [],
   "source": [
    "for pair in zip(s, t):\n",
    "    print(pair)"
   ]
  },
  {
   "cell_type": "markdown",
   "metadata": {},
   "source": [
    "A zip object is a kind of **iterator**, which is any object that iterates through a sequence.\n",
    "Iterators are similar to lists in some ways, but unlike lists, you can’t use an index to select\n",
    "an element from an iterator.\n",
    "\n",
    "If you want to use list operators and methods, you can use a zip object to make a list:"
   ]
  },
  {
   "cell_type": "code",
   "execution_count": null,
   "metadata": {},
   "outputs": [],
   "source": [
    "list(zip(s, t))"
   ]
  },
  {
   "cell_type": "markdown",
   "metadata": {},
   "source": [
    "The result is a list of tuples; in this example, each tuple contains a character from the string\n",
    "and the corresponding element from the list.\n",
    "\n",
    "If the sequences are not the same length, the result has the length of the shorter one."
   ]
  },
  {
   "cell_type": "code",
   "execution_count": null,
   "metadata": {},
   "outputs": [],
   "source": [
    "list(zip('Anne', 'Elk'))"
   ]
  },
  {
   "cell_type": "markdown",
   "metadata": {},
   "source": [
    "You can use tuple assignment in a for loop to traverse a list of tuples:"
   ]
  },
  {
   "cell_type": "code",
   "execution_count": null,
   "metadata": {},
   "outputs": [],
   "source": [
    "t = [('a', 0), ('b', 1), ('c', 2)]\n",
    "for letter, number in t:\n",
    "    print(number, letter)"
   ]
  },
  {
   "cell_type": "markdown",
   "metadata": {},
   "source": [
    "Each time through the loop, Python selects the next tuple in the list and assigns the elements\n",
    "to letter and number.\n",
    "\n",
    "If you combine zip, for and tuple assignment, you get a useful idiom for traversing two\n",
    "(or more) sequences at the same time. For example, has_match takes two sequences, t1\n",
    "and t2, and returns True if there is an index i such that t1[i] == t2[i]:"
   ]
  },
  {
   "cell_type": "code",
   "execution_count": null,
   "metadata": {},
   "outputs": [],
   "source": [
    "def has_match(t1, t2):\n",
    "    for x, y in zip(t1, t2):\n",
    "        if x == y:\n",
    "            return True\n",
    "    return False\n",
    "\n",
    "print(has_match(\"spas\", \"Jazz\"))\n",
    "print(has_match(\"spaz\", \"Jazz\"))"
   ]
  },
  {
   "cell_type": "markdown",
   "metadata": {},
   "source": [
    "If you need to traverse the elements of a sequence and their indices, you can use the built-in\n",
    "function enumerate:"
   ]
  },
  {
   "cell_type": "code",
   "execution_count": null,
   "metadata": {},
   "outputs": [],
   "source": [
    "for index, element in enumerate('abc'):\n",
    "    print(index, element)"
   ]
  },
  {
   "cell_type": "markdown",
   "metadata": {},
   "source": [
    "The result from enumerate is an enumerate object, which iterates a sequence of pairs; each\n",
    "pair contains an index (starting from 0) and an element from the given sequence. Run the cell above to see the output.\n",
    "\n",
    "\n",
    "### 12.6 Dictionaries and tuples\n",
    "\n",
    "Dictionaries have a method called items that returns a sequence of tuples, where each\n",
    "tuple is a key-value pair."
   ]
  },
  {
   "cell_type": "code",
   "execution_count": null,
   "metadata": {},
   "outputs": [],
   "source": [
    "d = {'a':0, 'b':1, 'c':2}\n",
    "t = d.items()\n",
    "t"
   ]
  },
  {
   "cell_type": "markdown",
   "metadata": {},
   "source": [
    "The result is a dict_items object, which is an iterator that iterates the key-value pairs. You\n",
    "can use it in a for loop like this:"
   ]
  },
  {
   "cell_type": "code",
   "execution_count": null,
   "metadata": {},
   "outputs": [],
   "source": [
    "for key, value in d.items():\n",
    "    print(key, value)"
   ]
  },
  {
   "cell_type": "markdown",
   "metadata": {},
   "source": [
    "As you should expect from a dictionary, the items are in no particular order.\n",
    "\n",
    "Going in the other direction, you can use a list of tuples to initialize a new dictionary:"
   ]
  },
  {
   "cell_type": "code",
   "execution_count": null,
   "metadata": {},
   "outputs": [],
   "source": [
    "t = [('a', 0), ('c', 2), ('b', 1)]\n",
    "d = dict(t)\n",
    "d"
   ]
  },
  {
   "cell_type": "markdown",
   "metadata": {},
   "source": [
    "Combining dict with zip yields a concise way to create a dictionary:"
   ]
  },
  {
   "cell_type": "code",
   "execution_count": null,
   "metadata": {},
   "outputs": [],
   "source": [
    "d = dict(zip('abc', range(3)))\n",
    "d"
   ]
  },
  {
   "cell_type": "markdown",
   "metadata": {},
   "source": [
    "The dictionary method update also takes a list of tuples and adds them, as key-value pairs,\n",
    "to an existing dictionary.\n",
    "\n",
    "It is common to use tuples as keys in dictionaries (primarily because you can’t use lists). For\n",
    "example, a telephone directory might map from last-name, first-name pairs to telephone\n",
    "numbers. Assuming that we have defined last, first and number, we could write:"
   ]
  },
  {
   "cell_type": "code",
   "execution_count": null,
   "metadata": {},
   "outputs": [],
   "source": [
    "last = \"John\"\n",
    "first = \"Cleese\"\n",
    "number = \"08700 100 222\"\n",
    "directory = {}\n",
    "\n",
    "directory[last, first] = number  # tuple key in dictionary\n",
    "\n",
    "directory['Chapman', 'Graham'] = \"08700 100 222\"\n",
    "directory[('Idle', 'Eric')] = \"08700 100 222\"\n",
    "directory[('Jones', 'Terry')] = \"08700 100 222\"\n",
    "directory[('Gilliam', 'Terry')] = \"08700 100 222\"\n",
    "directory[('Palin', 'Michael')] = \"08700 100 222\""
   ]
  },
  {
   "cell_type": "markdown",
   "metadata": {},
   "source": [
    "The expression in brackets is a tuple. We could use tuple assignment to traverse this dictionary."
   ]
  },
  {
   "cell_type": "code",
   "execution_count": null,
   "metadata": {},
   "outputs": [],
   "source": [
    "for last, first in directory:\n",
    "    print(first, last, directory[last,first])"
   ]
  },
  {
   "attachments": {
    "fig12_1_2.gif": {
     "image/gif": "[encoded data removed]"
    }
   },
   "cell_type": "markdown",
   "metadata": {},
   "source": [
    "This loop traverses the keys in directory, which are tuples. It assigns the elements of each\n",
    "tuple to last and first, then prints the name and corresponding telephone number.\n",
    "![fig12_1_2.gif](attachment:fig12_1_2.gif)\n",
    "There are two ways to represent tuples in a state diagram. The more detailed version\n",
    "shows the indices and elements just as they appear in a list. For example, the tuple\n",
    "('Cleese', 'John') would appear as in Figure 12.1.\n",
    "\n",
    "But in a larger diagram you might want to leave out the details. For example, a diagram of\n",
    "the telephone directory might appear as in Figure 12.2.\n",
    "\n",
    "Here the tuples are shown using Python syntax as a graphical shorthand. The telephone\n",
    "number in the diagram is the complaints line for the BBC, so please don’t call it.\n",
    "\n",
    "\n",
    "### 12.7 Sequences of sequences\n",
    "\n",
    "I have focused on lists of tuples, but almost all of the examples in this chapter also work\n",
    "with lists of lists, tuples of tuples, and tuples of lists. To avoid enumerating the possible\n",
    "combinations, it is sometimes easier to talk about sequences of sequences.\n",
    "\n",
    "In many contexts, the different kinds of sequences (strings, lists and tuples) can be used\n",
    "interchangeably. So how should you choose one over the others?\n",
    "\n",
    "To start with the obvious, strings are more limited than other sequences because the elements\n",
    "have to be characters. They are also immutable. If you need the ability to change the\n",
    "characters in a string (as opposed to creating a new string), you might want to use a list of\n",
    "characters instead.\n",
    "\n",
    "Lists are more common than tuples, mostly because they are mutable. But there are a few\n",
    "cases where you might prefer tuples:\n",
    "\n",
    "1. In some contexts, like a return statement, it is syntactically simpler to create a tuple\n",
    "than a list.<br><br>\n",
    "\n",
    "2. If you want to use a sequence as a dictionary key, you have to use an immutable type\n",
    "like a tuple or string.<br><br>\n",
    "\n",
    "3. If you are passing a sequence as an argument to a function, using tuples reduces the\n",
    "potential for unexpected behavior due to aliasing.\n",
    "\n",
    "Because tuples are immutable, they don’t provide methods like sort and reverse, which\n",
    "modify existing lists. But Python provides the built-in function sorted, which takes any\n",
    "sequence and returns a new list with the same elements in sorted order, and reversed,\n",
    "which takes a sequence and returns an iterator that traverses the list in reverse order.\n",
    "\n",
    "\n",
    "### 12.8 Debugging\n",
    "\n",
    "Lists, dictionaries and tuples are examples of data structures; in this chapter we are starting\n",
    "to see compound data structures, like lists of tuples, or dictionaries that contain tuples as\n",
    "keys and lists as values. Compound data structures are useful, but they are prone to what\n",
    "I call shape errors; that is, errors caused when a data structure has the wrong type, size, or\n",
    "structure. For example, if you are expecting a list with one integer and I give you a plain\n",
    "old integer (not in a list), it won’t work.\n",
    "\n",
    "To help debug these kinds of errors, I have written a module called structshape that\n",
    "provides a function, also called structshape, that takes any kind of data structure as\n",
    "an argument and returns a string that summarizes its shape. You can download it from\n",
    "http://thinkpython2.com/code/structshape.py , place it in the same directory as this notebook to run the next cell.\n",
    "\n",
    "Here’s the result for a simple list:"
   ]
  },
  {
   "cell_type": "code",
   "execution_count": null,
   "metadata": {},
   "outputs": [],
   "source": [
    "from structshape import structshape\n",
    "t = [1, 2, 3]\n",
    "structshape(t)"
   ]
  },
  {
   "cell_type": "markdown",
   "metadata": {},
   "source": [
    "A fancier program might write “list of 3 ints”, but it was easier not to deal with plurals.\n",
    "\n",
    "Here’s a list of lists:"
   ]
  },
  {
   "cell_type": "code",
   "execution_count": null,
   "metadata": {},
   "outputs": [],
   "source": [
    "t2 = [[1,2], [3,4], [5,6]]\n",
    "structshape(t2)"
   ]
  },
  {
   "cell_type": "markdown",
   "metadata": {},
   "source": [
    "If the elements of the list are not the same type, structshape groups them, in order, by\n",
    "type:"
   ]
  },
  {
   "cell_type": "code",
   "execution_count": null,
   "metadata": {},
   "outputs": [],
   "source": [
    "t3 = [1, 2, 3, 4.0, '5', '6', [7], [8], 9]\n",
    "structshape(t3)"
   ]
  },
  {
   "cell_type": "markdown",
   "metadata": {},
   "source": [
    "Here’s a list of tuples:"
   ]
  },
  {
   "cell_type": "code",
   "execution_count": null,
   "metadata": {},
   "outputs": [],
   "source": [
    "s = 'abc'\n",
    "lt = list(zip(t, s))\n",
    "structshape(lt)"
   ]
  },
  {
   "cell_type": "markdown",
   "metadata": {},
   "source": [
    "And here’s a dictionary with 3 items that map integers to strings."
   ]
  },
  {
   "cell_type": "code",
   "execution_count": null,
   "metadata": {},
   "outputs": [],
   "source": [
    "d = dict(lt)\n",
    "structshape(d)"
   ]
  },
  {
   "cell_type": "markdown",
   "metadata": {},
   "source": [
    "If you are having trouble keeping track of your data structures, structshape can help.\n",
    "\n",
    "\n",
    "### 12.9 Glossary\n",
    "\n",
    "**tuple:** An immutable sequence of elements.\n",
    "\n",
    "**tuple assignment:** An assignment with a sequence on the right side and a tuple of variables\n",
    "on the left. The right side is evaluated and then its elements are assigned to the\n",
    "variables on the left.\n",
    "\n",
    "**gather:** The operation of assembling a variable-length argument tuple.\n",
    "\n",
    "**scatter:** The operation of treating a sequence as a list of arguments.\n",
    "\n",
    "**zip object:** The result of calling a built-in function zip; an object that iterates through a\n",
    "sequence of tuples.\n",
    "\n",
    "**iterator:** An object that can iterate through a sequence, but which does not provide list\n",
    "operators and methods.\n",
    "\n",
    "**data structure:** A collection of related values, often organized in lists, dictionaries, tuples,\n",
    "etc.\n",
    "\n",
    "**shape error:** An error caused because a value has the wrong shape; that is, the wrong type\n",
    "or size.\n",
    "\n",
    "\n",
    "### 12.10 Exercises\n",
    "\n",
    "#### Exercise 12.1. \n",
    "Write a function called most_frequent that takes a string and prints the letters\n",
    "in decreasing order of frequency. Find text samples from several different languages and see\n",
    "how letter frequency varies between languages. Compare your results with the tables at http://en.wikipedia.org/wiki/Letter_frequencies . \n",
    "\n",
    "Solution: http://thinkpython2.com/code/most_frequent.py ."
   ]
  },
  {
   "cell_type": "code",
   "execution_count": null,
   "metadata": {},
   "outputs": [],
   "source": []
  },
  {
   "cell_type": "markdown",
   "metadata": {},
   "source": [
    "#### Exercise 12.2. More anagrams!\n",
    "\n",
    "1. Write a program that reads a word list from a file (see Section 9.1) and prints all the sets of\n",
    "words that are anagrams.<br><br>\n",
    "Here is an example of what the output might look like:<br><br>\n",
    "['deltas', 'desalt', 'lasted', 'salted', 'slated', 'staled']\n",
    "['retainers', 'ternaries']\n",
    "['generating', 'greatening']\n",
    "['resmelts', 'smelters', 'termless']<br><br>\n",
    "Hint: you might want to build a dictionary that maps from a collection of letters to a list\n",
    "of words that can be spelled with those letters. The question is, how can you represent the\n",
    "collection of letters in a way that can be used as a key?<br><br>\n",
    "2. Modify the previous program so that it prints the longest list of anagrams first, followed by\n",
    "the second longest, and so on.<br><br>\n",
    "3. In Scrabble a “bingo” is when you play all seven tiles in your rack, along with a letter on\n",
    "the board, to form an eight-letter word. What collection of 8 letters forms the most possible\n",
    "bingos? Hint: there are seven.\n",
    "   \n",
    "Solution: http://thinkpython2.com/code/anagram_sets.py ."
   ]
  },
  {
   "cell_type": "code",
   "execution_count": null,
   "metadata": {},
   "outputs": [],
   "source": []
  },
  {
   "cell_type": "markdown",
   "metadata": {},
   "source": [
    "Exercise 12.3. \n",
    "Two words form a “metathesis pair” if you can transform one into the other by\n",
    "swapping two letters; for example, “converse” and “conserve”. Write a program that finds all of\n",
    "the metathesis pairs in the dictionary. Hint: don’t test all pairs of words, and don’t test all possible\n",
    "swaps. \n",
    "\n",
    "Solution: http://thinkpython2.com/code/metathesis.py . Credit: This exercise\n",
    "is inspired by an example at http://puzzlers.org ."
   ]
  },
  {
   "cell_type": "code",
   "execution_count": null,
   "metadata": {},
   "outputs": [],
   "source": []
  },
  {
   "cell_type": "markdown",
   "metadata": {},
   "source": [
    "#### Exercise 12.4. \n",
    "Here’s another Car Talk Puzzler (http: // www. cartalk. com/ content/\n",
    "puzzlers ):\n",
    "\n",
    ">What is the longest English word, that remains a valid English word, as you remove its\n",
    "letters one at a time?<br><br>\n",
    "Now, letters can be removed from either end, or the middle, but you can’t rearrange any\n",
    "of the letters. Every time you drop a letter, you wind up with another English word. If\n",
    "you do that, you’re eventually going to wind up with one letter and that too is going\n",
    "to be an English word—one that’s found in the dictionary. I want to know what’s the\n",
    "longest word and how many letters does it have?<br><br>\n",
    "I’m going to give you a little modest example: Sprite. Ok? You start off with sprite,\n",
    "you take a letter off, one from the interior of the word, take the r away, and we’re left\n",
    "with the word spite, then we take the e off the end, we’re left with spit, we take the s off,\n",
    "we’re left with pit, it, and I.\n",
    "\n",
    "Write a program to find all words that can be reduced in this way, and then find the longest one.\n",
    "\n",
    "This exercise is a little more challenging than most, so here are some suggestions:\n",
    "\n",
    "1. You might want to write a function that takes a word and computes a list of all the words that\n",
    "can be formed by removing one letter. These are the “children” of the word.\n",
    "\n",
    "2. Recursively, a word is reducible if any of its children are reducible. As a base case, you can\n",
    "consider the empty string reducible.\n",
    "\n",
    "3. The wordlist I provided, words.txt, doesn’t contain single letter words. So you might want\n",
    "to add “I”, “a”, and the empty string.\n",
    "\n",
    "4. To improve the performance of your program, you might want to memoize the words that are\n",
    "known to be reducible.\n",
    "\n",
    "Solution: http://thinkpython2.com/code/reducible.py ."
   ]
  },
  {
   "cell_type": "code",
   "execution_count": null,
   "metadata": {},
   "outputs": [],
   "source": []
  },
  {
   "cell_type": "markdown",
   "metadata": {},
   "source": [
    "Source material from:\n",
    "\n",
    "Think Python<br>\n",
    "How to Think Like a Computer Scientist<br>\n",
    "2nd Edition, Version 2.2.23<br>\n",
    "Allen Downey<br>\n",
    "Copyright © 2015 Allen Downey. <br>\n",
    "<br>\n",
    "Source material used under the Creative Commons Attribution-NonCommercial 3.0 Unported License. To view a copy of this license, visit http://creativecommons.org/licenses/by-nc/3.0/ or send a letter to Creative Commons, PO Box 1866, Mountain View, CA 94042, USA.\n",
    "\n",
    "\n",
    "Adapted to Jupyter Notebooks with additional material by Warren Watts, Copyright © 2018"
   ]
  }
 ],
 "metadata": {
  "kernelspec": {
   "display_name": "Python 3",
   "language": "python",
   "name": "python3"
  },
  "language_info": {
   "codemirror_mode": {
    "name": "ipython",
    "version": 3
   },
   "file_extension": ".py",
   "mimetype": "text/x-python",
   "name": "python",
   "nbconvert_exporter": "python",
   "pygments_lexer": "ipython3",
   "version": "3.7.0"
  }
 },
 "nbformat": 4,
 "nbformat_minor": 2
}
