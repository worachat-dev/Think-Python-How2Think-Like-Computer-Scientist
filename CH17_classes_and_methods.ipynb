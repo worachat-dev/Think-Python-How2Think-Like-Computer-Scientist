{
 "cells": [
  {
   "cell_type": "markdown",
   "metadata": {},
   "source": [
    "This work is licensed under the Creative Commons Attribution-NonCommercial 3.0 Unported License. To view a copy of this license, visit http://creativecommons.org/licenses/by-nc/3.0/ or send a letter to Creative Commons, PO Box 1866, Mountain View, CA 94042, USA."
   ]
  },
  {
   "cell_type": "markdown",
   "metadata": {},
   "source": [
    "# Classes and methods\n",
    "\n",
    "Although we are using some of Python’s object-oriented features, the programs from the\n",
    "last two chapters are not really object-oriented because they don’t represent the relationships\n",
    "between programmer-defined types and the functions that operate on them. The next\n",
    "step is to transform those functions into methods that make the relationships explicit.\n",
    "\n",
    "Code examples from this chapter are available from http://thinkpython2.com/code/Time2.py, and solutions to the exercises are in http://thinkpython2.com/code/Point2_soln.py.\n",
    "\n",
    "\n",
    "### 17.1 Object-oriented features\n",
    "\n",
    "Python is an **object-oriented programming language**, which means that it provides features\n",
    "that support object-oriented programming, which has these defining characteristics:\n",
    "\n",
    "- Programs include class and method definitions.\n",
    "\n",
    "- Most of the computation is expressed in terms of operations on objects.\n",
    "\n",
    "- Objects often represent things in the real world, and methods often correspond to the\n",
    "ways things in the real world interact.\n",
    "\n",
    "For example, the Time class defined in Chapter 16 corresponds to the way people record\n",
    "the time of day, and the functions we defined correspond to the kinds of things people do\n",
    "with times. Similarly, the Point and Rectangle classes in Chapter 15 correspond to the\n",
    "mathematical concepts of a point and a rectangle.\n",
    "\n",
    "So far, we have not taken advantage of the features Python provides to support objectoriented\n",
    "programming. These features are not strictly necessary; most of them provide\n",
    "alternative syntax for things we have already done. But in many cases, the alternative is\n",
    "more concise and more accurately conveys the structure of the program.\n",
    "\n",
    "For example, in Time1.py there is no obvious connection between the class definition and\n",
    "the function definitions that follow. With some examination, it is apparent that every function\n",
    "takes at least one Time object as an argument.\n",
    "\n",
    "This observation is the motivation for **methods**; a method is a function that is associated\n",
    "with a particular class. We have seen methods for strings, lists, dictionaries and tuples. In\n",
    "this chapter, we will define methods for programmer-defined types.\n",
    "\n",
    "Methods are semantically the same as functions, but there are two syntactic differences:\n",
    "\n",
    "- Methods are defined inside a class definition in order to make the relationship between\n",
    "the class and the method explicit.\n",
    "\n",
    "- The syntax for invoking a method is different from the syntax for calling a function.\n",
    "\n",
    "In the next few sections, we will take the functions from the previous two chapters and\n",
    "transform them into methods. This transformation is purely mechanical; you can do it by\n",
    "following a sequence of steps. If you are comfortable converting from one form to another,\n",
    "you will be able to choose the best form for whatever you are doing.\n",
    "\n",
    "\n",
    "### 17.2 Printing objects\n",
    "\n",
    "In Chapter 16, we defined a class named Time and in Section 16.1, you wrote a function\n",
    "named print_time:"
   ]
  },
  {
   "cell_type": "code",
   "execution_count": null,
   "metadata": {},
   "outputs": [],
   "source": [
    "class Time:\n",
    "    \"\"\"Represents the time of day.\"\"\"\n",
    "\n",
    "def print_time(time):\n",
    "    print('%.2d:%.2d:%.2d' % (time.hour, time.minute, time.second))"
   ]
  },
  {
   "cell_type": "markdown",
   "metadata": {},
   "source": [
    "To call this function, you have to pass a Time object as an argument:"
   ]
  },
  {
   "cell_type": "code",
   "execution_count": null,
   "metadata": {},
   "outputs": [],
   "source": [
    "start = Time()\n",
    "start.hour = 9\n",
    "start.minute = 45\n",
    "start.second = 00\n",
    "print_time(start)"
   ]
  },
  {
   "cell_type": "markdown",
   "metadata": {},
   "source": [
    "To make print_time a method, all we have to do is move the function definition inside the\n",
    "class definition. Notice the change in indentation."
   ]
  },
  {
   "cell_type": "code",
   "execution_count": null,
   "metadata": {},
   "outputs": [],
   "source": [
    "class Time:\n",
    "    \n",
    "    def print_time(time):\n",
    "        print('%.2d:%.2d:%.2d' % (time.hour, time.minute, time.second))"
   ]
  },
  {
   "cell_type": "markdown",
   "metadata": {},
   "source": [
    "Now there are two ways to call print_time. The first (and less common) way is to use\n",
    "function syntax:"
   ]
  },
  {
   "cell_type": "code",
   "execution_count": null,
   "metadata": {},
   "outputs": [],
   "source": [
    "Time.print_time(start)"
   ]
  },
  {
   "cell_type": "markdown",
   "metadata": {},
   "source": [
    "In this use of dot notation, Time is the name of the class, and print_time is the name of the\n",
    "method. start is passed as a parameter.\n",
    "\n",
    "The second (and more concise) way is to use method syntax:"
   ]
  },
  {
   "cell_type": "code",
   "execution_count": null,
   "metadata": {},
   "outputs": [],
   "source": [
    "start.print_time() # rerun the cell with the start=Time() assignment before running this."
   ]
  },
  {
   "cell_type": "markdown",
   "metadata": {},
   "source": [
    "In this use of dot notation, print_time is the name of the method (again), and start is\n",
    "the object the method is invoked on, which is called the subject. Just as the subject of\n",
    "a sentence is what the sentence is about, the subject of a method invocation is what the\n",
    "method is about.\n",
    "\n",
    "Inside the method, the subject is assigned to the first parameter, so in this case start is\n",
    "assigned to time.\n",
    "\n",
    "By convention, the first parameter of a method is called self, so it would be more common\n",
    "to write print_time like this:"
   ]
  },
  {
   "cell_type": "code",
   "execution_count": null,
   "metadata": {},
   "outputs": [],
   "source": [
    "class Time:\n",
    "    def print_time(self):\n",
    "        print('%.2d:%.2d:%.2d' % (self.hour, self.minute, self.second))"
   ]
  },
  {
   "cell_type": "markdown",
   "metadata": {},
   "source": [
    "The reason for this convention is an implicit metaphor:\n",
    "\n",
    "- The syntax for a function call, print_time(start), suggests that the function is the\n",
    "active agent. It says something like, “Hey print_time! Here’s an object for you to\n",
    "print.”\n",
    "\n",
    "- In object-oriented programming, the objects are the active agents. A method invocation\n",
    "like start.print_time() says “Hey start! Please print yourself.”\n",
    "\n",
    "This change in perspective might be more polite, but it is not obvious that it is useful. In the\n",
    "examples we have seen so far, it may not be. But sometimes shifting responsibility from the\n",
    "functions onto the objects makes it possible to write more versatile functions (or methods),\n",
    "and makes it easier to maintain and reuse code.\n",
    "\n",
    "As an exercise, rewrite time_to_int (from Section 16.4) as a method. You might be tempted\n",
    "to rewrite int_to_time as a method, too, but that doesn’t really make sense because there\n",
    "would be no object to invoke it on.\n",
    "\n",
    "\n",
    "### 17.3 Another example\n",
    "\n",
    "Here’s a version of increment (from Section 16.3) rewritten as a method:"
   ]
  },
  {
   "cell_type": "code",
   "execution_count": null,
   "metadata": {},
   "outputs": [],
   "source": [
    "class Time:\n",
    "    \n",
    "    def print_time(time):\n",
    "        print('%.2d:%.2d:%.2d' % (time.hour, time.minute, time.second))\n",
    "        \n",
    "# inside class Time:\n",
    "    def increment(self, seconds):\n",
    "        seconds += self.time_to_int()\n",
    "        return int_to_time(seconds)\n",
    "    \n",
    "    def time_to_int(self):\n",
    "        minutes = self.hour * 60 + self.minute\n",
    "        seconds = minutes * 60 + self.second\n",
    "        return seconds\n",
    "    \n",
    "def int_to_time(seconds):\n",
    "    time = Time()\n",
    "    minutes, time.second = divmod(seconds, 60)\n",
    "    time.hour, time.minute = divmod(minutes, 60)\n",
    "    return time"
   ]
  },
  {
   "cell_type": "markdown",
   "metadata": {},
   "source": [
    "This version assumes that time_to_int is written as a method. Also, note that it is a pure\n",
    "function, not a modifier.\n",
    "\n",
    "Here’s how you would invoke increment:"
   ]
  },
  {
   "cell_type": "code",
   "execution_count": null,
   "metadata": {},
   "outputs": [],
   "source": [
    "# recreate start with new version of Time()\n",
    "start = Time()\n",
    "start.hour = 9\n",
    "start.minute = 45\n",
    "start.second = 00\n",
    "\n",
    "start.print_time()\n",
    "end = start.increment(1337)\n",
    "end.print_time()"
   ]
  },
  {
   "cell_type": "markdown",
   "metadata": {},
   "source": [
    "The subject, start, gets assigned to the first parameter, self. The argument, 1337, gets\n",
    "assigned to the second parameter, seconds.\n",
    "\n",
    "This mechanism can be confusing, especially if you make an error. For example, if you\n",
    "invoke increment with two arguments, you get:"
   ]
  },
  {
   "cell_type": "code",
   "execution_count": null,
   "metadata": {},
   "outputs": [],
   "source": [
    "end = start.increment(1337, 460)"
   ]
  },
  {
   "cell_type": "markdown",
   "metadata": {},
   "source": [
    "The error message is initially confusing, because there are only two arguments in parentheses.\n",
    "But the subject is also considered an argument, so all together that’s three.\n",
    "\n",
    "By the way, a **positional argument** is an argument that doesn’t have a parameter name;\n",
    "that is, it is not a keyword argument. In this function call:\n",
    "```python\n",
    "sketch(parrot, cage, dead=True)```\n",
    "\n",
    "parrot and cage are positional, and dead is a keyword argument.\n",
    "\n",
    "\n",
    "### 17.4 A more complicated example\n",
    "\n",
    "Rewriting is_after (from Section 16.1) is slightly more complicated because it takes two\n",
    "Time objects as parameters. In this case it is conventional to name the first parameter self\n",
    "and the second parameter other:"
   ]
  },
  {
   "cell_type": "code",
   "execution_count": null,
   "metadata": {},
   "outputs": [],
   "source": [
    "class Time:\n",
    "    # previous methods repeated    \n",
    "    def print_time(time):\n",
    "        print('%.2d:%.2d:%.2d' % (time.hour, time.minute, time.second))\n",
    "        \n",
    "    def increment(self, seconds):\n",
    "        seconds += self.time_to_int()\n",
    "        return int_to_time(seconds)\n",
    "    \n",
    "    def time_to_int(self):\n",
    "        minutes = self.hour * 60 + self.minute\n",
    "        seconds = minutes * 60 + self.second\n",
    "        return seconds\n",
    "    # new method\n",
    "    def is_after(self, other):\n",
    "        return self.time_to_int() > other.time_to_int()"
   ]
  },
  {
   "cell_type": "markdown",
   "metadata": {},
   "source": [
    "To use this method, you have to invoke it on one object and pass the other as an argument:"
   ]
  },
  {
   "cell_type": "code",
   "execution_count": null,
   "metadata": {},
   "outputs": [],
   "source": [
    "# recreate start with new version of Time()\n",
    "start = Time()\n",
    "start.hour = 9\n",
    "start.minute = 45\n",
    "start.second = 00\n",
    "\n",
    "start.print_time()\n",
    "end = start.increment(1337)\n",
    "end.print_time()\n",
    "end.is_after(start)"
   ]
  },
  {
   "cell_type": "markdown",
   "metadata": {},
   "source": [
    "One nice thing about this syntax is that it almost reads like English: “end is after start?”\n",
    "\n",
    "\n",
    "### 17.5 The init method\n",
    "\n",
    "The init method (short for “initialization”) is a special method that gets invoked when an\n",
    "object is instantiated. Its full name is \\_\\_init\\_\\_ (two underscore characters, followed by\n",
    "init, and then two more underscores). An init method for the Time class might look like\n",
    "this:"
   ]
  },
  {
   "cell_type": "code",
   "execution_count": null,
   "metadata": {},
   "outputs": [],
   "source": [
    "class Time:\n",
    "    # normally you would just add things to your original cell, repeating things gets real tedious.\n",
    "    # __init() usually goes first\n",
    "    def __init__(self, hour=0, minute=0, second=0):\n",
    "        self.hour = hour\n",
    "        self.minute = minute\n",
    "        self.second = second\n",
    "\n",
    "    # previous methods repeated\n",
    "    \n",
    "    def print_time(time):\n",
    "        print('%.2d:%.2d:%.2d' % (time.hour, time.minute, time.second))\n",
    "        \n",
    "    def increment(self, seconds):\n",
    "        seconds += self.time_to_int()\n",
    "        return int_to_time(seconds)\n",
    "    \n",
    "    def time_to_int(self):\n",
    "        minutes = self.hour * 60 + self.minute\n",
    "        seconds = minutes * 60 + self.second\n",
    "        return seconds\n",
    "    \n",
    "    def is_after(self, other):\n",
    "        return self.time_to_int() > other.time_to_int()"
   ]
  },
  {
   "cell_type": "markdown",
   "metadata": {},
   "source": [
    "It is common for the parameters of \\_\\_init\\_\\_ to have the same names as the attributes. The\n",
    "statement\n",
    "```python\n",
    "self.hour = hour```\n",
    "stores the value of the parameter hour as an attribute of self.\n",
    "\n",
    "The parameters are optional, so if you call Time with no arguments, you get the default\n",
    "values."
   ]
  },
  {
   "cell_type": "code",
   "execution_count": null,
   "metadata": {},
   "outputs": [],
   "source": [
    "time = Time()\n",
    "time.print_time()"
   ]
  },
  {
   "cell_type": "markdown",
   "metadata": {},
   "source": [
    "If you provide one argument, it overrides hour:"
   ]
  },
  {
   "cell_type": "code",
   "execution_count": null,
   "metadata": {},
   "outputs": [],
   "source": [
    "time = Time (9)\n",
    "time.print_time()"
   ]
  },
  {
   "cell_type": "markdown",
   "metadata": {},
   "source": [
    "If you provide two arguments, they override hour and minute."
   ]
  },
  {
   "cell_type": "code",
   "execution_count": null,
   "metadata": {},
   "outputs": [],
   "source": [
    "time = Time(9, 45)\n",
    "time.print_time()"
   ]
  },
  {
   "cell_type": "markdown",
   "metadata": {},
   "source": [
    "And if you provide three arguments, they override all three default values.\n",
    "\n",
    "As an exercise, write an init method for the Point class that takes x and y as optional\n",
    "parameters and assigns them to the corresponding attributes."
   ]
  },
  {
   "cell_type": "code",
   "execution_count": null,
   "metadata": {},
   "outputs": [],
   "source": []
  },
  {
   "cell_type": "markdown",
   "metadata": {},
   "source": [
    "### 17.6 The \\_\\_str\\_\\_ method\n",
    "\n",
    "\\_\\_str\\_\\_ is a special method, like \\_\\_init\\_\\_, that is supposed to return a string representation\n",
    "of an object.\n",
    "\n",
    "For example, here is a str method for Time objects:\n",
    "```python\n",
    "# add this code inside the class declaration of time Time:\n",
    "# time for you to get your hands dirty.\n",
    "    def __str__(self):\n",
    "        return '%.2d:%.2d:%.2d' % (self.hour, self.minute, self.second)```\n",
    "When you print an object, Python invokes the str method:"
   ]
  },
  {
   "cell_type": "code",
   "execution_count": null,
   "metadata": {},
   "outputs": [],
   "source": [
    "time = Time(9, 45)\n",
    "print(time)"
   ]
  },
  {
   "cell_type": "markdown",
   "metadata": {},
   "source": [
    "When I write a new class, I almost always start by writing \\_\\_init\\_\\_, which makes it easier\n",
    "to instantiate objects, and \\_\\_str\\_\\_, which is useful for debugging.\n",
    "\n",
    "As an exercise, write a \\_\\_str\\_\\_ method for the Point class. Create a Point object and print it."
   ]
  },
  {
   "cell_type": "code",
   "execution_count": null,
   "metadata": {},
   "outputs": [],
   "source": []
  },
  {
   "cell_type": "markdown",
   "metadata": {},
   "source": [
    "### 17.7 Operator overloading\n",
    "\n",
    "By defining other special methods, you can specify the behavior of operators on\n",
    "programmer-defined types. For example, if you define a method named __add__ for the\n",
    "Time class, you can use the + operator on Time objects.\n",
    "\n",
    "Here is what the definition might look like:\n",
    "```python\n",
    "    # add inside class Time: and rerun cell\n",
    "    def __add__(self, other):\n",
    "        seconds = self.time_to_int() + other.time_to_int()\n",
    "        return int_to_time(seconds)```\n",
    "And here is how you could use it:"
   ]
  },
  {
   "cell_type": "code",
   "execution_count": null,
   "metadata": {},
   "outputs": [],
   "source": [
    "start = Time(9, 45)\n",
    "duration = Time(1, 35)\n",
    "print(start + duration)"
   ]
  },
  {
   "cell_type": "markdown",
   "metadata": {},
   "source": [
    "When you apply the + operator to Time objects, Python invokes \\_\\_add\\_\\_. When you print\n",
    "the result, Python invokes \\_\\_str\\_\\_. So there is a lot happening behind the scenes!\n",
    "\n",
    "Changing the behavior of an operator so that it works with programmer-defined types is\n",
    "called **operator overloading**. For every operator in Python there is a corresponding special\n",
    "method, like \\_\\_add\\_\\_. For more details, see http://docs.python.org/3/reference/datamodel.html#specialnames.\n",
    "\n",
    "As an exercise, write an add method for the Point class."
   ]
  },
  {
   "cell_type": "code",
   "execution_count": null,
   "metadata": {},
   "outputs": [],
   "source": []
  },
  {
   "cell_type": "markdown",
   "metadata": {},
   "source": [
    "### 17.8 Type-based dispatch\n",
    "\n",
    "In the previous section we added two Time objects, but you also might want to add an\n",
    "integer to a Time object. The following is a version of \\_\\_add\\\\ that checks the type of\n",
    "other and invokes either add_time or increment:\n",
    "```python\n",
    "# change code inside class Time: cell and rerun\n",
    "    def __add__(self, other):\n",
    "        if isinstance(other, Time):\n",
    "            return self.add_time(other)\n",
    "        else:\n",
    "            return self.increment(other)\n",
    "\n",
    "    def add_time(self, other):\n",
    "        seconds = self.time_to_int() + other.time_to_int()\n",
    "        return int_to_time(seconds)\n",
    "    \n",
    "    def increment(self, seconds):\n",
    "        seconds += self.time_to_int()\n",
    "        return int_to_time(seconds)```\n",
    "\n",
    "The built-in function isinstance takes a value and a class object, and returns True if the\n",
    "value is an instance of the class.\n",
    "\n",
    "If other is a Time object, \\_\\_add\\_\\_ invokes add_time. Otherwise it assumes that the parameter\n",
    "is a number and invokes increment. This operation is called a**type-based dispatch**\n",
    "because it dispatches the computation to different methods based on the type of the arguments.\n",
    "\n",
    "Here are examples that use the + operator with different types:"
   ]
  },
  {
   "cell_type": "code",
   "execution_count": null,
   "metadata": {},
   "outputs": [],
   "source": [
    "\n",
    "duration = Time(1, 35)\n",
    "print(start + duration)"
   ]
  },
  {
   "cell_type": "markdown",
   "metadata": {},
   "source": [
    "Unfortunately, this implementation of addition is not commutative. If the integer is the\n",
    "first operand, you get:"
   ]
  },
  {
   "cell_type": "code",
   "execution_count": null,
   "metadata": {},
   "outputs": [],
   "source": [
    "print(1337 + start)"
   ]
  },
  {
   "cell_type": "markdown",
   "metadata": {},
   "source": [
    "The problem is, instead of asking the Time object to add an integer, Python is asking an\n",
    "integer to add a Time object, and it doesn’t know how. But there is a clever solution for this\n",
    "problem: the special method \\_\\_radd\\_\\_, which stands for “right-side add”. This method\n",
    "is invoked when a Time object appears on the right side of the + operator. Here’s the\n",
    "definition:\n",
    "```python\n",
    "# add inside class Time: cell and rerun\n",
    "    def __radd__(self, other):\n",
    "        return self.__add__(other)```\n",
    "And here’s how it’s used:"
   ]
  },
  {
   "cell_type": "code",
   "execution_count": null,
   "metadata": {},
   "outputs": [],
   "source": [
    "start = Time(9, 45) \n",
    "print(1337 + start)"
   ]
  },
  {
   "cell_type": "markdown",
   "metadata": {},
   "source": [
    "As an exercise, write an add method for Points that works with either a Point object or a\n",
    "tuple:\n",
    "\n",
    "- If the second operand is a Point, the method should return a new Point whose x\n",
    "coordinate is the sum of the x coordinates of the operands, and likewise for the y\n",
    "coordinates.<br><br>\n",
    "\n",
    "- If the second operand is a tuple, the method should add the first element of the tuple\n",
    "to the x coordinate and the second element to the y coordinate, and return a new\n",
    "Point with the result."
   ]
  },
  {
   "cell_type": "code",
   "execution_count": null,
   "metadata": {},
   "outputs": [],
   "source": []
  },
  {
   "cell_type": "markdown",
   "metadata": {},
   "source": [
    "### 17.9 Polymorphism\n",
    "\n",
    "Type-based dispatch is useful when it is necessary, but (fortunately) it is not always necessary.\n",
    "Often you can avoid it by writing functions that work correctly for arguments with\n",
    "different types.\n",
    "\n",
    "Many of the functions we wrote for strings also work for other sequence types. For example,\n",
    "in Section 11.2 we used histogram to count the number of times each letter appears in\n",
    "a word."
   ]
  },
  {
   "cell_type": "code",
   "execution_count": null,
   "metadata": {},
   "outputs": [],
   "source": [
    "def histogram(s):\n",
    "    d = dict()\n",
    "    for c in s:\n",
    "        if c not in d:\n",
    "            d[c] = 1\n",
    "        else:\n",
    "            d[c] = d[c]+1\n",
    "    return d"
   ]
  },
  {
   "cell_type": "markdown",
   "metadata": {},
   "source": [
    "This function also works for lists, tuples, and even dictionaries, as long as the elements of\n",
    "s are hashable, so they can be used as keys in d."
   ]
  },
  {
   "cell_type": "code",
   "execution_count": null,
   "metadata": {},
   "outputs": [],
   "source": [
    "t = ['spam', 'egg', 'spam', 'spam', 'bacon', 'spam']\n",
    "histogram(t)"
   ]
  },
  {
   "cell_type": "markdown",
   "metadata": {},
   "source": [
    "Functions that work with several types are called **polymorphic**. Polymorphism can facilitate\n",
    "code reuse. For example, the built-in function sum, which adds the elements of a\n",
    "sequence, works as long as the elements of the sequence support addition.\n",
    "\n",
    "Since Time objects provide an add method, they work with sum:"
   ]
  },
  {
   "cell_type": "code",
   "execution_count": null,
   "metadata": {},
   "outputs": [],
   "source": [
    "t1 = Time(7, 43)\n",
    "t2 = Time(7, 41)\n",
    "t3 = Time(7, 37)\n",
    "total = sum([t1, t2, t3])\n",
    "print(total)"
   ]
  },
  {
   "cell_type": "markdown",
   "metadata": {},
   "source": [
    "In general, if all of the operations inside a function work with a given type, the function\n",
    "works with that type.\n",
    "\n",
    "The best kind of polymorphism is the unintentional kind, where you discover that a function\n",
    "you already wrote can be applied to a type you never planned for.\n",
    "\n",
    "\n",
    "### 17.10 Debugging\n",
    "\n",
    "It is legal to add attributes to objects at any point in the execution of a program, but if\n",
    "you have objects with the same type that don’t have the same attributes, it is easy to make\n",
    "mistakes. It is considered a good idea to initialize all of an object’s attributes in the init\n",
    "method.\n",
    "\n",
    "If you are not sure whether an object has a particular attribute, you can use the built-in\n",
    "function hasattr (see Section 15.7).\n",
    "\n",
    "Another way to access attributes is the built-in function vars, which takes an object and\n",
    "returns a dictionary that maps from attribute names (as strings) to their values:"
   ]
  },
  {
   "cell_type": "code",
   "execution_count": null,
   "metadata": {},
   "outputs": [],
   "source": [
    "# run this if you haven't done point exercises\n",
    "class Point:\n",
    "    def __init__(self, x, y):\n",
    "        self.x=x\n",
    "        self.y=y"
   ]
  },
  {
   "cell_type": "code",
   "execution_count": null,
   "metadata": {},
   "outputs": [],
   "source": [
    "p = Point(3, 4)\n",
    "vars(p)"
   ]
  },
  {
   "cell_type": "markdown",
   "metadata": {},
   "source": [
    "For purposes of debugging, you might find it useful to keep this function handy:"
   ]
  },
  {
   "cell_type": "code",
   "execution_count": null,
   "metadata": {},
   "outputs": [],
   "source": [
    "def print_attributes(obj):\n",
    "    for attr in vars(obj):\n",
    "        print(attr, getattr(obj, attr))"
   ]
  },
  {
   "cell_type": "markdown",
   "metadata": {},
   "source": [
    "print_attributes traverses the dictionary and prints each attribute name and its corresponding\n",
    "value.\n",
    "\n",
    "The built-in function getattr takes an object and an attribute name (as a string) and returns\n",
    "the attribute’s value.\n",
    "\n",
    "\n",
    "### 17.11 Interface and implementation\n",
    "\n",
    "One of the goals of object-oriented design is to make software more maintainable, which\n",
    "means that you can keep the program working when other parts of the system change, and\n",
    "modify the program to meet new requirements.\n",
    "\n",
    "A design principle that helps achieve that goal is to keep interfaces separate from implementations.\n",
    "For objects, that means that the methods a class provides should not depend\n",
    "on how the attributes are represented.\n",
    "\n",
    "For example, in this chapter we developed a class that represents a time of day. Methods\n",
    "provided by this class include time_to_int, is_after, and add_time.\n",
    "\n",
    "We could implement those methods in several ways. The details of the implementation\n",
    "depend on how we represent time. In this chapter, the attributes of a Time object are hour,\n",
    "minute, and second.\n",
    "\n",
    "As an alternative, we could replace these attributes with a single integer representing the\n",
    "number of seconds since midnight. This implementation would make some methods, like\n",
    "is_after, easier to write, but it makes other methods harder.\n",
    "\n",
    "After you deploy a new class, you might discover a better implementation. If other parts\n",
    "of the program are using your class, it might be time-consuming and error-prone to change\n",
    "the interface.\n",
    "\n",
    "But if you designed the interface carefully, you can change the implementation without\n",
    "changing the interface, which means that other parts of the program don’t have to change.\n",
    "\n",
    "\n",
    "### 17.12 Glossary\n",
    "\n",
    "**object-oriented language:** A language that provides features, such as programmerdefined\n",
    "types and methods, that facilitate object-oriented programming.\n",
    "\n",
    "**object-oriented programming:** A style of programming in which data and the operations\n",
    "that manipulate it are organized into classes and methods.\n",
    "\n",
    "**method:** A function that is defined inside a class definition and is invoked on instances of\n",
    "that class.\n",
    "\n",
    "**subject:** The object a method is invoked on.\n",
    "\n",
    "**positional argument:** An argument that does not include a parameter name, so it is not a\n",
    "keyword argument.\n",
    "\n",
    "**operator overloading:** Changing the behavior of an operator like + so it works with a\n",
    "programmer-defined type.\n",
    "\n",
    "**type-based dispatch:** A programming pattern that checks the type of an operand and invokes\n",
    "different functions for different types.\n",
    "\n",
    "**polymorphic:** Pertaining to a function that can work with more than one type.\n",
    "\n",
    "**information hiding:** The principle that the interface provided by an object should not depend\n",
    "on its implementation, in particular the representation of its attributes.\n",
    "\n",
    "\n",
    "### 17.13 Exercises\n",
    "\n",
    "#### Exercise 17.1.\n",
    "Download the code from this chapter from http://thinkpython2.com/code/Time2.py . Change the attributes of Time to be a single integer representing seconds since midnight.\n",
    "\n",
    "Then modify the methods (and the function int_to_time) to work with the new implementation.\n",
    "You should not have to modify the test code in main. When you are done, the output should\n",
    "be the same as before. \n",
    "\n",
    "Solution: http://thinkpython2.com/code/Time2_soln.py ."
   ]
  },
  {
   "cell_type": "code",
   "execution_count": null,
   "metadata": {},
   "outputs": [],
   "source": []
  },
  {
   "cell_type": "markdown",
   "metadata": {},
   "source": [
    "#### Exercise 17.2. \n",
    "This exercise is a cautionary tale about one of the most common, and difficult to\n",
    "find, errors in Python. Write a definition for a class named Kangaroo with the following methods:\n",
    "\n",
    "1. An \\_\\_init\\_\\_ method that initializes an attribute named pouch_contents to an empty list.<br><br>\n",
    "2. A method named put_in_pouch that takes an object of any type and adds it to\n",
    "pouch_contents.<br><br>\n",
    "3. A \\_\\_str\\_\\_ method that returns a string representation of the Kangaroo object and the contents\n",
    "of the pouch.\n",
    "\n",
    "Test your code by creating two Kangaroo objects, assigning them to variables named kanga and\n",
    "roo, and then adding roo to the contents of kanga’s pouch.\n",
    "\n",
    "Download http://thinkpython2.com/code/BadKangaroo.py . It contains a solution to the\n",
    "previous problem with one big, nasty bug. Find and fix the bug.\n",
    "\n",
    "If you get stuck, you can download http://thinkpython2.com/code/GoodKangaroo.py ,\n",
    "which explains the problem and demonstrates a solution."
   ]
  },
  {
   "cell_type": "code",
   "execution_count": null,
   "metadata": {},
   "outputs": [],
   "source": []
  },
  {
   "cell_type": "markdown",
   "metadata": {},
   "source": [
    "Source material from:\n",
    "\n",
    "Think Python<br>\n",
    "How to Think Like a Computer Scientist<br>\n",
    "2nd Edition, Version 2.2.23<br>\n",
    "Allen Downey<br>\n",
    "Copyright © 2015 Allen Downey. <br>\n",
    "<br>\n",
    "Source material used under the Creative Commons Attribution-NonCommercial 3.0 Unported License. To view a copy of this license, visit http://creativecommons.org/licenses/by-nc/3.0/ or send a letter to Creative Commons, PO Box 1866, Mountain View, CA 94042, USA.\n",
    "\n",
    "\n",
    "Adapted to Jupyter Notebooks with additional material by Warren Watts, Copyright © 2018"
   ]
  }
 ],
 "metadata": {
  "kernelspec": {
   "display_name": "Python 3",
   "language": "python",
   "name": "python3"
  },
  "language_info": {
   "codemirror_mode": {
    "name": "ipython",
    "version": 3
   },
   "file_extension": ".py",
   "mimetype": "text/x-python",
   "name": "python",
   "nbconvert_exporter": "python",
   "pygments_lexer": "ipython3",
   "version": "3.7.0"
  }
 },
 "nbformat": 4,
 "nbformat_minor": 2
}
